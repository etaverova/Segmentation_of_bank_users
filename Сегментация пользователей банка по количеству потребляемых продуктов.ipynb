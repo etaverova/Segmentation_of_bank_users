{
 "cells": [
  {
   "cell_type": "markdown",
   "metadata": {},
   "source": [
    "# Сегментация пользователей банка по количеству потребляемых продуктов"
   ]
  },
  {
   "cell_type": "markdown",
   "metadata": {},
   "source": [
    "Анализ клиентов регионального банка и сегментация пользователей по количеству потребляемых продуктов."
   ]
  },
  {
   "cell_type": "markdown",
   "metadata": {},
   "source": [
    "## Материалы"
   ]
  },
  {
   "cell_type": "markdown",
   "metadata": {},
   "source": [
    "Презентация"
   ]
  },
  {
   "cell_type": "markdown",
   "metadata": {},
   "source": [
    "<https://disk.yandex.ee/i/QB8kEH4h91SqbQ>"
   ]
  },
  {
   "cell_type": "markdown",
   "metadata": {},
   "source": [
    "Дашборд"
   ]
  },
  {
   "cell_type": "markdown",
   "metadata": {},
   "source": [
    "<https://public.tableau.com/app/profile/elizaveta.taverova/viz/_16891657611450/Dashboard1?publish=yes>"
   ]
  },
  {
   "cell_type": "markdown",
   "metadata": {},
   "source": [
    "## Загрузка данных"
   ]
  },
  {
   "cell_type": "markdown",
   "metadata": {},
   "source": [
    "### Импорт библиотек"
   ]
  },
  {
   "cell_type": "code",
   "execution_count": 2,
   "metadata": {},
   "outputs": [],
   "source": [
    "import pandas as pd\n",
    "import numpy as np\n",
    "import matplotlib as mpl\n",
    "import matplotlib.pyplot as plt\n",
    "import seaborn as sns\n",
    "import plotly.express as px\n",
    "import scipy.stats as stats\n",
    "\n",
    "from plotly import graph_objects as go\n",
    "from IPython.display import set_matplotlib_formats\n",
    "from pandas.plotting import register_matplotlib_converters"
   ]
  },
  {
   "cell_type": "markdown",
   "metadata": {},
   "source": [
    "### Открытие файла и изучение данных"
   ]
  },
  {
   "cell_type": "code",
   "execution_count": 3,
   "metadata": {},
   "outputs": [],
   "source": [
    "df = pd.read_csv('https://code.s3.yandex.net/datasets/bank_scrooge.csv')"
   ]
  },
  {
   "cell_type": "code",
   "execution_count": 4,
   "metadata": {},
   "outputs": [
    {
     "data": {
      "text/html": [
       "<div>\n",
       "<style scoped>\n",
       "    .dataframe tbody tr th:only-of-type {\n",
       "        vertical-align: middle;\n",
       "    }\n",
       "\n",
       "    .dataframe tbody tr th {\n",
       "        vertical-align: top;\n",
       "    }\n",
       "\n",
       "    .dataframe thead th {\n",
       "        text-align: right;\n",
       "    }\n",
       "</style>\n",
       "<table border=\"1\" class=\"dataframe\">\n",
       "  <thead>\n",
       "    <tr style=\"text-align: right;\">\n",
       "      <th></th>\n",
       "      <th>USERID</th>\n",
       "      <th>score</th>\n",
       "      <th>city</th>\n",
       "      <th>gender</th>\n",
       "      <th>age</th>\n",
       "      <th>equity</th>\n",
       "      <th>balance</th>\n",
       "      <th>products</th>\n",
       "      <th>credit_card</th>\n",
       "      <th>last_activity</th>\n",
       "      <th>EST_SALARY</th>\n",
       "      <th>churn</th>\n",
       "    </tr>\n",
       "  </thead>\n",
       "  <tbody>\n",
       "    <tr>\n",
       "      <th>0</th>\n",
       "      <td>183012</td>\n",
       "      <td>850.0</td>\n",
       "      <td>Рыбинск</td>\n",
       "      <td>Ж</td>\n",
       "      <td>25.0</td>\n",
       "      <td>1</td>\n",
       "      <td>59214.82</td>\n",
       "      <td>2</td>\n",
       "      <td>0</td>\n",
       "      <td>1</td>\n",
       "      <td>75719.14</td>\n",
       "      <td>1</td>\n",
       "    </tr>\n",
       "    <tr>\n",
       "      <th>1</th>\n",
       "      <td>146556</td>\n",
       "      <td>861.0</td>\n",
       "      <td>Рыбинск</td>\n",
       "      <td>Ж</td>\n",
       "      <td>37.0</td>\n",
       "      <td>5</td>\n",
       "      <td>850594.33</td>\n",
       "      <td>3</td>\n",
       "      <td>1</td>\n",
       "      <td>0</td>\n",
       "      <td>86621.77</td>\n",
       "      <td>0</td>\n",
       "    </tr>\n",
       "    <tr>\n",
       "      <th>2</th>\n",
       "      <td>120722</td>\n",
       "      <td>892.0</td>\n",
       "      <td>Рыбинск</td>\n",
       "      <td>Ж</td>\n",
       "      <td>30.0</td>\n",
       "      <td>0</td>\n",
       "      <td>NaN</td>\n",
       "      <td>1</td>\n",
       "      <td>1</td>\n",
       "      <td>1</td>\n",
       "      <td>107683.34</td>\n",
       "      <td>0</td>\n",
       "    </tr>\n",
       "    <tr>\n",
       "      <th>3</th>\n",
       "      <td>225363</td>\n",
       "      <td>866.0</td>\n",
       "      <td>Ярославль</td>\n",
       "      <td>Ж</td>\n",
       "      <td>51.0</td>\n",
       "      <td>5</td>\n",
       "      <td>1524746.26</td>\n",
       "      <td>2</td>\n",
       "      <td>0</td>\n",
       "      <td>1</td>\n",
       "      <td>174423.53</td>\n",
       "      <td>1</td>\n",
       "    </tr>\n",
       "    <tr>\n",
       "      <th>4</th>\n",
       "      <td>157978</td>\n",
       "      <td>730.0</td>\n",
       "      <td>Ярославль</td>\n",
       "      <td>М</td>\n",
       "      <td>34.0</td>\n",
       "      <td>5</td>\n",
       "      <td>174.00</td>\n",
       "      <td>1</td>\n",
       "      <td>1</td>\n",
       "      <td>0</td>\n",
       "      <td>67353.16</td>\n",
       "      <td>1</td>\n",
       "    </tr>\n",
       "    <tr>\n",
       "      <th>5</th>\n",
       "      <td>202305</td>\n",
       "      <td>856.0</td>\n",
       "      <td>Рыбинск</td>\n",
       "      <td>М</td>\n",
       "      <td>56.0</td>\n",
       "      <td>4</td>\n",
       "      <td>863687.24</td>\n",
       "      <td>3</td>\n",
       "      <td>1</td>\n",
       "      <td>0</td>\n",
       "      <td>156619.80</td>\n",
       "      <td>0</td>\n",
       "    </tr>\n",
       "    <tr>\n",
       "      <th>6</th>\n",
       "      <td>177259</td>\n",
       "      <td>807.0</td>\n",
       "      <td>Ярославль</td>\n",
       "      <td>Ж</td>\n",
       "      <td>39.0</td>\n",
       "      <td>3</td>\n",
       "      <td>405042.44</td>\n",
       "      <td>3</td>\n",
       "      <td>0</td>\n",
       "      <td>1</td>\n",
       "      <td>103838.32</td>\n",
       "      <td>0</td>\n",
       "    </tr>\n",
       "    <tr>\n",
       "      <th>7</th>\n",
       "      <td>218868</td>\n",
       "      <td>825.0</td>\n",
       "      <td>Ярославль</td>\n",
       "      <td>Ж</td>\n",
       "      <td>38.0</td>\n",
       "      <td>4</td>\n",
       "      <td>458145.40</td>\n",
       "      <td>2</td>\n",
       "      <td>1</td>\n",
       "      <td>1</td>\n",
       "      <td>68085.48</td>\n",
       "      <td>0</td>\n",
       "    </tr>\n",
       "    <tr>\n",
       "      <th>8</th>\n",
       "      <td>211686</td>\n",
       "      <td>923.0</td>\n",
       "      <td>Ярославль</td>\n",
       "      <td>М</td>\n",
       "      <td>54.0</td>\n",
       "      <td>5</td>\n",
       "      <td>1206337.87</td>\n",
       "      <td>2</td>\n",
       "      <td>1</td>\n",
       "      <td>0</td>\n",
       "      <td>155371.79</td>\n",
       "      <td>0</td>\n",
       "    </tr>\n",
       "    <tr>\n",
       "      <th>9</th>\n",
       "      <td>133130</td>\n",
       "      <td>906.0</td>\n",
       "      <td>Ярославль</td>\n",
       "      <td>Ж</td>\n",
       "      <td>67.0</td>\n",
       "      <td>0</td>\n",
       "      <td>NaN</td>\n",
       "      <td>1</td>\n",
       "      <td>0</td>\n",
       "      <td>1</td>\n",
       "      <td>238055.53</td>\n",
       "      <td>0</td>\n",
       "    </tr>\n",
       "    <tr>\n",
       "      <th>10</th>\n",
       "      <td>148929</td>\n",
       "      <td>927.0</td>\n",
       "      <td>Ростов</td>\n",
       "      <td>М</td>\n",
       "      <td>52.0</td>\n",
       "      <td>0</td>\n",
       "      <td>NaN</td>\n",
       "      <td>1</td>\n",
       "      <td>1</td>\n",
       "      <td>1</td>\n",
       "      <td>196820.07</td>\n",
       "      <td>0</td>\n",
       "    </tr>\n",
       "    <tr>\n",
       "      <th>11</th>\n",
       "      <td>172184</td>\n",
       "      <td>921.0</td>\n",
       "      <td>Ростов</td>\n",
       "      <td>М</td>\n",
       "      <td>41.0</td>\n",
       "      <td>0</td>\n",
       "      <td>NaN</td>\n",
       "      <td>1</td>\n",
       "      <td>1</td>\n",
       "      <td>1</td>\n",
       "      <td>217469.48</td>\n",
       "      <td>0</td>\n",
       "    </tr>\n",
       "    <tr>\n",
       "      <th>12</th>\n",
       "      <td>132970</td>\n",
       "      <td>845.0</td>\n",
       "      <td>Ярославль</td>\n",
       "      <td>Ж</td>\n",
       "      <td>31.0</td>\n",
       "      <td>3</td>\n",
       "      <td>591928.52</td>\n",
       "      <td>2</td>\n",
       "      <td>1</td>\n",
       "      <td>1</td>\n",
       "      <td>112697.16</td>\n",
       "      <td>1</td>\n",
       "    </tr>\n",
       "    <tr>\n",
       "      <th>13</th>\n",
       "      <td>166357</td>\n",
       "      <td>837.0</td>\n",
       "      <td>Рыбинск</td>\n",
       "      <td>Ж</td>\n",
       "      <td>28.0</td>\n",
       "      <td>4</td>\n",
       "      <td>302249.22</td>\n",
       "      <td>2</td>\n",
       "      <td>0</td>\n",
       "      <td>1</td>\n",
       "      <td>30950.94</td>\n",
       "      <td>0</td>\n",
       "    </tr>\n",
       "    <tr>\n",
       "      <th>14</th>\n",
       "      <td>172138</td>\n",
       "      <td>815.0</td>\n",
       "      <td>Ярославль</td>\n",
       "      <td>М</td>\n",
       "      <td>35.0</td>\n",
       "      <td>5</td>\n",
       "      <td>547499.87</td>\n",
       "      <td>2</td>\n",
       "      <td>1</td>\n",
       "      <td>1</td>\n",
       "      <td>105883.26</td>\n",
       "      <td>0</td>\n",
       "    </tr>\n",
       "  </tbody>\n",
       "</table>\n",
       "</div>"
      ],
      "text/plain": [
       "    USERID  score       city gender   age  equity     balance  products  \\\n",
       "0   183012  850.0    Рыбинск      Ж  25.0       1    59214.82         2   \n",
       "1   146556  861.0    Рыбинск      Ж  37.0       5   850594.33         3   \n",
       "2   120722  892.0    Рыбинск      Ж  30.0       0         NaN         1   \n",
       "3   225363  866.0  Ярославль      Ж  51.0       5  1524746.26         2   \n",
       "4   157978  730.0  Ярославль      М  34.0       5      174.00         1   \n",
       "5   202305  856.0    Рыбинск      М  56.0       4   863687.24         3   \n",
       "6   177259  807.0  Ярославль      Ж  39.0       3   405042.44         3   \n",
       "7   218868  825.0  Ярославль      Ж  38.0       4   458145.40         2   \n",
       "8   211686  923.0  Ярославль      М  54.0       5  1206337.87         2   \n",
       "9   133130  906.0  Ярославль      Ж  67.0       0         NaN         1   \n",
       "10  148929  927.0     Ростов      М  52.0       0         NaN         1   \n",
       "11  172184  921.0     Ростов      М  41.0       0         NaN         1   \n",
       "12  132970  845.0  Ярославль      Ж  31.0       3   591928.52         2   \n",
       "13  166357  837.0    Рыбинск      Ж  28.0       4   302249.22         2   \n",
       "14  172138  815.0  Ярославль      М  35.0       5   547499.87         2   \n",
       "\n",
       "    credit_card  last_activity  EST_SALARY  churn  \n",
       "0             0              1    75719.14      1  \n",
       "1             1              0    86621.77      0  \n",
       "2             1              1   107683.34      0  \n",
       "3             0              1   174423.53      1  \n",
       "4             1              0    67353.16      1  \n",
       "5             1              0   156619.80      0  \n",
       "6             0              1   103838.32      0  \n",
       "7             1              1    68085.48      0  \n",
       "8             1              0   155371.79      0  \n",
       "9             0              1   238055.53      0  \n",
       "10            1              1   196820.07      0  \n",
       "11            1              1   217469.48      0  \n",
       "12            1              1   112697.16      1  \n",
       "13            0              1    30950.94      0  \n",
       "14            1              1   105883.26      0  "
      ]
     },
     "execution_count": 4,
     "metadata": {},
     "output_type": "execute_result"
    }
   ],
   "source": [
    "df.head(15)"
   ]
  },
  {
   "cell_type": "code",
   "execution_count": 5,
   "metadata": {},
   "outputs": [
    {
     "name": "stdout",
     "output_type": "stream",
     "text": [
      "<class 'pandas.core.frame.DataFrame'>\n",
      "RangeIndex: 10000 entries, 0 to 9999\n",
      "Data columns (total 12 columns):\n",
      " #   Column         Non-Null Count  Dtype  \n",
      "---  ------         --------------  -----  \n",
      " 0   USERID         10000 non-null  int64  \n",
      " 1   score          10000 non-null  float64\n",
      " 2   city           10000 non-null  object \n",
      " 3   gender         10000 non-null  object \n",
      " 4   age            9974 non-null   float64\n",
      " 5   equity         10000 non-null  int64  \n",
      " 6   balance        7705 non-null   float64\n",
      " 7   products       10000 non-null  int64  \n",
      " 8   credit_card    10000 non-null  int64  \n",
      " 9   last_activity  10000 non-null  int64  \n",
      " 10  EST_SALARY     10000 non-null  float64\n",
      " 11  churn          10000 non-null  int64  \n",
      "dtypes: float64(4), int64(6), object(2)\n",
      "memory usage: 937.6+ KB\n"
     ]
    }
   ],
   "source": [
    "df.info()"
   ]
  },
  {
   "cell_type": "code",
   "execution_count": 6,
   "metadata": {},
   "outputs": [
    {
     "data": {
      "text/html": [
       "<div>\n",
       "<style scoped>\n",
       "    .dataframe tbody tr th:only-of-type {\n",
       "        vertical-align: middle;\n",
       "    }\n",
       "\n",
       "    .dataframe tbody tr th {\n",
       "        vertical-align: top;\n",
       "    }\n",
       "\n",
       "    .dataframe thead th {\n",
       "        text-align: right;\n",
       "    }\n",
       "</style>\n",
       "<table border=\"1\" class=\"dataframe\">\n",
       "  <thead>\n",
       "    <tr style=\"text-align: right;\">\n",
       "      <th></th>\n",
       "      <th>USERID</th>\n",
       "      <th>score</th>\n",
       "      <th>age</th>\n",
       "      <th>equity</th>\n",
       "      <th>balance</th>\n",
       "      <th>products</th>\n",
       "      <th>credit_card</th>\n",
       "      <th>last_activity</th>\n",
       "      <th>EST_SALARY</th>\n",
       "      <th>churn</th>\n",
       "    </tr>\n",
       "  </thead>\n",
       "  <tbody>\n",
       "    <tr>\n",
       "      <th>count</th>\n",
       "      <td>10000.0</td>\n",
       "      <td>10000.0</td>\n",
       "      <td>9974.0</td>\n",
       "      <td>10000.0</td>\n",
       "      <td>7705.0</td>\n",
       "      <td>10000.0</td>\n",
       "      <td>10000.0</td>\n",
       "      <td>10000.0</td>\n",
       "      <td>10000.0</td>\n",
       "      <td>10000.0</td>\n",
       "    </tr>\n",
       "    <tr>\n",
       "      <th>mean</th>\n",
       "      <td>171815.0</td>\n",
       "      <td>849.0</td>\n",
       "      <td>43.0</td>\n",
       "      <td>3.0</td>\n",
       "      <td>827794.0</td>\n",
       "      <td>2.0</td>\n",
       "      <td>1.0</td>\n",
       "      <td>1.0</td>\n",
       "      <td>147867.0</td>\n",
       "      <td>0.0</td>\n",
       "    </tr>\n",
       "    <tr>\n",
       "      <th>std</th>\n",
       "      <td>33708.0</td>\n",
       "      <td>65.0</td>\n",
       "      <td>12.0</td>\n",
       "      <td>2.0</td>\n",
       "      <td>1980614.0</td>\n",
       "      <td>1.0</td>\n",
       "      <td>0.0</td>\n",
       "      <td>0.0</td>\n",
       "      <td>139389.0</td>\n",
       "      <td>0.0</td>\n",
       "    </tr>\n",
       "    <tr>\n",
       "      <th>min</th>\n",
       "      <td>94561.0</td>\n",
       "      <td>642.0</td>\n",
       "      <td>18.0</td>\n",
       "      <td>0.0</td>\n",
       "      <td>0.0</td>\n",
       "      <td>0.0</td>\n",
       "      <td>0.0</td>\n",
       "      <td>0.0</td>\n",
       "      <td>2546.0</td>\n",
       "      <td>0.0</td>\n",
       "    </tr>\n",
       "    <tr>\n",
       "      <th>25%</th>\n",
       "      <td>142810.0</td>\n",
       "      <td>802.0</td>\n",
       "      <td>33.0</td>\n",
       "      <td>0.0</td>\n",
       "      <td>295554.0</td>\n",
       "      <td>1.0</td>\n",
       "      <td>0.0</td>\n",
       "      <td>0.0</td>\n",
       "      <td>75252.0</td>\n",
       "      <td>0.0</td>\n",
       "    </tr>\n",
       "    <tr>\n",
       "      <th>50%</th>\n",
       "      <td>172728.0</td>\n",
       "      <td>853.0</td>\n",
       "      <td>40.0</td>\n",
       "      <td>3.0</td>\n",
       "      <td>524272.0</td>\n",
       "      <td>2.0</td>\n",
       "      <td>1.0</td>\n",
       "      <td>1.0</td>\n",
       "      <td>119658.0</td>\n",
       "      <td>0.0</td>\n",
       "    </tr>\n",
       "    <tr>\n",
       "      <th>75%</th>\n",
       "      <td>201262.0</td>\n",
       "      <td>900.0</td>\n",
       "      <td>51.0</td>\n",
       "      <td>4.0</td>\n",
       "      <td>980706.0</td>\n",
       "      <td>2.0</td>\n",
       "      <td>1.0</td>\n",
       "      <td>1.0</td>\n",
       "      <td>174501.0</td>\n",
       "      <td>0.0</td>\n",
       "    </tr>\n",
       "    <tr>\n",
       "      <th>max</th>\n",
       "      <td>229145.0</td>\n",
       "      <td>1000.0</td>\n",
       "      <td>86.0</td>\n",
       "      <td>9.0</td>\n",
       "      <td>119113552.0</td>\n",
       "      <td>5.0</td>\n",
       "      <td>1.0</td>\n",
       "      <td>1.0</td>\n",
       "      <td>1395064.0</td>\n",
       "      <td>1.0</td>\n",
       "    </tr>\n",
       "  </tbody>\n",
       "</table>\n",
       "</div>"
      ],
      "text/plain": [
       "         USERID    score     age   equity      balance  products  credit_card  \\\n",
       "count   10000.0  10000.0  9974.0  10000.0       7705.0   10000.0      10000.0   \n",
       "mean   171815.0    849.0    43.0      3.0     827794.0       2.0          1.0   \n",
       "std     33708.0     65.0    12.0      2.0    1980614.0       1.0          0.0   \n",
       "min     94561.0    642.0    18.0      0.0          0.0       0.0          0.0   \n",
       "25%    142810.0    802.0    33.0      0.0     295554.0       1.0          0.0   \n",
       "50%    172728.0    853.0    40.0      3.0     524272.0       2.0          1.0   \n",
       "75%    201262.0    900.0    51.0      4.0     980706.0       2.0          1.0   \n",
       "max    229145.0   1000.0    86.0      9.0  119113552.0       5.0          1.0   \n",
       "\n",
       "       last_activity  EST_SALARY    churn  \n",
       "count        10000.0     10000.0  10000.0  \n",
       "mean             1.0    147867.0      0.0  \n",
       "std              0.0    139389.0      0.0  \n",
       "min              0.0      2546.0      0.0  \n",
       "25%              0.0     75252.0      0.0  \n",
       "50%              1.0    119658.0      0.0  \n",
       "75%              1.0    174501.0      0.0  \n",
       "max              1.0   1395064.0      1.0  "
      ]
     },
     "execution_count": 6,
     "metadata": {},
     "output_type": "execute_result"
    }
   ],
   "source": [
    "df.describe().round()"
   ]
  },
  {
   "cell_type": "markdown",
   "metadata": {},
   "source": [
    "### Вывод по пункту"
   ]
  },
  {
   "cell_type": "markdown",
   "metadata": {},
   "source": [
    "Таким образом, мы импортировали библиотеки, загрузили данные, изучили данные таблицы и основную информацию."
   ]
  },
  {
   "cell_type": "markdown",
   "metadata": {},
   "source": [
    "## Предобработка данных"
   ]
  },
  {
   "cell_type": "markdown",
   "metadata": {},
   "source": [
    "### Проверка корректности наименований колонок"
   ]
  },
  {
   "cell_type": "code",
   "execution_count": 7,
   "metadata": {},
   "outputs": [
    {
     "data": {
      "text/plain": [
       "Index(['USERID', 'score', 'city', 'gender', 'age', 'equity', 'balance',\n",
       "       'products', 'credit_card', 'last_activity', 'EST_SALARY', 'churn'],\n",
       "      dtype='object')"
      ]
     },
     "execution_count": 7,
     "metadata": {},
     "output_type": "execute_result"
    }
   ],
   "source": [
    "df.columns"
   ]
  },
  {
   "cell_type": "markdown",
   "metadata": {},
   "source": [
    "Необходимо и зменить имя колонки USERID на user_id и EST_SALARY на est_salary."
   ]
  },
  {
   "cell_type": "code",
   "execution_count": 8,
   "metadata": {},
   "outputs": [],
   "source": [
    "df.columns = df.columns.str.lower()\n",
    "df = df.rename(columns={'userid': 'user_id'})"
   ]
  },
  {
   "cell_type": "code",
   "execution_count": 9,
   "metadata": {
    "scrolled": true
   },
   "outputs": [
    {
     "data": {
      "text/plain": [
       "Index(['user_id', 'score', 'city', 'gender', 'age', 'equity', 'balance',\n",
       "       'products', 'credit_card', 'last_activity', 'est_salary', 'churn'],\n",
       "      dtype='object')"
      ]
     },
     "execution_count": 9,
     "metadata": {},
     "output_type": "execute_result"
    }
   ],
   "source": [
    "df.columns"
   ]
  },
  {
   "cell_type": "code",
   "execution_count": 10,
   "metadata": {
    "scrolled": false
   },
   "outputs": [
    {
     "data": {
      "image/png": "[encoded data removed]",
      "text/plain": [
       "<Figure size 1080x720 with 1 Axes>"
      ]
     },
     "metadata": {
      "needs_background": "light"
     },
     "output_type": "display_data"
    }
   ],
   "source": [
    "df.boxplot(column='products', by ='city',  figsize=(15, 10))\n",
    "plt.title('Распределение значений products', fontsize=16)\n",
    "plt.xlabel('Город', fontsize=14)\n",
    "plt.ylabel('Баланс', fontsize=14)\n",
    "plt.show()"
   ]
  },
  {
   "cell_type": "markdown",
   "metadata": {},
   "source": [
    "Ноль продуктов наблюдается только в городе Рыбинск, посмотрим, какое количество пользователей с 0 продуктов в датасете."
   ]
  },
  {
   "cell_type": "code",
   "execution_count": 11,
   "metadata": {},
   "outputs": [
    {
     "data": {
      "text/plain": [
       "1"
      ]
     },
     "execution_count": 11,
     "metadata": {},
     "output_type": "execute_result"
    }
   ],
   "source": [
    "df[df['products'] == 0]['user_id'].count()"
   ]
  },
  {
   "cell_type": "markdown",
   "metadata": {},
   "source": [
    "Так как всего 1 клиент не имеет продуктов вообще, можзет удалить эту аномалию."
   ]
  },
  {
   "cell_type": "code",
   "execution_count": 12,
   "metadata": {},
   "outputs": [],
   "source": [
    "df= df[df['products'] != 0]"
   ]
  },
  {
   "cell_type": "code",
   "execution_count": 13,
   "metadata": {},
   "outputs": [
    {
     "data": {
      "text/plain": [
       "0"
      ]
     },
     "execution_count": 13,
     "metadata": {},
     "output_type": "execute_result"
    }
   ],
   "source": [
    "df[df['products'] == 0]['user_id'].count()"
   ]
  },
  {
   "cell_type": "markdown",
   "metadata": {},
   "source": [
    "Таким образом, мы привели название колонок к корректному виду и убрали аномалию по продуктам."
   ]
  },
  {
   "cell_type": "markdown",
   "metadata": {},
   "source": [
    "### Проверка соотношения типов данных"
   ]
  },
  {
   "cell_type": "code",
   "execution_count": 14,
   "metadata": {},
   "outputs": [
    {
     "name": "stdout",
     "output_type": "stream",
     "text": [
      "<class 'pandas.core.frame.DataFrame'>\n",
      "Int64Index: 9999 entries, 0 to 9999\n",
      "Data columns (total 12 columns):\n",
      " #   Column         Non-Null Count  Dtype  \n",
      "---  ------         --------------  -----  \n",
      " 0   user_id        9999 non-null   int64  \n",
      " 1   score          9999 non-null   float64\n",
      " 2   city           9999 non-null   object \n",
      " 3   gender         9999 non-null   object \n",
      " 4   age            9973 non-null   float64\n",
      " 5   equity         9999 non-null   int64  \n",
      " 6   balance        7705 non-null   float64\n",
      " 7   products       9999 non-null   int64  \n",
      " 8   credit_card    9999 non-null   int64  \n",
      " 9   last_activity  9999 non-null   int64  \n",
      " 10  est_salary     9999 non-null   float64\n",
      " 11  churn          9999 non-null   int64  \n",
      "dtypes: float64(4), int64(6), object(2)\n",
      "memory usage: 1015.5+ KB\n"
     ]
    }
   ],
   "source": [
    "df.info()"
   ]
  },
  {
   "cell_type": "markdown",
   "metadata": {},
   "source": [
    "Все типы данных столбцов соответствуют содержимому. Менять типы данных не нужно."
   ]
  },
  {
   "cell_type": "markdown",
   "metadata": {},
   "source": [
    "### Исследование пропущенных значений"
   ]
  },
  {
   "cell_type": "markdown",
   "metadata": {},
   "source": [
    "Посмотрим количество пропусков по столбцам."
   ]
  },
  {
   "cell_type": "code",
   "execution_count": 15,
   "metadata": {},
   "outputs": [
    {
     "data": {
      "text/plain": [
       "user_id             0\n",
       "score               0\n",
       "city                0\n",
       "gender              0\n",
       "age                26\n",
       "equity              0\n",
       "balance          2294\n",
       "products            0\n",
       "credit_card         0\n",
       "last_activity       0\n",
       "est_salary          0\n",
       "churn               0\n",
       "dtype: int64"
      ]
     },
     "execution_count": 15,
     "metadata": {},
     "output_type": "execute_result"
    }
   ],
   "source": [
    "df.isna().sum()"
   ]
  },
  {
   "cell_type": "markdown",
   "metadata": {},
   "source": [
    "Посмотрим процент пропусков по столбцам."
   ]
  },
  {
   "cell_type": "code",
   "execution_count": 16,
   "metadata": {},
   "outputs": [
    {
     "data": {
      "text/plain": [
       "user_id             0\n",
       "score               0\n",
       "city                0\n",
       "gender              0\n",
       "age                26\n",
       "equity              0\n",
       "balance          2294\n",
       "products            0\n",
       "credit_card         0\n",
       "last_activity       0\n",
       "est_salary          0\n",
       "churn               0\n",
       "dtype: int64"
      ]
     },
     "execution_count": 16,
     "metadata": {},
     "output_type": "execute_result"
    }
   ],
   "source": [
    "df.isna().sum()"
   ]
  },
  {
   "cell_type": "code",
   "execution_count": 17,
   "metadata": {},
   "outputs": [
    {
     "data": {
      "text/plain": [
       "user_id           0.000000\n",
       "score             0.000000\n",
       "city              0.000000\n",
       "gender            0.000000\n",
       "age               0.260026\n",
       "equity            0.000000\n",
       "balance          22.942294\n",
       "products          0.000000\n",
       "credit_card       0.000000\n",
       "last_activity     0.000000\n",
       "est_salary        0.000000\n",
       "churn             0.000000\n",
       "dtype: float64"
      ]
     },
     "execution_count": 17,
     "metadata": {},
     "output_type": "execute_result"
    }
   ],
   "source": [
    "df.isna().sum()*100/len(df)"
   ]
  },
  {
   "cell_type": "markdown",
   "metadata": {},
   "source": [
    "Количество пропусков в столбце age незначительно, их можно удалить."
   ]
  },
  {
   "cell_type": "code",
   "execution_count": 18,
   "metadata": {},
   "outputs": [],
   "source": [
    "df = df.dropna(subset = ['age'])"
   ]
  },
  {
   "cell_type": "markdown",
   "metadata": {},
   "source": [
    "Посмотрим, зависят ли от чего-то пропуски в balance."
   ]
  },
  {
   "cell_type": "code",
   "execution_count": 20,
   "metadata": {},
   "outputs": [
    {
     "name": "stdout",
     "output_type": "stream",
     "text": [
      "Весь датасет ['Рыбинск' 'Ярославль' 'Ростов']\n",
      "С пропусками в балансе ['Рыбинск' 'Ярославль' 'Ростов']\n"
     ]
    }
   ],
   "source": [
    "print('Весь датасет',df['city'].unique())\n",
    "print('С пропусками в балансе',df[df['balance'].isnull()]['city'].unique())"
   ]
  },
  {
   "cell_type": "markdown",
   "metadata": {},
   "source": [
    "Пропуски встречаютсмя в каждом из городов."
   ]
  },
  {
   "cell_type": "code",
   "execution_count": 21,
   "metadata": {},
   "outputs": [
    {
     "name": "stdout",
     "output_type": "stream",
     "text": [
      "Весь датасет [2 3 1 4 5]\n",
      "С пропусками в балансе [1 2 3]\n"
     ]
    }
   ],
   "source": [
    "print('Весь датасет',df['products'].unique())\n",
    "print('С пропусками в балансе',df[df['balance'].isnull()]['products'].unique())"
   ]
  },
  {
   "cell_type": "code",
   "execution_count": 22,
   "metadata": {},
   "outputs": [
    {
     "name": "stdout",
     "output_type": "stream",
     "text": [
      "По категории 2 процент пропуска: 6.1535456143778084\n",
      "По категории 3 процент пропуска: 2.7938342967244703\n",
      "По категории 1 процент пропуска: 58.20042130604875\n",
      "По категории 4 процент пропуска: 0.0\n",
      "По категории 5 процент пропуска: 0.0\n"
     ]
    }
   ],
   "source": [
    "for i in df['products'].unique():\n",
    "    print('По категории', i, 'процент пропуска:', df[(df['balance'].isnull()) & (df['products'] == i)]['user_id'].count()*100/df[df['products'] == i]['user_id'].count())\n",
    "    "
   ]
  },
  {
   "cell_type": "markdown",
   "metadata": {},
   "source": [
    "Наибольших процент пропусков по количеству продуктов по 1 продукту у клиента. Заполним пропуски медианным значением по группам."
   ]
  },
  {
   "cell_type": "code",
   "execution_count": 23,
   "metadata": {},
   "outputs": [],
   "source": [
    "df['balance'].fillna(df['balance'].mean(), inplace = True)"
   ]
  },
  {
   "cell_type": "code",
   "execution_count": 24,
   "metadata": {},
   "outputs": [
    {
     "name": "stdout",
     "output_type": "stream",
     "text": [
      "Весь датасет [2 3 1 4 5]\n",
      "С пропусками в балансе []\n"
     ]
    }
   ],
   "source": [
    "print('Весь датасет',df['products'].unique())\n",
    "print('С пропусками в балансе',df[df['balance'].isnull()]['products'].unique())"
   ]
  },
  {
   "cell_type": "markdown",
   "metadata": {},
   "source": [
    "Посмотрим, есть ли выбросы в балансе."
   ]
  },
  {
   "cell_type": "code",
   "execution_count": 25,
   "metadata": {
    "scrolled": false
   },
   "outputs": [
    {
     "data": {
      "image/png": "[encoded data removed]",
      "text/plain": [
       "<Figure size 1080x720 with 1 Axes>"
      ]
     },
     "metadata": {
      "needs_background": "light"
     },
     "output_type": "display_data"
    }
   ],
   "source": [
    "df.boxplot(column='balance', by ='city',  figsize=(15, 10))\n",
    "plt.title('Распределение значений Balance', fontsize=16)\n",
    "plt.xlabel('Город', fontsize=14)\n",
    "plt.ylabel('Баланс', fontsize=14)\n",
    "plt.show()"
   ]
  },
  {
   "cell_type": "code",
   "execution_count": 26,
   "metadata": {},
   "outputs": [
    {
     "data": {
      "text/html": [
       "<div>\n",
       "<style scoped>\n",
       "    .dataframe tbody tr th:only-of-type {\n",
       "        vertical-align: middle;\n",
       "    }\n",
       "\n",
       "    .dataframe tbody tr th {\n",
       "        vertical-align: top;\n",
       "    }\n",
       "\n",
       "    .dataframe thead th {\n",
       "        text-align: right;\n",
       "    }\n",
       "</style>\n",
       "<table border=\"1\" class=\"dataframe\">\n",
       "  <thead>\n",
       "    <tr style=\"text-align: right;\">\n",
       "      <th></th>\n",
       "      <th>user_id</th>\n",
       "      <th>score</th>\n",
       "      <th>age</th>\n",
       "      <th>equity</th>\n",
       "      <th>balance</th>\n",
       "      <th>products</th>\n",
       "      <th>credit_card</th>\n",
       "      <th>last_activity</th>\n",
       "      <th>est_salary</th>\n",
       "      <th>churn</th>\n",
       "    </tr>\n",
       "  </thead>\n",
       "  <tbody>\n",
       "    <tr>\n",
       "      <th>count</th>\n",
       "      <td>9973.0</td>\n",
       "      <td>9973.0</td>\n",
       "      <td>9973.0</td>\n",
       "      <td>9973.0</td>\n",
       "      <td>9973.0</td>\n",
       "      <td>9973.0</td>\n",
       "      <td>9973.0</td>\n",
       "      <td>9973.0</td>\n",
       "      <td>9973.0</td>\n",
       "      <td>9973.0</td>\n",
       "    </tr>\n",
       "    <tr>\n",
       "      <th>mean</th>\n",
       "      <td>171758.0</td>\n",
       "      <td>849.0</td>\n",
       "      <td>43.0</td>\n",
       "      <td>3.0</td>\n",
       "      <td>827246.0</td>\n",
       "      <td>2.0</td>\n",
       "      <td>1.0</td>\n",
       "      <td>1.0</td>\n",
       "      <td>147799.0</td>\n",
       "      <td>0.0</td>\n",
       "    </tr>\n",
       "    <tr>\n",
       "      <th>std</th>\n",
       "      <td>33696.0</td>\n",
       "      <td>65.0</td>\n",
       "      <td>12.0</td>\n",
       "      <td>2.0</td>\n",
       "      <td>1739490.0</td>\n",
       "      <td>1.0</td>\n",
       "      <td>0.0</td>\n",
       "      <td>0.0</td>\n",
       "      <td>139287.0</td>\n",
       "      <td>0.0</td>\n",
       "    </tr>\n",
       "    <tr>\n",
       "      <th>min</th>\n",
       "      <td>94561.0</td>\n",
       "      <td>642.0</td>\n",
       "      <td>18.0</td>\n",
       "      <td>0.0</td>\n",
       "      <td>0.0</td>\n",
       "      <td>1.0</td>\n",
       "      <td>0.0</td>\n",
       "      <td>0.0</td>\n",
       "      <td>2546.0</td>\n",
       "      <td>0.0</td>\n",
       "    </tr>\n",
       "    <tr>\n",
       "      <th>25%</th>\n",
       "      <td>142757.0</td>\n",
       "      <td>802.0</td>\n",
       "      <td>33.0</td>\n",
       "      <td>0.0</td>\n",
       "      <td>356952.0</td>\n",
       "      <td>1.0</td>\n",
       "      <td>0.0</td>\n",
       "      <td>0.0</td>\n",
       "      <td>75252.0</td>\n",
       "      <td>0.0</td>\n",
       "    </tr>\n",
       "    <tr>\n",
       "      <th>50%</th>\n",
       "      <td>172651.0</td>\n",
       "      <td>853.0</td>\n",
       "      <td>40.0</td>\n",
       "      <td>3.0</td>\n",
       "      <td>747894.0</td>\n",
       "      <td>2.0</td>\n",
       "      <td>1.0</td>\n",
       "      <td>1.0</td>\n",
       "      <td>119643.0</td>\n",
       "      <td>0.0</td>\n",
       "    </tr>\n",
       "    <tr>\n",
       "      <th>75%</th>\n",
       "      <td>201164.0</td>\n",
       "      <td>900.0</td>\n",
       "      <td>51.0</td>\n",
       "      <td>4.0</td>\n",
       "      <td>827246.0</td>\n",
       "      <td>2.0</td>\n",
       "      <td>1.0</td>\n",
       "      <td>1.0</td>\n",
       "      <td>174500.0</td>\n",
       "      <td>0.0</td>\n",
       "    </tr>\n",
       "    <tr>\n",
       "      <th>max</th>\n",
       "      <td>229145.0</td>\n",
       "      <td>1000.0</td>\n",
       "      <td>86.0</td>\n",
       "      <td>9.0</td>\n",
       "      <td>119113552.0</td>\n",
       "      <td>5.0</td>\n",
       "      <td>1.0</td>\n",
       "      <td>1.0</td>\n",
       "      <td>1395064.0</td>\n",
       "      <td>1.0</td>\n",
       "    </tr>\n",
       "  </tbody>\n",
       "</table>\n",
       "</div>"
      ],
      "text/plain": [
       "        user_id   score     age  equity      balance  products  credit_card  \\\n",
       "count    9973.0  9973.0  9973.0  9973.0       9973.0    9973.0       9973.0   \n",
       "mean   171758.0   849.0    43.0     3.0     827246.0       2.0          1.0   \n",
       "std     33696.0    65.0    12.0     2.0    1739490.0       1.0          0.0   \n",
       "min     94561.0   642.0    18.0     0.0          0.0       1.0          0.0   \n",
       "25%    142757.0   802.0    33.0     0.0     356952.0       1.0          0.0   \n",
       "50%    172651.0   853.0    40.0     3.0     747894.0       2.0          1.0   \n",
       "75%    201164.0   900.0    51.0     4.0     827246.0       2.0          1.0   \n",
       "max    229145.0  1000.0    86.0     9.0  119113552.0       5.0          1.0   \n",
       "\n",
       "       last_activity  est_salary   churn  \n",
       "count         9973.0      9973.0  9973.0  \n",
       "mean             1.0    147799.0     0.0  \n",
       "std              0.0    139287.0     0.0  \n",
       "min              0.0      2546.0     0.0  \n",
       "25%              0.0     75252.0     0.0  \n",
       "50%              1.0    119643.0     0.0  \n",
       "75%              1.0    174500.0     0.0  \n",
       "max              1.0   1395064.0     1.0  "
      ]
     },
     "execution_count": 26,
     "metadata": {},
     "output_type": "execute_result"
    }
   ],
   "source": [
    "df.describe().round()"
   ]
  },
  {
   "cell_type": "code",
   "execution_count": 27,
   "metadata": {},
   "outputs": [
    {
     "data": {
      "text/plain": [
       "7597    119113552.0\n",
       "1059     64866210.0\n",
       "1846     43277100.0\n",
       "4721     29008932.0\n",
       "9753     25727762.0\n",
       "           ...     \n",
       "2876           20.0\n",
       "3918            7.0\n",
       "6164            6.0\n",
       "3900            0.0\n",
       "6757            0.0\n",
       "Name: balance, Length: 9973, dtype: float64"
      ]
     },
     "execution_count": 27,
     "metadata": {},
     "output_type": "execute_result"
    }
   ],
   "source": [
    "df['balance'].round().sort_values(ascending=False)"
   ]
  },
  {
   "cell_type": "code",
   "execution_count": 28,
   "metadata": {},
   "outputs": [],
   "source": [
    "balance_lim = 29008932"
   ]
  },
  {
   "cell_type": "markdown",
   "metadata": {},
   "source": [
    "Удалим выбросы."
   ]
  },
  {
   "cell_type": "code",
   "execution_count": 29,
   "metadata": {},
   "outputs": [],
   "source": [
    "df_new = df[df['balance'] > balance_lim]\n",
    "df = df.query('index not in @df_new.index')"
   ]
  },
  {
   "cell_type": "markdown",
   "metadata": {},
   "source": [
    "### Исследование дубликатов"
   ]
  },
  {
   "cell_type": "code",
   "execution_count": 30,
   "metadata": {},
   "outputs": [
    {
     "data": {
      "text/plain": [
       "0"
      ]
     },
     "execution_count": 30,
     "metadata": {},
     "output_type": "execute_result"
    }
   ],
   "source": [
    "df.duplicated().sum()"
   ]
  },
  {
   "cell_type": "markdown",
   "metadata": {},
   "source": [
    "Явных дубликатов нет. Проверим дубликаты по user_id."
   ]
  },
  {
   "cell_type": "code",
   "execution_count": 31,
   "metadata": {
    "scrolled": true
   },
   "outputs": [
    {
     "data": {
      "text/plain": [
       "50"
      ]
     },
     "execution_count": 31,
     "metadata": {},
     "output_type": "execute_result"
    }
   ],
   "source": [
    "df['user_id'].duplicated().sum()"
   ]
  },
  {
   "cell_type": "code",
   "execution_count": 32,
   "metadata": {},
   "outputs": [
    {
     "data": {
      "text/plain": [
       "9970"
      ]
     },
     "execution_count": 32,
     "metadata": {},
     "output_type": "execute_result"
    }
   ],
   "source": [
    "len(df)"
   ]
  },
  {
   "cell_type": "code",
   "execution_count": 33,
   "metadata": {},
   "outputs": [
    {
     "name": "stdout",
     "output_type": "stream",
     "text": [
      "Процент дубликатов по столбцу user_id:  0.5015045135406219\n"
     ]
    }
   ],
   "source": [
    "print('Процент дубликатов по столбцу user_id: ',df['user_id'].duplicated().sum()*100/len(df))"
   ]
  },
  {
   "cell_type": "markdown",
   "metadata": {},
   "source": [
    "Достаточно небольшое количество дубликатов, поэтому их можно удалить."
   ]
  },
  {
   "cell_type": "code",
   "execution_count": 34,
   "metadata": {},
   "outputs": [
    {
     "data": {
      "text/plain": [
       "0"
      ]
     },
     "execution_count": 34,
     "metadata": {},
     "output_type": "execute_result"
    }
   ],
   "source": [
    "df = df.drop_duplicates(subset=['user_id'])\n",
    "df['user_id'].duplicated().sum()"
   ]
  },
  {
   "cell_type": "markdown",
   "metadata": {},
   "source": [
    "### Кодировка городов и пола"
   ]
  },
  {
   "cell_type": "code",
   "execution_count": 35,
   "metadata": {},
   "outputs": [],
   "source": [
    "df['gender'] = df['gender'].map({'М':1, 'Ж':0})\n",
    "df['city'].map({'Ярославль':0, 'Рыбинск':1, 'Ростов':2})\n",
    "\n",
    "df = pd.get_dummies(df)"
   ]
  },
  {
   "cell_type": "markdown",
   "metadata": {},
   "source": [
    "### Вывод по пункту"
   ]
  },
  {
   "cell_type": "markdown",
   "metadata": {},
   "source": [
    "Мы изменили имя колонки USERID на user_id и EST_SALARY на est_salary. Проверили соответствие пипов данных. Пропуски были обнаружены в столбцах age и balance. В age мы удалили пропуски, так как их было немного. Наибольших процент пропусков в balance по количеству продуктов по 1 продукту у клиента. Заполним пропуски медианным значением по группам. Явные дубликаты не были выявлены. Дубликаты были найлены в столбце user_id и удалены. Также была выполнена кодировка столбцов gender и city. В столбце продуктов выявили и удалили аномалию."
   ]
  },
  {
   "cell_type": "markdown",
   "metadata": {},
   "source": [
    "## Исследовательский анализ данных"
   ]
  },
  {
   "cell_type": "markdown",
   "metadata": {},
   "source": [
    "### Средние значения показателей"
   ]
  },
  {
   "cell_type": "code",
   "execution_count": 36,
   "metadata": {},
   "outputs": [
    {
     "data": {
      "text/html": [
       "<div>\n",
       "<style scoped>\n",
       "    .dataframe tbody tr th:only-of-type {\n",
       "        vertical-align: middle;\n",
       "    }\n",
       "\n",
       "    .dataframe tbody tr th {\n",
       "        vertical-align: top;\n",
       "    }\n",
       "\n",
       "    .dataframe thead th {\n",
       "        text-align: right;\n",
       "    }\n",
       "</style>\n",
       "<table border=\"1\" class=\"dataframe\">\n",
       "  <thead>\n",
       "    <tr style=\"text-align: right;\">\n",
       "      <th></th>\n",
       "      <th>user_id</th>\n",
       "      <th>score</th>\n",
       "      <th>gender</th>\n",
       "      <th>age</th>\n",
       "      <th>equity</th>\n",
       "      <th>balance</th>\n",
       "      <th>products</th>\n",
       "      <th>credit_card</th>\n",
       "      <th>last_activity</th>\n",
       "      <th>est_salary</th>\n",
       "      <th>churn</th>\n",
       "      <th>city_Ростов</th>\n",
       "      <th>city_Рыбинск</th>\n",
       "      <th>city_Ярославль</th>\n",
       "    </tr>\n",
       "  </thead>\n",
       "  <tbody>\n",
       "    <tr>\n",
       "      <th>count</th>\n",
       "      <td>9920.0</td>\n",
       "      <td>9920.0</td>\n",
       "      <td>9920.0</td>\n",
       "      <td>9920.0</td>\n",
       "      <td>9920.0</td>\n",
       "      <td>9920.0</td>\n",
       "      <td>9920.0</td>\n",
       "      <td>9920.0</td>\n",
       "      <td>9920.0</td>\n",
       "      <td>9920.0</td>\n",
       "      <td>9920.0</td>\n",
       "      <td>9920.0</td>\n",
       "      <td>9920.0</td>\n",
       "      <td>9920.0</td>\n",
       "    </tr>\n",
       "    <tr>\n",
       "      <th>mean</th>\n",
       "      <td>171753.0</td>\n",
       "      <td>849.0</td>\n",
       "      <td>1.0</td>\n",
       "      <td>43.0</td>\n",
       "      <td>3.0</td>\n",
       "      <td>805329.0</td>\n",
       "      <td>2.0</td>\n",
       "      <td>1.0</td>\n",
       "      <td>1.0</td>\n",
       "      <td>147906.0</td>\n",
       "      <td>0.0</td>\n",
       "      <td>0.0</td>\n",
       "      <td>0.0</td>\n",
       "      <td>1.0</td>\n",
       "    </tr>\n",
       "    <tr>\n",
       "      <th>std</th>\n",
       "      <td>33693.0</td>\n",
       "      <td>65.0</td>\n",
       "      <td>1.0</td>\n",
       "      <td>12.0</td>\n",
       "      <td>2.0</td>\n",
       "      <td>1017433.0</td>\n",
       "      <td>1.0</td>\n",
       "      <td>0.0</td>\n",
       "      <td>0.0</td>\n",
       "      <td>139378.0</td>\n",
       "      <td>0.0</td>\n",
       "      <td>0.0</td>\n",
       "      <td>0.0</td>\n",
       "      <td>0.0</td>\n",
       "    </tr>\n",
       "    <tr>\n",
       "      <th>min</th>\n",
       "      <td>94561.0</td>\n",
       "      <td>642.0</td>\n",
       "      <td>0.0</td>\n",
       "      <td>18.0</td>\n",
       "      <td>0.0</td>\n",
       "      <td>0.0</td>\n",
       "      <td>1.0</td>\n",
       "      <td>0.0</td>\n",
       "      <td>0.0</td>\n",
       "      <td>2546.0</td>\n",
       "      <td>0.0</td>\n",
       "      <td>0.0</td>\n",
       "      <td>0.0</td>\n",
       "      <td>0.0</td>\n",
       "    </tr>\n",
       "    <tr>\n",
       "      <th>25%</th>\n",
       "      <td>142731.0</td>\n",
       "      <td>802.0</td>\n",
       "      <td>0.0</td>\n",
       "      <td>33.0</td>\n",
       "      <td>0.0</td>\n",
       "      <td>356685.0</td>\n",
       "      <td>1.0</td>\n",
       "      <td>0.0</td>\n",
       "      <td>0.0</td>\n",
       "      <td>75252.0</td>\n",
       "      <td>0.0</td>\n",
       "      <td>0.0</td>\n",
       "      <td>0.0</td>\n",
       "      <td>0.0</td>\n",
       "    </tr>\n",
       "    <tr>\n",
       "      <th>50%</th>\n",
       "      <td>172658.0</td>\n",
       "      <td>853.0</td>\n",
       "      <td>1.0</td>\n",
       "      <td>40.0</td>\n",
       "      <td>3.0</td>\n",
       "      <td>746770.0</td>\n",
       "      <td>2.0</td>\n",
       "      <td>1.0</td>\n",
       "      <td>1.0</td>\n",
       "      <td>119735.0</td>\n",
       "      <td>0.0</td>\n",
       "      <td>0.0</td>\n",
       "      <td>0.0</td>\n",
       "      <td>1.0</td>\n",
       "    </tr>\n",
       "    <tr>\n",
       "      <th>75%</th>\n",
       "      <td>201163.0</td>\n",
       "      <td>900.0</td>\n",
       "      <td>1.0</td>\n",
       "      <td>51.0</td>\n",
       "      <td>4.0</td>\n",
       "      <td>827246.0</td>\n",
       "      <td>2.0</td>\n",
       "      <td>1.0</td>\n",
       "      <td>1.0</td>\n",
       "      <td>174698.0</td>\n",
       "      <td>0.0</td>\n",
       "      <td>0.0</td>\n",
       "      <td>1.0</td>\n",
       "      <td>1.0</td>\n",
       "    </tr>\n",
       "    <tr>\n",
       "      <th>max</th>\n",
       "      <td>229145.0</td>\n",
       "      <td>1000.0</td>\n",
       "      <td>1.0</td>\n",
       "      <td>86.0</td>\n",
       "      <td>9.0</td>\n",
       "      <td>29008932.0</td>\n",
       "      <td>5.0</td>\n",
       "      <td>1.0</td>\n",
       "      <td>1.0</td>\n",
       "      <td>1395064.0</td>\n",
       "      <td>1.0</td>\n",
       "      <td>1.0</td>\n",
       "      <td>1.0</td>\n",
       "      <td>1.0</td>\n",
       "    </tr>\n",
       "  </tbody>\n",
       "</table>\n",
       "</div>"
      ],
      "text/plain": [
       "        user_id   score  gender     age  equity     balance  products  \\\n",
       "count    9920.0  9920.0  9920.0  9920.0  9920.0      9920.0    9920.0   \n",
       "mean   171753.0   849.0     1.0    43.0     3.0    805329.0       2.0   \n",
       "std     33693.0    65.0     1.0    12.0     2.0   1017433.0       1.0   \n",
       "min     94561.0   642.0     0.0    18.0     0.0         0.0       1.0   \n",
       "25%    142731.0   802.0     0.0    33.0     0.0    356685.0       1.0   \n",
       "50%    172658.0   853.0     1.0    40.0     3.0    746770.0       2.0   \n",
       "75%    201163.0   900.0     1.0    51.0     4.0    827246.0       2.0   \n",
       "max    229145.0  1000.0     1.0    86.0     9.0  29008932.0       5.0   \n",
       "\n",
       "       credit_card  last_activity  est_salary   churn  city_Ростов  \\\n",
       "count       9920.0         9920.0      9920.0  9920.0       9920.0   \n",
       "mean           1.0            1.0    147906.0     0.0          0.0   \n",
       "std            0.0            0.0    139378.0     0.0          0.0   \n",
       "min            0.0            0.0      2546.0     0.0          0.0   \n",
       "25%            0.0            0.0     75252.0     0.0          0.0   \n",
       "50%            1.0            1.0    119735.0     0.0          0.0   \n",
       "75%            1.0            1.0    174698.0     0.0          0.0   \n",
       "max            1.0            1.0   1395064.0     1.0          1.0   \n",
       "\n",
       "       city_Рыбинск  city_Ярославль  \n",
       "count        9920.0          9920.0  \n",
       "mean            0.0             1.0  \n",
       "std             0.0             0.0  \n",
       "min             0.0             0.0  \n",
       "25%             0.0             0.0  \n",
       "50%             0.0             1.0  \n",
       "75%             1.0             1.0  \n",
       "max             1.0             1.0  "
      ]
     },
     "execution_count": 36,
     "metadata": {},
     "output_type": "execute_result"
    }
   ],
   "source": [
    "df.describe().round()"
   ]
  },
  {
   "cell_type": "markdown",
   "metadata": {},
   "source": [
    "Посмотрим на средние значения столбцов по продуктам."
   ]
  },
  {
   "cell_type": "code",
   "execution_count": 37,
   "metadata": {
    "scrolled": false
   },
   "outputs": [
    {
     "data": {
      "text/html": [
       "<div>\n",
       "<style scoped>\n",
       "    .dataframe tbody tr th:only-of-type {\n",
       "        vertical-align: middle;\n",
       "    }\n",
       "\n",
       "    .dataframe tbody tr th {\n",
       "        vertical-align: top;\n",
       "    }\n",
       "\n",
       "    .dataframe thead th {\n",
       "        text-align: right;\n",
       "    }\n",
       "</style>\n",
       "<table border=\"1\" class=\"dataframe\">\n",
       "  <thead>\n",
       "    <tr style=\"text-align: right;\">\n",
       "      <th>products</th>\n",
       "      <th>1</th>\n",
       "      <th>2</th>\n",
       "      <th>3</th>\n",
       "      <th>4</th>\n",
       "      <th>5</th>\n",
       "    </tr>\n",
       "  </thead>\n",
       "  <tbody>\n",
       "    <tr>\n",
       "      <th>score</th>\n",
       "      <td>854.34</td>\n",
       "      <td>844.58</td>\n",
       "      <td>837.16</td>\n",
       "      <td>878.27</td>\n",
       "      <td>859.26</td>\n",
       "    </tr>\n",
       "    <tr>\n",
       "      <th>gender</th>\n",
       "      <td>0.54</td>\n",
       "      <td>0.48</td>\n",
       "      <td>0.43</td>\n",
       "      <td>0.62</td>\n",
       "      <td>0.53</td>\n",
       "    </tr>\n",
       "    <tr>\n",
       "      <th>age</th>\n",
       "      <td>42.20</td>\n",
       "      <td>42.75</td>\n",
       "      <td>45.72</td>\n",
       "      <td>39.78</td>\n",
       "      <td>36.47</td>\n",
       "    </tr>\n",
       "    <tr>\n",
       "      <th>equity</th>\n",
       "      <td>1.33</td>\n",
       "      <td>3.15</td>\n",
       "      <td>3.53</td>\n",
       "      <td>4.15</td>\n",
       "      <td>3.68</td>\n",
       "    </tr>\n",
       "    <tr>\n",
       "      <th>balance</th>\n",
       "      <td>736754.50</td>\n",
       "      <td>778131.57</td>\n",
       "      <td>950947.09</td>\n",
       "      <td>1267820.57</td>\n",
       "      <td>610986.63</td>\n",
       "    </tr>\n",
       "    <tr>\n",
       "      <th>credit_card</th>\n",
       "      <td>0.86</td>\n",
       "      <td>0.63</td>\n",
       "      <td>0.35</td>\n",
       "      <td>0.68</td>\n",
       "      <td>1.00</td>\n",
       "    </tr>\n",
       "    <tr>\n",
       "      <th>last_activity</th>\n",
       "      <td>0.53</td>\n",
       "      <td>0.52</td>\n",
       "      <td>0.42</td>\n",
       "      <td>0.79</td>\n",
       "      <td>0.89</td>\n",
       "    </tr>\n",
       "    <tr>\n",
       "      <th>est_salary</th>\n",
       "      <td>180616.23</td>\n",
       "      <td>130541.67</td>\n",
       "      <td>128910.46</td>\n",
       "      <td>148788.95</td>\n",
       "      <td>116652.05</td>\n",
       "    </tr>\n",
       "    <tr>\n",
       "      <th>churn</th>\n",
       "      <td>0.07</td>\n",
       "      <td>0.19</td>\n",
       "      <td>0.29</td>\n",
       "      <td>0.63</td>\n",
       "      <td>0.42</td>\n",
       "    </tr>\n",
       "    <tr>\n",
       "      <th>city_Ростов</th>\n",
       "      <td>0.13</td>\n",
       "      <td>0.16</td>\n",
       "      <td>0.09</td>\n",
       "      <td>0.14</td>\n",
       "      <td>0.21</td>\n",
       "    </tr>\n",
       "    <tr>\n",
       "      <th>city_Рыбинск</th>\n",
       "      <td>0.26</td>\n",
       "      <td>0.30</td>\n",
       "      <td>0.15</td>\n",
       "      <td>0.21</td>\n",
       "      <td>0.05</td>\n",
       "    </tr>\n",
       "    <tr>\n",
       "      <th>city_Ярославль</th>\n",
       "      <td>0.61</td>\n",
       "      <td>0.54</td>\n",
       "      <td>0.75</td>\n",
       "      <td>0.65</td>\n",
       "      <td>0.74</td>\n",
       "    </tr>\n",
       "  </tbody>\n",
       "</table>\n",
       "</div>"
      ],
      "text/plain": [
       "products                1          2          3           4          5\n",
       "score              854.34     844.58     837.16      878.27     859.26\n",
       "gender               0.54       0.48       0.43        0.62       0.53\n",
       "age                 42.20      42.75      45.72       39.78      36.47\n",
       "equity               1.33       3.15       3.53        4.15       3.68\n",
       "balance         736754.50  778131.57  950947.09  1267820.57  610986.63\n",
       "credit_card          0.86       0.63       0.35        0.68       1.00\n",
       "last_activity        0.53       0.52       0.42        0.79       0.89\n",
       "est_salary      180616.23  130541.67  128910.46   148788.95  116652.05\n",
       "churn                0.07       0.19       0.29        0.63       0.42\n",
       "city_Ростов          0.13       0.16       0.09        0.14       0.21\n",
       "city_Рыбинск         0.26       0.30       0.15        0.21       0.05\n",
       "city_Ярославль       0.61       0.54       0.75        0.65       0.74"
      ]
     },
     "execution_count": 37,
     "metadata": {},
     "output_type": "execute_result"
    }
   ],
   "source": [
    "df.drop(['user_id'], axis=1).groupby('products').agg('mean').T.round(2)"
   ]
  },
  {
   "cell_type": "markdown",
   "metadata": {},
   "source": [
    "Посмотрим на стандартное отклонение столбцов по продуктам."
   ]
  },
  {
   "cell_type": "code",
   "execution_count": 38,
   "metadata": {
    "scrolled": false
   },
   "outputs": [
    {
     "data": {
      "text/html": [
       "<div>\n",
       "<style scoped>\n",
       "    .dataframe tbody tr th:only-of-type {\n",
       "        vertical-align: middle;\n",
       "    }\n",
       "\n",
       "    .dataframe tbody tr th {\n",
       "        vertical-align: top;\n",
       "    }\n",
       "\n",
       "    .dataframe thead th {\n",
       "        text-align: right;\n",
       "    }\n",
       "</style>\n",
       "<table border=\"1\" class=\"dataframe\">\n",
       "  <thead>\n",
       "    <tr style=\"text-align: right;\">\n",
       "      <th>products</th>\n",
       "      <th>1</th>\n",
       "      <th>2</th>\n",
       "      <th>3</th>\n",
       "      <th>4</th>\n",
       "      <th>5</th>\n",
       "    </tr>\n",
       "  </thead>\n",
       "  <tbody>\n",
       "    <tr>\n",
       "      <th>score</th>\n",
       "      <td>78.25</td>\n",
       "      <td>57.97</td>\n",
       "      <td>58.05</td>\n",
       "      <td>42.00</td>\n",
       "      <td>35.59</td>\n",
       "    </tr>\n",
       "    <tr>\n",
       "      <th>gender</th>\n",
       "      <td>0.50</td>\n",
       "      <td>0.50</td>\n",
       "      <td>0.50</td>\n",
       "      <td>0.49</td>\n",
       "      <td>0.51</td>\n",
       "    </tr>\n",
       "    <tr>\n",
       "      <th>age</th>\n",
       "      <td>11.98</td>\n",
       "      <td>12.16</td>\n",
       "      <td>13.31</td>\n",
       "      <td>9.62</td>\n",
       "      <td>9.22</td>\n",
       "    </tr>\n",
       "    <tr>\n",
       "      <th>equity</th>\n",
       "      <td>1.87</td>\n",
       "      <td>1.71</td>\n",
       "      <td>1.56</td>\n",
       "      <td>1.46</td>\n",
       "      <td>1.38</td>\n",
       "    </tr>\n",
       "    <tr>\n",
       "      <th>balance</th>\n",
       "      <td>614198.84</td>\n",
       "      <td>1138689.74</td>\n",
       "      <td>1184486.40</td>\n",
       "      <td>1324023.13</td>\n",
       "      <td>548125.46</td>\n",
       "    </tr>\n",
       "    <tr>\n",
       "      <th>credit_card</th>\n",
       "      <td>0.34</td>\n",
       "      <td>0.48</td>\n",
       "      <td>0.48</td>\n",
       "      <td>0.47</td>\n",
       "      <td>0.00</td>\n",
       "    </tr>\n",
       "    <tr>\n",
       "      <th>last_activity</th>\n",
       "      <td>0.50</td>\n",
       "      <td>0.50</td>\n",
       "      <td>0.49</td>\n",
       "      <td>0.41</td>\n",
       "      <td>0.32</td>\n",
       "    </tr>\n",
       "    <tr>\n",
       "      <th>est_salary</th>\n",
       "      <td>169348.45</td>\n",
       "      <td>117272.45</td>\n",
       "      <td>118813.23</td>\n",
       "      <td>129016.26</td>\n",
       "      <td>48404.53</td>\n",
       "    </tr>\n",
       "    <tr>\n",
       "      <th>churn</th>\n",
       "      <td>0.26</td>\n",
       "      <td>0.39</td>\n",
       "      <td>0.45</td>\n",
       "      <td>0.48</td>\n",
       "      <td>0.51</td>\n",
       "    </tr>\n",
       "    <tr>\n",
       "      <th>city_Ростов</th>\n",
       "      <td>0.34</td>\n",
       "      <td>0.36</td>\n",
       "      <td>0.29</td>\n",
       "      <td>0.35</td>\n",
       "      <td>0.42</td>\n",
       "    </tr>\n",
       "    <tr>\n",
       "      <th>city_Рыбинск</th>\n",
       "      <td>0.44</td>\n",
       "      <td>0.46</td>\n",
       "      <td>0.36</td>\n",
       "      <td>0.41</td>\n",
       "      <td>0.23</td>\n",
       "    </tr>\n",
       "    <tr>\n",
       "      <th>city_Ярославль</th>\n",
       "      <td>0.49</td>\n",
       "      <td>0.50</td>\n",
       "      <td>0.43</td>\n",
       "      <td>0.48</td>\n",
       "      <td>0.45</td>\n",
       "    </tr>\n",
       "  </tbody>\n",
       "</table>\n",
       "</div>"
      ],
      "text/plain": [
       "products                1           2           3           4          5\n",
       "score               78.25       57.97       58.05       42.00      35.59\n",
       "gender               0.50        0.50        0.50        0.49       0.51\n",
       "age                 11.98       12.16       13.31        9.62       9.22\n",
       "equity               1.87        1.71        1.56        1.46       1.38\n",
       "balance         614198.84  1138689.74  1184486.40  1324023.13  548125.46\n",
       "credit_card          0.34        0.48        0.48        0.47       0.00\n",
       "last_activity        0.50        0.50        0.49        0.41       0.32\n",
       "est_salary      169348.45   117272.45   118813.23   129016.26   48404.53\n",
       "churn                0.26        0.39        0.45        0.48       0.51\n",
       "city_Ростов          0.34        0.36        0.29        0.35       0.42\n",
       "city_Рыбинск         0.44        0.46        0.36        0.41       0.23\n",
       "city_Ярославль       0.49        0.50        0.43        0.48       0.45"
      ]
     },
     "execution_count": 38,
     "metadata": {},
     "output_type": "execute_result"
    }
   ],
   "source": [
    "df.drop(['user_id'], axis=1).groupby('products').agg('std').T.round(2)"
   ]
  },
  {
   "cell_type": "markdown",
   "metadata": {},
   "source": [
    "Большее отклонение по продуктам во всех столбцах присутствует в группе с 1 продуктом. Также в столбце баланса большое отклонение в группе с 5 продуктами."
   ]
  },
  {
   "cell_type": "markdown",
   "metadata": {},
   "source": [
    "Посмотрим на средние значения столбцов по оттоку."
   ]
  },
  {
   "cell_type": "code",
   "execution_count": 39,
   "metadata": {},
   "outputs": [
    {
     "data": {
      "text/html": [
       "<div>\n",
       "<style scoped>\n",
       "    .dataframe tbody tr th:only-of-type {\n",
       "        vertical-align: middle;\n",
       "    }\n",
       "\n",
       "    .dataframe tbody tr th {\n",
       "        vertical-align: top;\n",
       "    }\n",
       "\n",
       "    .dataframe thead th {\n",
       "        text-align: right;\n",
       "    }\n",
       "</style>\n",
       "<table border=\"1\" class=\"dataframe\">\n",
       "  <thead>\n",
       "    <tr style=\"text-align: right;\">\n",
       "      <th>churn</th>\n",
       "      <th>0</th>\n",
       "      <th>1</th>\n",
       "    </tr>\n",
       "  </thead>\n",
       "  <tbody>\n",
       "    <tr>\n",
       "      <th>user_id</th>\n",
       "      <td>171916.0</td>\n",
       "      <td>171024.0</td>\n",
       "    </tr>\n",
       "    <tr>\n",
       "      <th>score</th>\n",
       "      <td>845.0</td>\n",
       "      <td>863.0</td>\n",
       "    </tr>\n",
       "    <tr>\n",
       "      <th>gender</th>\n",
       "      <td>0.0</td>\n",
       "      <td>1.0</td>\n",
       "    </tr>\n",
       "    <tr>\n",
       "      <th>age</th>\n",
       "      <td>43.0</td>\n",
       "      <td>41.0</td>\n",
       "    </tr>\n",
       "    <tr>\n",
       "      <th>equity</th>\n",
       "      <td>2.0</td>\n",
       "      <td>4.0</td>\n",
       "    </tr>\n",
       "    <tr>\n",
       "      <th>balance</th>\n",
       "      <td>739846.0</td>\n",
       "      <td>1097354.0</td>\n",
       "    </tr>\n",
       "    <tr>\n",
       "      <th>products</th>\n",
       "      <td>2.0</td>\n",
       "      <td>2.0</td>\n",
       "    </tr>\n",
       "    <tr>\n",
       "      <th>credit_card</th>\n",
       "      <td>1.0</td>\n",
       "      <td>1.0</td>\n",
       "    </tr>\n",
       "    <tr>\n",
       "      <th>last_activity</th>\n",
       "      <td>0.0</td>\n",
       "      <td>1.0</td>\n",
       "    </tr>\n",
       "    <tr>\n",
       "      <th>est_salary</th>\n",
       "      <td>147798.0</td>\n",
       "      <td>148390.0</td>\n",
       "    </tr>\n",
       "    <tr>\n",
       "      <th>city_Ростов</th>\n",
       "      <td>0.0</td>\n",
       "      <td>0.0</td>\n",
       "    </tr>\n",
       "    <tr>\n",
       "      <th>city_Рыбинск</th>\n",
       "      <td>0.0</td>\n",
       "      <td>0.0</td>\n",
       "    </tr>\n",
       "    <tr>\n",
       "      <th>city_Ярославль</th>\n",
       "      <td>1.0</td>\n",
       "      <td>1.0</td>\n",
       "    </tr>\n",
       "  </tbody>\n",
       "</table>\n",
       "</div>"
      ],
      "text/plain": [
       "churn                  0          1\n",
       "user_id         171916.0   171024.0\n",
       "score              845.0      863.0\n",
       "gender               0.0        1.0\n",
       "age                 43.0       41.0\n",
       "equity               2.0        4.0\n",
       "balance         739846.0  1097354.0\n",
       "products             2.0        2.0\n",
       "credit_card          1.0        1.0\n",
       "last_activity        0.0        1.0\n",
       "est_salary      147798.0   148390.0\n",
       "city_Ростов          0.0        0.0\n",
       "city_Рыбинск         0.0        0.0\n",
       "city_Ярославль       1.0        1.0"
      ]
     },
     "execution_count": 39,
     "metadata": {},
     "output_type": "execute_result"
    }
   ],
   "source": [
    "df.groupby('churn').agg('mean').T.round()"
   ]
  },
  {
   "cell_type": "markdown",
   "metadata": {},
   "source": [
    "Посмотрим на стандартное отклонение столбцов по оттоку."
   ]
  },
  {
   "cell_type": "code",
   "execution_count": 40,
   "metadata": {},
   "outputs": [
    {
     "data": {
      "text/html": [
       "<div>\n",
       "<style scoped>\n",
       "    .dataframe tbody tr th:only-of-type {\n",
       "        vertical-align: middle;\n",
       "    }\n",
       "\n",
       "    .dataframe tbody tr th {\n",
       "        vertical-align: top;\n",
       "    }\n",
       "\n",
       "    .dataframe thead th {\n",
       "        text-align: right;\n",
       "    }\n",
       "</style>\n",
       "<table border=\"1\" class=\"dataframe\">\n",
       "  <thead>\n",
       "    <tr style=\"text-align: right;\">\n",
       "      <th>churn</th>\n",
       "      <th>0</th>\n",
       "      <th>1</th>\n",
       "    </tr>\n",
       "  </thead>\n",
       "  <tbody>\n",
       "    <tr>\n",
       "      <th>user_id</th>\n",
       "      <td>33327.0</td>\n",
       "      <td>35281.0</td>\n",
       "    </tr>\n",
       "    <tr>\n",
       "      <th>score</th>\n",
       "      <td>68.0</td>\n",
       "      <td>50.0</td>\n",
       "    </tr>\n",
       "    <tr>\n",
       "      <th>gender</th>\n",
       "      <td>0.0</td>\n",
       "      <td>0.0</td>\n",
       "    </tr>\n",
       "    <tr>\n",
       "      <th>age</th>\n",
       "      <td>12.0</td>\n",
       "      <td>11.0</td>\n",
       "    </tr>\n",
       "    <tr>\n",
       "      <th>equity</th>\n",
       "      <td>2.0</td>\n",
       "      <td>2.0</td>\n",
       "    </tr>\n",
       "    <tr>\n",
       "      <th>balance</th>\n",
       "      <td>907361.0</td>\n",
       "      <td>1369856.0</td>\n",
       "    </tr>\n",
       "    <tr>\n",
       "      <th>products</th>\n",
       "      <td>1.0</td>\n",
       "      <td>1.0</td>\n",
       "    </tr>\n",
       "    <tr>\n",
       "      <th>credit_card</th>\n",
       "      <td>0.0</td>\n",
       "      <td>0.0</td>\n",
       "    </tr>\n",
       "    <tr>\n",
       "      <th>last_activity</th>\n",
       "      <td>0.0</td>\n",
       "      <td>0.0</td>\n",
       "    </tr>\n",
       "    <tr>\n",
       "      <th>est_salary</th>\n",
       "      <td>142808.0</td>\n",
       "      <td>122958.0</td>\n",
       "    </tr>\n",
       "    <tr>\n",
       "      <th>city_Ростов</th>\n",
       "      <td>0.0</td>\n",
       "      <td>0.0</td>\n",
       "    </tr>\n",
       "    <tr>\n",
       "      <th>city_Рыбинск</th>\n",
       "      <td>0.0</td>\n",
       "      <td>0.0</td>\n",
       "    </tr>\n",
       "    <tr>\n",
       "      <th>city_Ярославль</th>\n",
       "      <td>0.0</td>\n",
       "      <td>0.0</td>\n",
       "    </tr>\n",
       "  </tbody>\n",
       "</table>\n",
       "</div>"
      ],
      "text/plain": [
       "churn                  0          1\n",
       "user_id          33327.0    35281.0\n",
       "score               68.0       50.0\n",
       "gender               0.0        0.0\n",
       "age                 12.0       11.0\n",
       "equity               2.0        2.0\n",
       "balance         907361.0  1369856.0\n",
       "products             1.0        1.0\n",
       "credit_card          0.0        0.0\n",
       "last_activity        0.0        0.0\n",
       "est_salary      142808.0   122958.0\n",
       "city_Ростов          0.0        0.0\n",
       "city_Рыбинск         0.0        0.0\n",
       "city_Ярославль       0.0        0.0"
      ]
     },
     "execution_count": 40,
     "metadata": {},
     "output_type": "execute_result"
    }
   ],
   "source": [
    "df.groupby('churn').agg('std').T.round()"
   ]
  },
  {
   "cell_type": "markdown",
   "metadata": {},
   "source": [
    "В случае с отточными клиентами стандартное отклонение болье в столбце баланса, а в столбце с заработной платой больше у неотточных клиентов."
   ]
  },
  {
   "cell_type": "markdown",
   "metadata": {},
   "source": [
    "Большее отклонение по продуктам во всех столбцах присутствует в группе с 1 продуктом. Также в столбце баланса большое отклонение в группе с 5 продуктами.\n",
    "\n",
    "В случае с отточными клиентами стандартное отклонение больше в столбце баланса, а в столбце с заработной платой больше у неотточных клиентов."
   ]
  },
  {
   "cell_type": "markdown",
   "metadata": {},
   "source": [
    "### Построение матрицы корреляции"
   ]
  },
  {
   "cell_type": "code",
   "execution_count": 41,
   "metadata": {},
   "outputs": [
    {
     "data": {
      "image/png": "[encoded data removed]",
      "text/plain": [
       "<Figure size 1080x1080 with 2 Axes>"
      ]
     },
     "metadata": {
      "needs_background": "light"
     },
     "output_type": "display_data"
    }
   ],
   "source": [
    "corr_m = df.drop(['user_id'], axis=1).corr()\n",
    "corr_m\n",
    "\n",
    "plt.figure(figsize = (15,15))\n",
    "sns.heatmap(corr_m, center = 0, fmt='.1g', annot = True, cmap='vlag')\n",
    "\n",
    "plt.show()"
   ]
  },
  {
   "cell_type": "markdown",
   "metadata": {},
   "source": [
    "Слабая, но наибольшая  связь с целевой характеристикой churn наблюдается со столбцами equity и products. Также слабая связь наблюдается с last_activity, gender, score и balance."
   ]
  },
  {
   "cell_type": "markdown",
   "metadata": {},
   "source": [
    "### Влияние признаков на отток"
   ]
  },
  {
   "cell_type": "markdown",
   "metadata": {},
   "source": [
    "Посмотрим средний отток.  "
   ]
  },
  {
   "cell_type": "code",
   "execution_count": 42,
   "metadata": {},
   "outputs": [
    {
     "data": {
      "text/plain": [
       "0.18316532258064516"
      ]
     },
     "execution_count": 42,
     "metadata": {},
     "output_type": "execute_result"
    }
   ],
   "source": [
    "df['churn'].mean()"
   ]
  },
  {
   "cell_type": "markdown",
   "metadata": {},
   "source": [
    "Проверим влияние характеристик на отток"
   ]
  },
  {
   "cell_type": "code",
   "execution_count": 43,
   "metadata": {},
   "outputs": [
    {
     "data": {
      "image/png": "[encoded data removed]",
      "text/plain": [
       "<Figure size 648x432 with 1 Axes>"
      ]
     },
     "metadata": {
      "needs_background": "light"
     },
     "output_type": "display_data"
    }
   ],
   "source": [
    "fig, ax = plt.subplots (figsize=(9, 6))\n",
    "\n",
    "sns.histplot(data=df, x = 'score', hue = 'churn', bins = 71,\n",
    "             kde = True, stat='density', common_norm = False,\n",
    "             ax=ax)\n",
    "ax.grid(c='grey', lw=0.25)\n",
    "ax.set_title('Гистограмма баллов кредитного скролинга')\n",
    "plt.show()"
   ]
  },
  {
   "cell_type": "code",
   "execution_count": 44,
   "metadata": {},
   "outputs": [],
   "source": [
    "fiter_score_more= (df['score']<=920) & (df['score']>=850)\n",
    "fiter_score_less= (df['score']<=820)"
   ]
  },
  {
   "cell_type": "code",
   "execution_count": 45,
   "metadata": {},
   "outputs": [
    {
     "data": {
      "text/plain": [
       "0.10900473933649289"
      ]
     },
     "execution_count": 45,
     "metadata": {},
     "output_type": "execute_result"
    }
   ],
   "source": [
    "df.loc[fiter_score_less,'churn'].mean()"
   ]
  },
  {
   "cell_type": "code",
   "execution_count": 46,
   "metadata": {},
   "outputs": [
    {
     "data": {
      "text/plain": [
       "0.24044002095337874"
      ]
     },
     "execution_count": 46,
     "metadata": {},
     "output_type": "execute_result"
    }
   ],
   "source": [
    "df.loc[fiter_score_more,'churn'].mean()"
   ]
  },
  {
   "cell_type": "markdown",
   "metadata": {},
   "source": [
    "Средние оттоки разрезов отличаются от среднего. Показывают влияние на отток."
   ]
  },
  {
   "cell_type": "code",
   "execution_count": 47,
   "metadata": {},
   "outputs": [
    {
     "data": {
      "image/png": "[encoded data removed]",
      "text/plain": [
       "<Figure size 1080x720 with 1 Axes>"
      ]
     },
     "metadata": {
      "needs_background": "light"
     },
     "output_type": "display_data"
    }
   ],
   "source": [
    "df.boxplot(column='score', by='products', figsize=(15, 10))\n",
    "plt.show()"
   ]
  },
  {
   "cell_type": "code",
   "execution_count": 48,
   "metadata": {},
   "outputs": [
    {
     "data": {
      "image/png": "[encoded data removed]",
      "text/plain": [
       "<Figure size 648x432 with 1 Axes>"
      ]
     },
     "metadata": {
      "needs_background": "light"
     },
     "output_type": "display_data"
    }
   ],
   "source": [
    "fig, ax = plt.subplots(figsize=(9, 6))\n",
    "\n",
    "sns.pointplot(data=df, x='city_Ростов', y='churn' , ax=ax)\n",
    "ax.set_title(\"Уровень оттока в разрезе городов\")\n",
    "ax.grid(c='grey', lw=0.25)\n",
    "ax.axhline(df['churn'].mean(),label= 'Total churn', ls='--', c='red')\n",
    "ax.legend()\n",
    "plt.show()"
   ]
  },
  {
   "cell_type": "code",
   "execution_count": 49,
   "metadata": {},
   "outputs": [
    {
     "name": "stdout",
     "output_type": "stream",
     "text": [
      "0.18250235183443086\n",
      "0.18714689265536724\n"
     ]
    }
   ],
   "source": [
    "fiter_city_1_less = (df['city_Ростов']==0)\n",
    "fiter_city_1_more = (df['city_Ростов']==1)\n",
    "print(df.loc[fiter_city_1_less,'churn'].mean())\n",
    "print(df.loc[fiter_city_1_more,'churn'].mean())"
   ]
  },
  {
   "cell_type": "markdown",
   "metadata": {},
   "source": [
    "Средние оттоки разрезов показателей близки к среднему."
   ]
  },
  {
   "cell_type": "code",
   "execution_count": 50,
   "metadata": {},
   "outputs": [
    {
     "data": {
      "image/png": "[encoded data removed]",
      "text/plain": [
       "<Figure size 648x432 with 1 Axes>"
      ]
     },
     "metadata": {
      "needs_background": "light"
     },
     "output_type": "display_data"
    }
   ],
   "source": [
    "fig, ax = plt.subplots(figsize=(9, 6))\n",
    "\n",
    "sns.pointplot(data=df, x='city_Рыбинск', y='churn' , ax=ax)\n",
    "ax.set_title(\"Уровень оттока в разрезе городов\")\n",
    "ax.grid(c='grey', lw=0.25)\n",
    "ax.axhline(df['churn'].mean(),label= 'Total churn', ls='--', c='red')\n",
    "ax.legend()\n",
    "plt.show()"
   ]
  },
  {
   "cell_type": "code",
   "execution_count": 51,
   "metadata": {},
   "outputs": [
    {
     "name": "stdout",
     "output_type": "stream",
     "text": [
      "0.16434225405201658\n",
      "0.19003715425897894\n"
     ]
    }
   ],
   "source": [
    "fiter_city_2_less = (df['city_Рыбинск']==1)\n",
    "fiter_city_2_more = (df['city_Рыбинск']==0)\n",
    "print(df.loc[fiter_city_2_less,'churn'].mean())\n",
    "print(df.loc[fiter_city_2_more,'churn'].mean())"
   ]
  },
  {
   "cell_type": "markdown",
   "metadata": {},
   "source": [
    "Средние оттоки разрезов показателей близки к среднему."
   ]
  },
  {
   "cell_type": "code",
   "execution_count": 52,
   "metadata": {},
   "outputs": [
    {
     "data": {
      "image/png": "[encoded data removed]",
      "text/plain": [
       "<Figure size 648x432 with 1 Axes>"
      ]
     },
     "metadata": {
      "needs_background": "light"
     },
     "output_type": "display_data"
    }
   ],
   "source": [
    "fig, ax = plt.subplots(figsize=(9, 6))\n",
    "\n",
    "sns.pointplot(data=df, x='city_Ярославль', y='churn' , ax=ax)\n",
    "ax.set_title(\"Уровень оттока в разрезе городов\")\n",
    "ax.grid(c='grey', lw=0.25)\n",
    "ax.axhline(df['churn'].mean(),label= 'Total churn', ls='--', c='red')\n",
    "ax.legend()\n",
    "plt.show()"
   ]
  },
  {
   "cell_type": "code",
   "execution_count": 53,
   "metadata": {},
   "outputs": [
    {
     "name": "stdout",
     "output_type": "stream",
     "text": [
      "0.17227820103219466\n",
      "0.19073662621774057\n"
     ]
    }
   ],
   "source": [
    "fiter_city_3_less = (df['city_Ярославль']==0)\n",
    "fiter_city_3_more = (df['city_Ярославль']==1)\n",
    "print(df.loc[fiter_city_3_less,'churn'].mean())\n",
    "print(df.loc[fiter_city_3_more,'churn'].mean())"
   ]
  },
  {
   "cell_type": "markdown",
   "metadata": {},
   "source": [
    "Средние оттоки разрезов показателей близки к среднему."
   ]
  },
  {
   "cell_type": "code",
   "execution_count": 54,
   "metadata": {
    "scrolled": false
   },
   "outputs": [
    {
     "data": {
      "image/png": "[encoded data removed]",
      "text/plain": [
       "<Figure size 648x432 with 1 Axes>"
      ]
     },
     "metadata": {
      "needs_background": "light"
     },
     "output_type": "display_data"
    }
   ],
   "source": [
    "fig, ax = plt.subplots(figsize=(9, 6))\n",
    "\n",
    "sns.pointplot(data=df, x='gender', y='churn' , ax=ax)\n",
    "ax.set_title(\"Уровень оттока в разрезе пола\")\n",
    "ax.grid(c='grey', lw=0.25)\n",
    "ax.axhline(df['churn'].mean(),label= 'Total churn', ls='--', c='red')\n",
    "ax.legend()\n",
    "plt.show()"
   ]
  },
  {
   "cell_type": "code",
   "execution_count": 55,
   "metadata": {},
   "outputs": [],
   "source": [
    "fiter_gender_less = (df['gender']==0)\n",
    "fiter_gender_more = (df['gender']==1)"
   ]
  },
  {
   "cell_type": "code",
   "execution_count": 56,
   "metadata": {},
   "outputs": [
    {
     "data": {
      "text/plain": [
       "0.12823101777059773"
      ]
     },
     "execution_count": 56,
     "metadata": {},
     "output_type": "execute_result"
    }
   ],
   "source": [
    "df.loc[fiter_gender_less,'churn'].mean()"
   ]
  },
  {
   "cell_type": "code",
   "execution_count": 57,
   "metadata": {},
   "outputs": [
    {
     "data": {
      "text/plain": [
       "0.23792270531400966"
      ]
     },
     "execution_count": 57,
     "metadata": {},
     "output_type": "execute_result"
    }
   ],
   "source": [
    "df.loc[fiter_gender_more,'churn'].mean()"
   ]
  },
  {
   "cell_type": "markdown",
   "metadata": {},
   "source": [
    "Средние оттоки разрезов отличаются от среднего. Показывают влияние на отток."
   ]
  },
  {
   "cell_type": "code",
   "execution_count": 58,
   "metadata": {
    "scrolled": false
   },
   "outputs": [
    {
     "data": {
      "image/png": "[encoded data removed]",
      "text/plain": [
       "<Figure size 648x432 with 1 Axes>"
      ]
     },
     "metadata": {
      "needs_background": "light"
     },
     "output_type": "display_data"
    }
   ],
   "source": [
    "fig, ax = plt.subplots (figsize=(9, 6))\n",
    "\n",
    "sns.histplot(data=df, x = 'age', hue = 'churn', bins = 71,\n",
    "             kde = True, stat='density', common_norm = False,\n",
    "             ax=ax)\n",
    "ax.grid(c='grey', lw=0.25)\n",
    "ax.set_title('Гистограмма возрастов')\n",
    "plt.show()"
   ]
  },
  {
   "cell_type": "code",
   "execution_count": 59,
   "metadata": {},
   "outputs": [],
   "source": [
    "fiter_age_more_1 = (df['age']<=40) & (df['age']>=25)\n",
    "fiter_age_more_2 = (df['age']<=65) & (df['age']>=50)\n",
    "fiter_age_less = (df['age']>=65)"
   ]
  },
  {
   "cell_type": "code",
   "execution_count": 60,
   "metadata": {},
   "outputs": [
    {
     "data": {
      "text/plain": [
       "0.03832752613240418"
      ]
     },
     "execution_count": 60,
     "metadata": {},
     "output_type": "execute_result"
    }
   ],
   "source": [
    "df.loc[fiter_age_less,'churn'].mean()"
   ]
  },
  {
   "cell_type": "code",
   "execution_count": 61,
   "metadata": {},
   "outputs": [
    {
     "data": {
      "text/plain": [
       "0.19822240595287308"
      ]
     },
     "execution_count": 61,
     "metadata": {},
     "output_type": "execute_result"
    }
   ],
   "source": [
    "df.loc[fiter_age_more_1,'churn'].mean()"
   ]
  },
  {
   "cell_type": "code",
   "execution_count": 62,
   "metadata": {},
   "outputs": [
    {
     "data": {
      "text/plain": [
       "0.22444541104828186"
      ]
     },
     "execution_count": 62,
     "metadata": {},
     "output_type": "execute_result"
    }
   ],
   "source": [
    "df.loc[fiter_age_more_2,'churn'].mean()"
   ]
  },
  {
   "cell_type": "markdown",
   "metadata": {},
   "source": [
    "Средние оттоки разрезов отличаются от среднего. Показывают влияние на отток."
   ]
  },
  {
   "cell_type": "code",
   "execution_count": 63,
   "metadata": {},
   "outputs": [
    {
     "data": {
      "image/png": "[encoded data removed]",
      "text/plain": [
       "<Figure size 1080x720 with 1 Axes>"
      ]
     },
     "metadata": {
      "needs_background": "light"
     },
     "output_type": "display_data"
    }
   ],
   "source": [
    "df.boxplot(column='age', by='products', figsize=(15, 10))\n",
    "plt.show()"
   ]
  },
  {
   "cell_type": "code",
   "execution_count": 64,
   "metadata": {
    "scrolled": false
   },
   "outputs": [
    {
     "data": {
      "image/png": "[encoded data removed]",
      "text/plain": [
       "<Figure size 648x432 with 1 Axes>"
      ]
     },
     "metadata": {
      "needs_background": "light"
     },
     "output_type": "display_data"
    }
   ],
   "source": [
    "fig, ax = plt.subplots(figsize=(9, 6))\n",
    "\n",
    "sns.pointplot(data=df, x='equity', y='churn' , ax=ax)\n",
    "ax.set_title(\"Уровень оттока в разрезе кол-ва объектов в собственности\")\n",
    "ax.grid(c='grey', lw=0.25)\n",
    "ax.axhline(df['churn'].mean(),label= 'Total churn', ls='--', c='red')\n",
    "ax.legend()\n",
    "plt.show()"
   ]
  },
  {
   "cell_type": "code",
   "execution_count": 65,
   "metadata": {},
   "outputs": [],
   "source": [
    "fiter_equity_less = (df['equity']< 3)\n",
    "fiter_equity_more = (df['equity']<=5) & (df['equity']>=3)\n",
    "fiter_equity_super_more = (df['equity']> 5)"
   ]
  },
  {
   "cell_type": "markdown",
   "metadata": {},
   "source": [
    "Выделим здесь также суперотточных клиентов."
   ]
  },
  {
   "cell_type": "code",
   "execution_count": 66,
   "metadata": {},
   "outputs": [
    {
     "data": {
      "text/plain": [
       "0.07984442919240449"
      ]
     },
     "execution_count": 66,
     "metadata": {},
     "output_type": "execute_result"
    }
   ],
   "source": [
    "df.loc[fiter_equity_less,'churn'].mean()"
   ]
  },
  {
   "cell_type": "markdown",
   "metadata": {},
   "source": [
    "Отток сильно ниже среднего показателя."
   ]
  },
  {
   "cell_type": "code",
   "execution_count": 67,
   "metadata": {},
   "outputs": [
    {
     "data": {
      "text/plain": [
       "0.2576245501041864"
      ]
     },
     "execution_count": 67,
     "metadata": {},
     "output_type": "execute_result"
    }
   ],
   "source": [
    "df.loc[fiter_equity_more,'churn'].mean()"
   ]
  },
  {
   "cell_type": "code",
   "execution_count": 68,
   "metadata": {},
   "outputs": [
    {
     "data": {
      "text/plain": [
       "0.4"
      ]
     },
     "execution_count": 68,
     "metadata": {},
     "output_type": "execute_result"
    }
   ],
   "source": [
    "df.loc[fiter_equity_super_more,'churn'].mean()"
   ]
  },
  {
   "cell_type": "markdown",
   "metadata": {},
   "source": [
    "Оттоки достаточно высокие, превышают средний показатель."
   ]
  },
  {
   "cell_type": "code",
   "execution_count": 69,
   "metadata": {
    "scrolled": false
   },
   "outputs": [
    {
     "data": {
      "image/png": "[encoded data removed]",
      "text/plain": [
       "<Figure size 648x432 with 1 Axes>"
      ]
     },
     "metadata": {
      "needs_background": "light"
     },
     "output_type": "display_data"
    }
   ],
   "source": [
    "fig, ax = plt.subplots(figsize=(9, 6))\n",
    "\n",
    "sns.pointplot(data=df, x='products', y='churn' , ax=ax)\n",
    "ax.set_title(\"Уровень оттока в разрезе кол-ва продуктов\")\n",
    "ax.grid(c='grey', lw=0.25)\n",
    "ax.axhline(df['churn'].mean(),label= 'Total churn', ls='--', c='red')\n",
    "ax.legend()\n",
    "plt.show()"
   ]
  },
  {
   "cell_type": "code",
   "execution_count": 70,
   "metadata": {},
   "outputs": [],
   "source": [
    "fiter_products_less= (df['products']<3)\n",
    "fiter_products_more= (df['products']>=3)"
   ]
  },
  {
   "cell_type": "code",
   "execution_count": 71,
   "metadata": {},
   "outputs": [
    {
     "data": {
      "text/plain": [
       "0.1443028932015716"
      ]
     },
     "execution_count": 71,
     "metadata": {},
     "output_type": "execute_result"
    }
   ],
   "source": [
    "df.loc[fiter_products_less,'churn'].mean()"
   ]
  },
  {
   "cell_type": "markdown",
   "metadata": {},
   "source": [
    "Отток близок к среднему показателю."
   ]
  },
  {
   "cell_type": "code",
   "execution_count": 72,
   "metadata": {},
   "outputs": [
    {
     "data": {
      "text/plain": [
       "0.3977646285338593"
      ]
     },
     "execution_count": 72,
     "metadata": {},
     "output_type": "execute_result"
    }
   ],
   "source": [
    "df.loc[fiter_products_more,'churn'].mean()"
   ]
  },
  {
   "cell_type": "markdown",
   "metadata": {},
   "source": [
    "Отток достаточно высокий, превышает средний показатель."
   ]
  },
  {
   "cell_type": "code",
   "execution_count": 73,
   "metadata": {
    "scrolled": false
   },
   "outputs": [
    {
     "data": {
      "image/png": "[encoded data removed]",
      "text/plain": [
       "<Figure size 648x432 with 1 Axes>"
      ]
     },
     "metadata": {
      "needs_background": "light"
     },
     "output_type": "display_data"
    }
   ],
   "source": [
    "fig, ax = plt.subplots (figsize=(9, 6))\n",
    "\n",
    "upper_bound = np.nanpercentile(df['balance'], 97.5)\n",
    "#создаем фильтр\n",
    "filter_balance_outliers = (df['balance'] <= upper_bound)\n",
    "sns.histplot(data=df.loc[filter_balance_outliers], x = 'balance', hue = 'churn', bins = 71,\n",
    "             kde = True, stat='density', common_norm = False,\n",
    "             ax=ax)\n",
    "ax.grid(c='grey', lw=0.25)\n",
    "ax.set_title('Гистограмма баланса (без выбросов)')\n",
    "plt.show()"
   ]
  },
  {
   "cell_type": "markdown",
   "metadata": {},
   "source": [
    "Применим фильтр к балансу и посмотрим отток с учетом ограничений."
   ]
  },
  {
   "cell_type": "code",
   "execution_count": 74,
   "metadata": {},
   "outputs": [],
   "source": [
    "fiter_balanse_less= (df['balance']<=1000000) & (df['balance']>=500000)\n",
    "fiter_balanse_more= (df['balance']<=1350000) & (df['balance']>=1250000)"
   ]
  },
  {
   "cell_type": "code",
   "execution_count": 75,
   "metadata": {},
   "outputs": [
    {
     "data": {
      "image/png": "[encoded data removed]",
      "text/plain": [
       "<Figure size 432x288 with 2 Axes>"
      ]
     },
     "metadata": {
      "needs_background": "light"
     },
     "output_type": "display_data"
    }
   ],
   "source": [
    "sns.heatmap(df.assign(balance = df.balance.round(-5)).groupby('balance').agg({\"churn\":['mean']}).head(16));"
   ]
  },
  {
   "cell_type": "code",
   "execution_count": 76,
   "metadata": {},
   "outputs": [
    {
     "data": {
      "text/plain": [
       "0.10956402647797306"
      ]
     },
     "execution_count": 76,
     "metadata": {},
     "output_type": "execute_result"
    }
   ],
   "source": [
    "df.loc[fiter_balanse_less,'churn'].mean()"
   ]
  },
  {
   "cell_type": "markdown",
   "metadata": {},
   "source": [
    "Отток выше среднего."
   ]
  },
  {
   "cell_type": "code",
   "execution_count": 77,
   "metadata": {},
   "outputs": [
    {
     "data": {
      "text/plain": [
       "0.3574660633484163"
      ]
     },
     "execution_count": 77,
     "metadata": {},
     "output_type": "execute_result"
    }
   ],
   "source": [
    "df.loc[fiter_balanse_more,'churn'].mean()"
   ]
  },
  {
   "cell_type": "markdown",
   "metadata": {},
   "source": [
    "Отток достаточно высокий, превышает средний показатель."
   ]
  },
  {
   "cell_type": "code",
   "execution_count": 78,
   "metadata": {},
   "outputs": [],
   "source": [
    "df['is_high_balance'] = fiter_balanse_more"
   ]
  },
  {
   "cell_type": "code",
   "execution_count": 79,
   "metadata": {},
   "outputs": [
    {
     "data": {
      "image/png": "[encoded data removed]",
      "text/plain": [
       "<Figure size 648x432 with 1 Axes>"
      ]
     },
     "metadata": {
      "needs_background": "light"
     },
     "output_type": "display_data"
    }
   ],
   "source": [
    "fig, ax = plt.subplots(figsize=(9, 6))\n",
    "#визуализируем фильтрованные данные\n",
    "sns.pointplot(data=df, x='products', y='churn' , hue= 'is_high_balance', ax=ax)\n",
    "ax.set_title(\"Уровень оттока в разрезе признака повышенного баланса\")\n",
    "ax.grid(c='grey', lw=0.25)\n",
    "ax.axhline(df['churn'].mean(),label= 'Total churn', ls='--', c='red')\n",
    "ax.legend()\n",
    "plt.show()"
   ]
  },
  {
   "cell_type": "code",
   "execution_count": 80,
   "metadata": {},
   "outputs": [
    {
     "data": {
      "image/png": "[encoded data removed]",
      "text/plain": [
       "<Figure size 1080x720 with 1 Axes>"
      ]
     },
     "metadata": {
      "needs_background": "light"
     },
     "output_type": "display_data"
    }
   ],
   "source": [
    "df.boxplot(column='balance', by='products', figsize=(15, 10))\n",
    "plt.show()"
   ]
  },
  {
   "cell_type": "code",
   "execution_count": 81,
   "metadata": {
    "scrolled": false
   },
   "outputs": [
    {
     "data": {
      "image/png": "[encoded data removed]",
      "text/plain": [
       "<Figure size 648x432 with 1 Axes>"
      ]
     },
     "metadata": {
      "needs_background": "light"
     },
     "output_type": "display_data"
    }
   ],
   "source": [
    "fig, ax = plt.subplots(figsize=(9, 6))\n",
    "\n",
    "sns.pointplot(data=df, x='credit_card', y='churn' , ax=ax)\n",
    "ax.set_title(\"Уровень оттока в разрезе наличия кредитной карты\")\n",
    "ax.grid(c='grey', lw=0.25)\n",
    "ax.axhline(df['churn'].mean(),label= 'Total churn', ls='--', c='red')\n",
    "ax.legend()\n",
    "plt.show()"
   ]
  },
  {
   "cell_type": "code",
   "execution_count": 82,
   "metadata": {},
   "outputs": [],
   "source": [
    "fiter_credit_card_less = (df['credit_card']==1)\n",
    "fiter_credit_card_more = (df['credit_card']==0)"
   ]
  },
  {
   "cell_type": "code",
   "execution_count": 83,
   "metadata": {},
   "outputs": [
    {
     "data": {
      "text/plain": [
       "0.14853246368218204"
      ]
     },
     "execution_count": 83,
     "metadata": {},
     "output_type": "execute_result"
    }
   ],
   "source": [
    "df.loc[fiter_credit_card_less,'churn'].mean()"
   ]
  },
  {
   "cell_type": "code",
   "execution_count": 84,
   "metadata": {},
   "outputs": [
    {
     "data": {
      "text/plain": [
       "0.25677378701953374"
      ]
     },
     "execution_count": 84,
     "metadata": {},
     "output_type": "execute_result"
    }
   ],
   "source": [
    "df.loc[fiter_credit_card_more,'churn'].mean()"
   ]
  },
  {
   "cell_type": "markdown",
   "metadata": {},
   "source": [
    "Отток отличается от среднего."
   ]
  },
  {
   "cell_type": "code",
   "execution_count": 85,
   "metadata": {
    "scrolled": false
   },
   "outputs": [
    {
     "data": {
      "image/png": "[encoded data removed]",
      "text/plain": [
       "<Figure size 648x432 with 1 Axes>"
      ]
     },
     "metadata": {
      "needs_background": "light"
     },
     "output_type": "display_data"
    }
   ],
   "source": [
    "fig, ax = plt.subplots (figsize=(9, 6))\n",
    "\n",
    "sns.histplot(data=df, x = 'est_salary', hue = 'churn', bins = 71,\n",
    "             kde = True, stat='density', common_norm = False,\n",
    "             ax=ax)\n",
    "ax.grid(c='grey', lw=0.25)\n",
    "ax.set_title('Гистограмма заработной платы')\n",
    "plt.show()"
   ]
  },
  {
   "cell_type": "code",
   "execution_count": 86,
   "metadata": {},
   "outputs": [],
   "source": [
    "fiter_est_salary_more = (df['est_salary']>=100000) & (df['est_salary']<=200000)\n",
    "fiter_est_salary_less = (df['est_salary']<=300000)"
   ]
  },
  {
   "cell_type": "code",
   "execution_count": 87,
   "metadata": {},
   "outputs": [
    {
     "data": {
      "text/plain": [
       "0.18399401645474944"
      ]
     },
     "execution_count": 87,
     "metadata": {},
     "output_type": "execute_result"
    }
   ],
   "source": [
    "df.loc[fiter_est_salary_less,'churn'].mean()"
   ]
  },
  {
   "cell_type": "code",
   "execution_count": 88,
   "metadata": {},
   "outputs": [
    {
     "data": {
      "text/plain": [
       "0.20472072914232298"
      ]
     },
     "execution_count": 88,
     "metadata": {},
     "output_type": "execute_result"
    }
   ],
   "source": [
    "df.loc[fiter_est_salary_more,'churn'].mean()"
   ]
  },
  {
   "cell_type": "markdown",
   "metadata": {},
   "source": [
    "Отток близок к среднему."
   ]
  },
  {
   "cell_type": "code",
   "execution_count": 89,
   "metadata": {},
   "outputs": [
    {
     "data": {
      "image/png": "[encoded data removed]",
      "text/plain": [
       "<Figure size 1080x720 with 1 Axes>"
      ]
     },
     "metadata": {
      "needs_background": "light"
     },
     "output_type": "display_data"
    }
   ],
   "source": [
    "df.boxplot(column='est_salary', by='products', figsize=(15, 10))\n",
    "plt.show()"
   ]
  },
  {
   "cell_type": "markdown",
   "metadata": {},
   "source": [
    "### Вывод по пункту"
   ]
  },
  {
   "cell_type": "markdown",
   "metadata": {},
   "source": [
    "Большее отклонение по продуктам во всех столбцах присутствует в группе с 1 продуктом. Также в столбце баланса большое отклонение в группе с 5 продуктами.\n",
    "\n",
    "В случае с отточными клиентами стандартное отклонение больше в столбце баланса, а в столбце с заработной платой больше у неотточных клиентов.\n",
    "\n",
    "Слабая, но наибольшая связь с целевой характеристикой churn наблюдается со столбцами equity и products. Также слабая связь наблюдается с last_activity, gender, score и balance. Мы выяснили, что на отток больше всего влияют такие показатели, как score, gender, age, credit_card, equity и products."
   ]
  },
  {
   "cell_type": "markdown",
   "metadata": {},
   "source": [
    "## Сегментация пользователей"
   ]
  },
  {
   "cell_type": "markdown",
   "metadata": {},
   "source": [
    "### Распределение пользователей по количеству продуктов, гистограмма"
   ]
  },
  {
   "cell_type": "markdown",
   "metadata": {},
   "source": [
    "Разобьем датасет на группы по количеству продуктов."
   ]
  },
  {
   "cell_type": "code",
   "execution_count": 90,
   "metadata": {},
   "outputs": [
    {
     "data": {
      "text/plain": [
       "3306"
      ]
     },
     "execution_count": 90,
     "metadata": {},
     "output_type": "execute_result"
    }
   ],
   "source": [
    "df[df['products'] == 1]['user_id'].count()"
   ]
  },
  {
   "cell_type": "code",
   "execution_count": 91,
   "metadata": {},
   "outputs": [
    {
     "data": {
      "text/plain": [
       "5093"
      ]
     },
     "execution_count": 91,
     "metadata": {},
     "output_type": "execute_result"
    }
   ],
   "source": [
    "df[df['products'] == 2]['user_id'].count()"
   ]
  },
  {
   "cell_type": "code",
   "execution_count": 92,
   "metadata": {},
   "outputs": [
    {
     "data": {
      "text/plain": [
       "1028"
      ]
     },
     "execution_count": 92,
     "metadata": {},
     "output_type": "execute_result"
    }
   ],
   "source": [
    "df[df['products'] == 3]['user_id'].count()"
   ]
  },
  {
   "cell_type": "code",
   "execution_count": 93,
   "metadata": {},
   "outputs": [
    {
     "data": {
      "text/plain": [
       "474"
      ]
     },
     "execution_count": 93,
     "metadata": {},
     "output_type": "execute_result"
    }
   ],
   "source": [
    "df[df['products'] == 4]['user_id'].count()"
   ]
  },
  {
   "cell_type": "code",
   "execution_count": 94,
   "metadata": {},
   "outputs": [
    {
     "data": {
      "text/plain": [
       "19"
      ]
     },
     "execution_count": 94,
     "metadata": {},
     "output_type": "execute_result"
    }
   ],
   "source": [
    "df[df['products'] == 5]['user_id'].count()"
   ]
  },
  {
   "cell_type": "code",
   "execution_count": 95,
   "metadata": {},
   "outputs": [],
   "source": [
    "p1 = df[df['products'] == 1]\n",
    "p2 = df[df['products'] == 2]\n",
    "p3 = df[df['products'] == 3]\n",
    "p4 = df[df['products'] == 4]\n",
    "p5 = df[df['products'] == 5]"
   ]
  },
  {
   "cell_type": "code",
   "execution_count": 96,
   "metadata": {},
   "outputs": [
    {
     "data": {
      "text/html": [
       "<div>\n",
       "<style scoped>\n",
       "    .dataframe tbody tr th:only-of-type {\n",
       "        vertical-align: middle;\n",
       "    }\n",
       "\n",
       "    .dataframe tbody tr th {\n",
       "        vertical-align: top;\n",
       "    }\n",
       "\n",
       "    .dataframe thead th {\n",
       "        text-align: right;\n",
       "    }\n",
       "</style>\n",
       "<table border=\"1\" class=\"dataframe\">\n",
       "  <thead>\n",
       "    <tr style=\"text-align: right;\">\n",
       "      <th></th>\n",
       "      <th>user_id</th>\n",
       "      <th>score</th>\n",
       "      <th>gender</th>\n",
       "      <th>age</th>\n",
       "      <th>equity</th>\n",
       "      <th>balance</th>\n",
       "      <th>products</th>\n",
       "      <th>credit_card</th>\n",
       "      <th>last_activity</th>\n",
       "      <th>est_salary</th>\n",
       "      <th>churn</th>\n",
       "      <th>city_Ростов</th>\n",
       "      <th>city_Рыбинск</th>\n",
       "      <th>city_Ярославль</th>\n",
       "    </tr>\n",
       "  </thead>\n",
       "  <tbody>\n",
       "    <tr>\n",
       "      <th>count</th>\n",
       "      <td>3306.0</td>\n",
       "      <td>3306.0</td>\n",
       "      <td>3306.0</td>\n",
       "      <td>3306.0</td>\n",
       "      <td>3306.0</td>\n",
       "      <td>3306.0</td>\n",
       "      <td>3306.0</td>\n",
       "      <td>3306.0</td>\n",
       "      <td>3306.0</td>\n",
       "      <td>3306.0</td>\n",
       "      <td>3306.0</td>\n",
       "      <td>3306.0</td>\n",
       "      <td>3306.0</td>\n",
       "      <td>3306.0</td>\n",
       "    </tr>\n",
       "    <tr>\n",
       "      <th>mean</th>\n",
       "      <td>172049.0</td>\n",
       "      <td>854.0</td>\n",
       "      <td>1.0</td>\n",
       "      <td>42.0</td>\n",
       "      <td>1.0</td>\n",
       "      <td>736754.0</td>\n",
       "      <td>1.0</td>\n",
       "      <td>1.0</td>\n",
       "      <td>1.0</td>\n",
       "      <td>180616.0</td>\n",
       "      <td>0.0</td>\n",
       "      <td>0.0</td>\n",
       "      <td>0.0</td>\n",
       "      <td>1.0</td>\n",
       "    </tr>\n",
       "    <tr>\n",
       "      <th>std</th>\n",
       "      <td>33299.0</td>\n",
       "      <td>78.0</td>\n",
       "      <td>0.0</td>\n",
       "      <td>12.0</td>\n",
       "      <td>2.0</td>\n",
       "      <td>614199.0</td>\n",
       "      <td>0.0</td>\n",
       "      <td>0.0</td>\n",
       "      <td>0.0</td>\n",
       "      <td>169348.0</td>\n",
       "      <td>0.0</td>\n",
       "      <td>0.0</td>\n",
       "      <td>0.0</td>\n",
       "      <td>0.0</td>\n",
       "    </tr>\n",
       "    <tr>\n",
       "      <th>min</th>\n",
       "      <td>94590.0</td>\n",
       "      <td>642.0</td>\n",
       "      <td>0.0</td>\n",
       "      <td>18.0</td>\n",
       "      <td>0.0</td>\n",
       "      <td>6.0</td>\n",
       "      <td>1.0</td>\n",
       "      <td>0.0</td>\n",
       "      <td>0.0</td>\n",
       "      <td>2546.0</td>\n",
       "      <td>0.0</td>\n",
       "      <td>0.0</td>\n",
       "      <td>0.0</td>\n",
       "      <td>0.0</td>\n",
       "    </tr>\n",
       "    <tr>\n",
       "      <th>25%</th>\n",
       "      <td>143399.0</td>\n",
       "      <td>800.0</td>\n",
       "      <td>0.0</td>\n",
       "      <td>33.0</td>\n",
       "      <td>0.0</td>\n",
       "      <td>503942.0</td>\n",
       "      <td>1.0</td>\n",
       "      <td>1.0</td>\n",
       "      <td>0.0</td>\n",
       "      <td>90476.0</td>\n",
       "      <td>0.0</td>\n",
       "      <td>0.0</td>\n",
       "      <td>0.0</td>\n",
       "      <td>0.0</td>\n",
       "    </tr>\n",
       "    <tr>\n",
       "      <th>50%</th>\n",
       "      <td>173016.0</td>\n",
       "      <td>883.0</td>\n",
       "      <td>1.0</td>\n",
       "      <td>40.0</td>\n",
       "      <td>0.0</td>\n",
       "      <td>827246.0</td>\n",
       "      <td>1.0</td>\n",
       "      <td>1.0</td>\n",
       "      <td>1.0</td>\n",
       "      <td>142183.0</td>\n",
       "      <td>0.0</td>\n",
       "      <td>0.0</td>\n",
       "      <td>0.0</td>\n",
       "      <td>1.0</td>\n",
       "    </tr>\n",
       "    <tr>\n",
       "      <th>75%</th>\n",
       "      <td>201177.0</td>\n",
       "      <td>913.0</td>\n",
       "      <td>1.0</td>\n",
       "      <td>50.0</td>\n",
       "      <td>3.0</td>\n",
       "      <td>827246.0</td>\n",
       "      <td>1.0</td>\n",
       "      <td>1.0</td>\n",
       "      <td>1.0</td>\n",
       "      <td>204818.0</td>\n",
       "      <td>0.0</td>\n",
       "      <td>0.0</td>\n",
       "      <td>1.0</td>\n",
       "      <td>1.0</td>\n",
       "    </tr>\n",
       "    <tr>\n",
       "      <th>max</th>\n",
       "      <td>229145.0</td>\n",
       "      <td>1000.0</td>\n",
       "      <td>1.0</td>\n",
       "      <td>86.0</td>\n",
       "      <td>9.0</td>\n",
       "      <td>14802130.0</td>\n",
       "      <td>1.0</td>\n",
       "      <td>1.0</td>\n",
       "      <td>1.0</td>\n",
       "      <td>1333687.0</td>\n",
       "      <td>1.0</td>\n",
       "      <td>1.0</td>\n",
       "      <td>1.0</td>\n",
       "      <td>1.0</td>\n",
       "    </tr>\n",
       "  </tbody>\n",
       "</table>\n",
       "</div>"
      ],
      "text/plain": [
       "        user_id   score  gender     age  equity     balance  products  \\\n",
       "count    3306.0  3306.0  3306.0  3306.0  3306.0      3306.0    3306.0   \n",
       "mean   172049.0   854.0     1.0    42.0     1.0    736754.0       1.0   \n",
       "std     33299.0    78.0     0.0    12.0     2.0    614199.0       0.0   \n",
       "min     94590.0   642.0     0.0    18.0     0.0         6.0       1.0   \n",
       "25%    143399.0   800.0     0.0    33.0     0.0    503942.0       1.0   \n",
       "50%    173016.0   883.0     1.0    40.0     0.0    827246.0       1.0   \n",
       "75%    201177.0   913.0     1.0    50.0     3.0    827246.0       1.0   \n",
       "max    229145.0  1000.0     1.0    86.0     9.0  14802130.0       1.0   \n",
       "\n",
       "       credit_card  last_activity  est_salary   churn  city_Ростов  \\\n",
       "count       3306.0         3306.0      3306.0  3306.0       3306.0   \n",
       "mean           1.0            1.0    180616.0     0.0          0.0   \n",
       "std            0.0            0.0    169348.0     0.0          0.0   \n",
       "min            0.0            0.0      2546.0     0.0          0.0   \n",
       "25%            1.0            0.0     90476.0     0.0          0.0   \n",
       "50%            1.0            1.0    142183.0     0.0          0.0   \n",
       "75%            1.0            1.0    204818.0     0.0          0.0   \n",
       "max            1.0            1.0   1333687.0     1.0          1.0   \n",
       "\n",
       "       city_Рыбинск  city_Ярославль  \n",
       "count        3306.0          3306.0  \n",
       "mean            0.0             1.0  \n",
       "std             0.0             0.0  \n",
       "min             0.0             0.0  \n",
       "25%             0.0             0.0  \n",
       "50%             0.0             1.0  \n",
       "75%             1.0             1.0  \n",
       "max             1.0             1.0  "
      ]
     },
     "execution_count": 96,
     "metadata": {},
     "output_type": "execute_result"
    }
   ],
   "source": [
    "p1.describe().round()"
   ]
  },
  {
   "cell_type": "markdown",
   "metadata": {},
   "source": [
    "Группы с 1 и 2 продуктами слишком большие. Маркетинг не сможет у нас обработать сегменты более 2 тысяч человек.Поэтому необходимо разбить их на более мелкие, сделаем это на основании возраста. В свою очередь группы с 3, 4 и 5 продуктами достаточно малы и их можно объединить в один сегмент (сегменты менее 300 человек нам неинтересны). Более того, группы с этими продуктами имеют больший отток в отличае от клиентов с 1 и 2 продуктами."
   ]
  },
  {
   "cell_type": "code",
   "execution_count": 97,
   "metadata": {},
   "outputs": [
    {
     "data": {
      "text/plain": [
       "1688"
      ]
     },
     "execution_count": 97,
     "metadata": {},
     "output_type": "execute_result"
    }
   ],
   "source": [
    "s1=p1[p1['age']>=40]\n",
    "s1['user_id'].count()"
   ]
  },
  {
   "cell_type": "code",
   "execution_count": 98,
   "metadata": {},
   "outputs": [
    {
     "data": {
      "text/plain": [
       "1618"
      ]
     },
     "execution_count": 98,
     "metadata": {},
     "output_type": "execute_result"
    }
   ],
   "source": [
    "s2=p1[p1['age']<40]\n",
    "s2['user_id'].count()"
   ]
  },
  {
   "cell_type": "code",
   "execution_count": 99,
   "metadata": {},
   "outputs": [
    {
     "data": {
      "text/html": [
       "<div>\n",
       "<style scoped>\n",
       "    .dataframe tbody tr th:only-of-type {\n",
       "        vertical-align: middle;\n",
       "    }\n",
       "\n",
       "    .dataframe tbody tr th {\n",
       "        vertical-align: top;\n",
       "    }\n",
       "\n",
       "    .dataframe thead th {\n",
       "        text-align: right;\n",
       "    }\n",
       "</style>\n",
       "<table border=\"1\" class=\"dataframe\">\n",
       "  <thead>\n",
       "    <tr style=\"text-align: right;\">\n",
       "      <th></th>\n",
       "      <th>user_id</th>\n",
       "      <th>score</th>\n",
       "      <th>gender</th>\n",
       "      <th>age</th>\n",
       "      <th>equity</th>\n",
       "      <th>balance</th>\n",
       "      <th>products</th>\n",
       "      <th>credit_card</th>\n",
       "      <th>last_activity</th>\n",
       "      <th>est_salary</th>\n",
       "      <th>churn</th>\n",
       "      <th>city_Ростов</th>\n",
       "      <th>city_Рыбинск</th>\n",
       "      <th>city_Ярославль</th>\n",
       "    </tr>\n",
       "  </thead>\n",
       "  <tbody>\n",
       "    <tr>\n",
       "      <th>count</th>\n",
       "      <td>5093.0</td>\n",
       "      <td>5093.0</td>\n",
       "      <td>5093.0</td>\n",
       "      <td>5093.0</td>\n",
       "      <td>5093.0</td>\n",
       "      <td>5093.0</td>\n",
       "      <td>5093.0</td>\n",
       "      <td>5093.0</td>\n",
       "      <td>5093.0</td>\n",
       "      <td>5093.0</td>\n",
       "      <td>5093.0</td>\n",
       "      <td>5093.0</td>\n",
       "      <td>5093.0</td>\n",
       "      <td>5093.0</td>\n",
       "    </tr>\n",
       "    <tr>\n",
       "      <th>mean</th>\n",
       "      <td>171431.0</td>\n",
       "      <td>845.0</td>\n",
       "      <td>0.0</td>\n",
       "      <td>43.0</td>\n",
       "      <td>3.0</td>\n",
       "      <td>778132.0</td>\n",
       "      <td>2.0</td>\n",
       "      <td>1.0</td>\n",
       "      <td>1.0</td>\n",
       "      <td>130542.0</td>\n",
       "      <td>0.0</td>\n",
       "      <td>0.0</td>\n",
       "      <td>0.0</td>\n",
       "      <td>1.0</td>\n",
       "    </tr>\n",
       "    <tr>\n",
       "      <th>std</th>\n",
       "      <td>33762.0</td>\n",
       "      <td>58.0</td>\n",
       "      <td>0.0</td>\n",
       "      <td>12.0</td>\n",
       "      <td>2.0</td>\n",
       "      <td>1138690.0</td>\n",
       "      <td>0.0</td>\n",
       "      <td>0.0</td>\n",
       "      <td>0.0</td>\n",
       "      <td>117272.0</td>\n",
       "      <td>0.0</td>\n",
       "      <td>0.0</td>\n",
       "      <td>0.0</td>\n",
       "      <td>0.0</td>\n",
       "    </tr>\n",
       "    <tr>\n",
       "      <th>min</th>\n",
       "      <td>94561.0</td>\n",
       "      <td>646.0</td>\n",
       "      <td>0.0</td>\n",
       "      <td>18.0</td>\n",
       "      <td>0.0</td>\n",
       "      <td>0.0</td>\n",
       "      <td>2.0</td>\n",
       "      <td>0.0</td>\n",
       "      <td>0.0</td>\n",
       "      <td>5342.0</td>\n",
       "      <td>0.0</td>\n",
       "      <td>0.0</td>\n",
       "      <td>0.0</td>\n",
       "      <td>0.0</td>\n",
       "    </tr>\n",
       "    <tr>\n",
       "      <th>25%</th>\n",
       "      <td>141712.0</td>\n",
       "      <td>801.0</td>\n",
       "      <td>0.0</td>\n",
       "      <td>33.0</td>\n",
       "      <td>2.0</td>\n",
       "      <td>307619.0</td>\n",
       "      <td>2.0</td>\n",
       "      <td>0.0</td>\n",
       "      <td>0.0</td>\n",
       "      <td>69998.0</td>\n",
       "      <td>0.0</td>\n",
       "      <td>0.0</td>\n",
       "      <td>0.0</td>\n",
       "      <td>0.0</td>\n",
       "    </tr>\n",
       "    <tr>\n",
       "      <th>50%</th>\n",
       "      <td>172138.0</td>\n",
       "      <td>844.0</td>\n",
       "      <td>0.0</td>\n",
       "      <td>40.0</td>\n",
       "      <td>3.0</td>\n",
       "      <td>556010.0</td>\n",
       "      <td>2.0</td>\n",
       "      <td>1.0</td>\n",
       "      <td>1.0</td>\n",
       "      <td>109692.0</td>\n",
       "      <td>0.0</td>\n",
       "      <td>0.0</td>\n",
       "      <td>0.0</td>\n",
       "      <td>1.0</td>\n",
       "    </tr>\n",
       "    <tr>\n",
       "      <th>75%</th>\n",
       "      <td>201039.0</td>\n",
       "      <td>886.0</td>\n",
       "      <td>1.0</td>\n",
       "      <td>52.0</td>\n",
       "      <td>5.0</td>\n",
       "      <td>902848.0</td>\n",
       "      <td>2.0</td>\n",
       "      <td>1.0</td>\n",
       "      <td>1.0</td>\n",
       "      <td>159251.0</td>\n",
       "      <td>0.0</td>\n",
       "      <td>0.0</td>\n",
       "      <td>1.0</td>\n",
       "      <td>1.0</td>\n",
       "    </tr>\n",
       "    <tr>\n",
       "      <th>max</th>\n",
       "      <td>229136.0</td>\n",
       "      <td>1000.0</td>\n",
       "      <td>1.0</td>\n",
       "      <td>84.0</td>\n",
       "      <td>9.0</td>\n",
       "      <td>29008932.0</td>\n",
       "      <td>2.0</td>\n",
       "      <td>1.0</td>\n",
       "      <td>1.0</td>\n",
       "      <td>1395064.0</td>\n",
       "      <td>1.0</td>\n",
       "      <td>1.0</td>\n",
       "      <td>1.0</td>\n",
       "      <td>1.0</td>\n",
       "    </tr>\n",
       "  </tbody>\n",
       "</table>\n",
       "</div>"
      ],
      "text/plain": [
       "        user_id   score  gender     age  equity     balance  products  \\\n",
       "count    5093.0  5093.0  5093.0  5093.0  5093.0      5093.0    5093.0   \n",
       "mean   171431.0   845.0     0.0    43.0     3.0    778132.0       2.0   \n",
       "std     33762.0    58.0     0.0    12.0     2.0   1138690.0       0.0   \n",
       "min     94561.0   646.0     0.0    18.0     0.0         0.0       2.0   \n",
       "25%    141712.0   801.0     0.0    33.0     2.0    307619.0       2.0   \n",
       "50%    172138.0   844.0     0.0    40.0     3.0    556010.0       2.0   \n",
       "75%    201039.0   886.0     1.0    52.0     5.0    902848.0       2.0   \n",
       "max    229136.0  1000.0     1.0    84.0     9.0  29008932.0       2.0   \n",
       "\n",
       "       credit_card  last_activity  est_salary   churn  city_Ростов  \\\n",
       "count       5093.0         5093.0      5093.0  5093.0       5093.0   \n",
       "mean           1.0            1.0    130542.0     0.0          0.0   \n",
       "std            0.0            0.0    117272.0     0.0          0.0   \n",
       "min            0.0            0.0      5342.0     0.0          0.0   \n",
       "25%            0.0            0.0     69998.0     0.0          0.0   \n",
       "50%            1.0            1.0    109692.0     0.0          0.0   \n",
       "75%            1.0            1.0    159251.0     0.0          0.0   \n",
       "max            1.0            1.0   1395064.0     1.0          1.0   \n",
       "\n",
       "       city_Рыбинск  city_Ярославль  \n",
       "count        5093.0          5093.0  \n",
       "mean            0.0             1.0  \n",
       "std             0.0             0.0  \n",
       "min             0.0             0.0  \n",
       "25%             0.0             0.0  \n",
       "50%             0.0             1.0  \n",
       "75%             1.0             1.0  \n",
       "max             1.0             1.0  "
      ]
     },
     "execution_count": 99,
     "metadata": {},
     "output_type": "execute_result"
    }
   ],
   "source": [
    "p2.describe().round()"
   ]
  },
  {
   "cell_type": "code",
   "execution_count": 100,
   "metadata": {},
   "outputs": [
    {
     "data": {
      "text/plain": [
       "2666"
      ]
     },
     "execution_count": 100,
     "metadata": {},
     "output_type": "execute_result"
    }
   ],
   "source": [
    "s3=p2[p2['age']>=40]\n",
    "s3['user_id'].count()"
   ]
  },
  {
   "cell_type": "code",
   "execution_count": 101,
   "metadata": {},
   "outputs": [
    {
     "data": {
      "text/plain": [
       "2427"
      ]
     },
     "execution_count": 101,
     "metadata": {},
     "output_type": "execute_result"
    }
   ],
   "source": [
    "s4=p2[p2['age']<40]\n",
    "s4['user_id'].count()"
   ]
  },
  {
   "cell_type": "code",
   "execution_count": 102,
   "metadata": {},
   "outputs": [
    {
     "data": {
      "text/html": [
       "<div>\n",
       "<style scoped>\n",
       "    .dataframe tbody tr th:only-of-type {\n",
       "        vertical-align: middle;\n",
       "    }\n",
       "\n",
       "    .dataframe tbody tr th {\n",
       "        vertical-align: top;\n",
       "    }\n",
       "\n",
       "    .dataframe thead th {\n",
       "        text-align: right;\n",
       "    }\n",
       "</style>\n",
       "<table border=\"1\" class=\"dataframe\">\n",
       "  <thead>\n",
       "    <tr style=\"text-align: right;\">\n",
       "      <th></th>\n",
       "      <th>user_id</th>\n",
       "      <th>score</th>\n",
       "      <th>gender</th>\n",
       "      <th>age</th>\n",
       "      <th>equity</th>\n",
       "      <th>balance</th>\n",
       "      <th>products</th>\n",
       "      <th>credit_card</th>\n",
       "      <th>last_activity</th>\n",
       "      <th>est_salary</th>\n",
       "      <th>churn</th>\n",
       "      <th>city_Ростов</th>\n",
       "      <th>city_Рыбинск</th>\n",
       "      <th>city_Ярославль</th>\n",
       "    </tr>\n",
       "  </thead>\n",
       "  <tbody>\n",
       "    <tr>\n",
       "      <th>count</th>\n",
       "      <td>1028.0</td>\n",
       "      <td>1028.0</td>\n",
       "      <td>1028.0</td>\n",
       "      <td>1028.0</td>\n",
       "      <td>1028.0</td>\n",
       "      <td>1028.0</td>\n",
       "      <td>1028.0</td>\n",
       "      <td>1028.0</td>\n",
       "      <td>1028.0</td>\n",
       "      <td>1028.0</td>\n",
       "      <td>1028.0</td>\n",
       "      <td>1028.0</td>\n",
       "      <td>1028.0</td>\n",
       "      <td>1028.0</td>\n",
       "    </tr>\n",
       "    <tr>\n",
       "      <th>mean</th>\n",
       "      <td>172965.0</td>\n",
       "      <td>837.0</td>\n",
       "      <td>0.0</td>\n",
       "      <td>46.0</td>\n",
       "      <td>4.0</td>\n",
       "      <td>950947.0</td>\n",
       "      <td>3.0</td>\n",
       "      <td>0.0</td>\n",
       "      <td>0.0</td>\n",
       "      <td>128910.0</td>\n",
       "      <td>0.0</td>\n",
       "      <td>0.0</td>\n",
       "      <td>0.0</td>\n",
       "      <td>1.0</td>\n",
       "    </tr>\n",
       "    <tr>\n",
       "      <th>std</th>\n",
       "      <td>33446.0</td>\n",
       "      <td>58.0</td>\n",
       "      <td>0.0</td>\n",
       "      <td>13.0</td>\n",
       "      <td>2.0</td>\n",
       "      <td>1184486.0</td>\n",
       "      <td>0.0</td>\n",
       "      <td>0.0</td>\n",
       "      <td>0.0</td>\n",
       "      <td>118813.0</td>\n",
       "      <td>0.0</td>\n",
       "      <td>0.0</td>\n",
       "      <td>0.0</td>\n",
       "      <td>0.0</td>\n",
       "    </tr>\n",
       "    <tr>\n",
       "      <th>min</th>\n",
       "      <td>99721.0</td>\n",
       "      <td>689.0</td>\n",
       "      <td>0.0</td>\n",
       "      <td>19.0</td>\n",
       "      <td>0.0</td>\n",
       "      <td>63.0</td>\n",
       "      <td>3.0</td>\n",
       "      <td>0.0</td>\n",
       "      <td>0.0</td>\n",
       "      <td>3487.0</td>\n",
       "      <td>0.0</td>\n",
       "      <td>0.0</td>\n",
       "      <td>0.0</td>\n",
       "      <td>0.0</td>\n",
       "    </tr>\n",
       "    <tr>\n",
       "      <th>25%</th>\n",
       "      <td>144653.0</td>\n",
       "      <td>792.0</td>\n",
       "      <td>0.0</td>\n",
       "      <td>35.0</td>\n",
       "      <td>3.0</td>\n",
       "      <td>374285.0</td>\n",
       "      <td>3.0</td>\n",
       "      <td>0.0</td>\n",
       "      <td>0.0</td>\n",
       "      <td>67347.0</td>\n",
       "      <td>0.0</td>\n",
       "      <td>0.0</td>\n",
       "      <td>0.0</td>\n",
       "      <td>1.0</td>\n",
       "    </tr>\n",
       "    <tr>\n",
       "      <th>50%</th>\n",
       "      <td>175333.0</td>\n",
       "      <td>828.0</td>\n",
       "      <td>0.0</td>\n",
       "      <td>42.0</td>\n",
       "      <td>4.0</td>\n",
       "      <td>689476.0</td>\n",
       "      <td>3.0</td>\n",
       "      <td>0.0</td>\n",
       "      <td>0.0</td>\n",
       "      <td>105969.0</td>\n",
       "      <td>0.0</td>\n",
       "      <td>0.0</td>\n",
       "      <td>0.0</td>\n",
       "      <td>1.0</td>\n",
       "    </tr>\n",
       "    <tr>\n",
       "      <th>75%</th>\n",
       "      <td>201400.0</td>\n",
       "      <td>879.0</td>\n",
       "      <td>1.0</td>\n",
       "      <td>57.0</td>\n",
       "      <td>5.0</td>\n",
       "      <td>1208008.0</td>\n",
       "      <td>3.0</td>\n",
       "      <td>1.0</td>\n",
       "      <td>1.0</td>\n",
       "      <td>158291.0</td>\n",
       "      <td>1.0</td>\n",
       "      <td>0.0</td>\n",
       "      <td>0.0</td>\n",
       "      <td>1.0</td>\n",
       "    </tr>\n",
       "    <tr>\n",
       "      <th>max</th>\n",
       "      <td>229058.0</td>\n",
       "      <td>996.0</td>\n",
       "      <td>1.0</td>\n",
       "      <td>83.0</td>\n",
       "      <td>9.0</td>\n",
       "      <td>25727762.0</td>\n",
       "      <td>3.0</td>\n",
       "      <td>1.0</td>\n",
       "      <td>1.0</td>\n",
       "      <td>1363550.0</td>\n",
       "      <td>1.0</td>\n",
       "      <td>1.0</td>\n",
       "      <td>1.0</td>\n",
       "      <td>1.0</td>\n",
       "    </tr>\n",
       "  </tbody>\n",
       "</table>\n",
       "</div>"
      ],
      "text/plain": [
       "        user_id   score  gender     age  equity     balance  products  \\\n",
       "count    1028.0  1028.0  1028.0  1028.0  1028.0      1028.0    1028.0   \n",
       "mean   172965.0   837.0     0.0    46.0     4.0    950947.0       3.0   \n",
       "std     33446.0    58.0     0.0    13.0     2.0   1184486.0       0.0   \n",
       "min     99721.0   689.0     0.0    19.0     0.0        63.0       3.0   \n",
       "25%    144653.0   792.0     0.0    35.0     3.0    374285.0       3.0   \n",
       "50%    175333.0   828.0     0.0    42.0     4.0    689476.0       3.0   \n",
       "75%    201400.0   879.0     1.0    57.0     5.0   1208008.0       3.0   \n",
       "max    229058.0   996.0     1.0    83.0     9.0  25727762.0       3.0   \n",
       "\n",
       "       credit_card  last_activity  est_salary   churn  city_Ростов  \\\n",
       "count       1028.0         1028.0      1028.0  1028.0       1028.0   \n",
       "mean           0.0            0.0    128910.0     0.0          0.0   \n",
       "std            0.0            0.0    118813.0     0.0          0.0   \n",
       "min            0.0            0.0      3487.0     0.0          0.0   \n",
       "25%            0.0            0.0     67347.0     0.0          0.0   \n",
       "50%            0.0            0.0    105969.0     0.0          0.0   \n",
       "75%            1.0            1.0    158291.0     1.0          0.0   \n",
       "max            1.0            1.0   1363550.0     1.0          1.0   \n",
       "\n",
       "       city_Рыбинск  city_Ярославль  \n",
       "count        1028.0          1028.0  \n",
       "mean            0.0             1.0  \n",
       "std             0.0             0.0  \n",
       "min             0.0             0.0  \n",
       "25%             0.0             1.0  \n",
       "50%             0.0             1.0  \n",
       "75%             0.0             1.0  \n",
       "max             1.0             1.0  "
      ]
     },
     "execution_count": 102,
     "metadata": {},
     "output_type": "execute_result"
    }
   ],
   "source": [
    "p3.describe().round()"
   ]
  },
  {
   "cell_type": "code",
   "execution_count": 103,
   "metadata": {},
   "outputs": [
    {
     "data": {
      "text/plain": [
       "1521"
      ]
     },
     "execution_count": 103,
     "metadata": {},
     "output_type": "execute_result"
    }
   ],
   "source": [
    "s5 = pd.concat([p3, p4, p5])\n",
    "s5['user_id'].count()"
   ]
  },
  {
   "cell_type": "markdown",
   "metadata": {},
   "source": [
    "Мы разбили клиентов на 5 сегментов по продуктам и возрасту."
   ]
  },
  {
   "cell_type": "markdown",
   "metadata": {},
   "source": [
    "### Исследование отличительных черт получившихся групп"
   ]
  },
  {
   "cell_type": "code",
   "execution_count": 104,
   "metadata": {},
   "outputs": [],
   "source": [
    "def inf_s(s):\n",
    "    print('Размер сегмента: ',len(s),'\\n')\n",
    "    print('Показатели по оттоку: \\n',s.agg({\"churn\":[\"mean\",\"sum\",\"count\"]}), '\\n')\n",
    "    print('Средние значения всех показателей: \\n',s.mean().round(), '\\n')\n",
    "    print('Какие продукты в сегменте: \\n', s['products'].unique())"
   ]
  },
  {
   "cell_type": "code",
   "execution_count": 105,
   "metadata": {},
   "outputs": [
    {
     "name": "stdout",
     "output_type": "stream",
     "text": [
      "Размер сегмента:  1688 \n",
      "\n",
      "Показатели по оттоку: \n",
      "              churn\n",
      "mean      0.066943\n",
      "sum     113.000000\n",
      "count  1688.000000 \n",
      "\n",
      "Средние значения всех показателей: \n",
      " user_id            172726.0\n",
      "score                 853.0\n",
      "gender                  0.0\n",
      "age                    51.0\n",
      "equity                  1.0\n",
      "balance            753974.0\n",
      "products                1.0\n",
      "credit_card             1.0\n",
      "last_activity           1.0\n",
      "est_salary         187380.0\n",
      "churn                   0.0\n",
      "city_Ростов             0.0\n",
      "city_Рыбинск            0.0\n",
      "city_Ярославль          1.0\n",
      "is_high_balance         0.0\n",
      "dtype: float64 \n",
      "\n",
      "Какие продукты в сегменте: \n",
      " [1]\n"
     ]
    }
   ],
   "source": [
    "inf_s(s1)"
   ]
  },
  {
   "cell_type": "code",
   "execution_count": 106,
   "metadata": {},
   "outputs": [
    {
     "name": "stdout",
     "output_type": "stream",
     "text": [
      "Размер сегмента:  1618 \n",
      "\n",
      "Показатели по оттоку: \n",
      "              churn\n",
      "mean      0.075402\n",
      "sum     122.000000\n",
      "count  1618.000000 \n",
      "\n",
      "Средние значения всех показателей: \n",
      " user_id            171342.0\n",
      "score                 855.0\n",
      "gender                  1.0\n",
      "age                    33.0\n",
      "equity                  1.0\n",
      "balance            718790.0\n",
      "products                1.0\n",
      "credit_card             1.0\n",
      "last_activity           1.0\n",
      "est_salary         173560.0\n",
      "churn                   0.0\n",
      "city_Ростов             0.0\n",
      "city_Рыбинск            0.0\n",
      "city_Ярославль          1.0\n",
      "is_high_balance         0.0\n",
      "dtype: float64 \n",
      "\n",
      "Какие продукты в сегменте: \n",
      " [1]\n"
     ]
    }
   ],
   "source": [
    "inf_s(s2)"
   ]
  },
  {
   "cell_type": "code",
   "execution_count": 107,
   "metadata": {},
   "outputs": [
    {
     "name": "stdout",
     "output_type": "stream",
     "text": [
      "Размер сегмента:  2666 \n",
      "\n",
      "Показатели по оттоку: \n",
      "              churn\n",
      "mean      0.169542\n",
      "sum     452.000000\n",
      "count  2666.000000 \n",
      "\n",
      "Средние значения всех показателей: \n",
      " user_id            171822.0\n",
      "score                 843.0\n",
      "gender                  0.0\n",
      "age                    52.0\n",
      "equity                  3.0\n",
      "balance            825765.0\n",
      "products                2.0\n",
      "credit_card             1.0\n",
      "last_activity           1.0\n",
      "est_salary         133468.0\n",
      "churn                   0.0\n",
      "city_Ростов             0.0\n",
      "city_Рыбинск            0.0\n",
      "city_Ярославль          1.0\n",
      "is_high_balance         0.0\n",
      "dtype: float64 \n",
      "\n",
      "Какие продукты в сегменте: \n",
      " [2]\n"
     ]
    }
   ],
   "source": [
    "inf_s(s3)"
   ]
  },
  {
   "cell_type": "code",
   "execution_count": 108,
   "metadata": {},
   "outputs": [
    {
     "name": "stdout",
     "output_type": "stream",
     "text": [
      "Размер сегмента:  2427 \n",
      "\n",
      "Показатели по оттоку: \n",
      "              churn\n",
      "mean      0.216316\n",
      "sum     525.000000\n",
      "count  2427.000000 \n",
      "\n",
      "Средние значения всех показателей: \n",
      " user_id            171001.0\n",
      "score                 847.0\n",
      "gender                  1.0\n",
      "age                    32.0\n",
      "equity                  3.0\n",
      "balance            725807.0\n",
      "products                2.0\n",
      "credit_card             1.0\n",
      "last_activity           1.0\n",
      "est_salary         127327.0\n",
      "churn                   0.0\n",
      "city_Ростов             0.0\n",
      "city_Рыбинск            0.0\n",
      "city_Ярославль          1.0\n",
      "is_high_balance         0.0\n",
      "dtype: float64 \n",
      "\n",
      "Какие продукты в сегменте: \n",
      " [2]\n"
     ]
    }
   ],
   "source": [
    "inf_s(s4)"
   ]
  },
  {
   "cell_type": "code",
   "execution_count": 109,
   "metadata": {},
   "outputs": [
    {
     "name": "stdout",
     "output_type": "stream",
     "text": [
      "Размер сегмента:  1521 \n",
      "\n",
      "Показатели по оттоку: \n",
      "              churn\n",
      "mean      0.397765\n",
      "sum     605.000000\n",
      "count  1521.000000 \n",
      "\n",
      "Средние значения всех показателей: \n",
      " user_id             172188.0\n",
      "score                  850.0\n",
      "gender                   0.0\n",
      "age                     44.0\n",
      "equity                   4.0\n",
      "balance            1045450.0\n",
      "products                 3.0\n",
      "credit_card              0.0\n",
      "last_activity            1.0\n",
      "est_salary          134952.0\n",
      "churn                    0.0\n",
      "city_Ростов              0.0\n",
      "city_Рыбинск             0.0\n",
      "city_Ярославль           1.0\n",
      "is_high_balance          0.0\n",
      "dtype: float64 \n",
      "\n",
      "Какие продукты в сегменте: \n",
      " [3 4 5]\n"
     ]
    }
   ],
   "source": [
    "inf_s(s5)"
   ]
  },
  {
   "cell_type": "markdown",
   "metadata": {},
   "source": [
    "Изучив сегменты, мы выяснили, что наибольший отток имеет 5 сегмент. 1 и 2 сегменты имеют очень низкую отточность, а 3 и 4 близкую к средней."
   ]
  },
  {
   "cell_type": "markdown",
   "metadata": {},
   "source": [
    "### Вывод по пункту"
   ]
  },
  {
   "cell_type": "markdown",
   "metadata": {},
   "source": [
    "Группы с 1 и 2 продуктами слишком большие. Маркетинг не сможет у нас обработать сегменты более 2 тысяч человек.Поэтому необходимо разбить их на более мелкие, сделаем это на основании возраста. В свою очередь группы с 3, 4 и 5 продуктами достаточно малы и их можно объединить в один сегмент (сегменты менее 300 человек нам неинтересны). Более того, группы с этими продуктами имеют больший отток в отличае от клиентов с 1 и 2 продуктами. Мы разбили клиентов на 5 сегментов по продуктам и возрасту. Изучив сегменты, мы выяснили, что наибольший отток имеет 5 сегмент.\n",
    "\n",
    "Стоит обратить большее внимание на 5 сегмент, в который входят клиенnы с 3,4,5 продуктами. Тут наблюдается больший отток, стоит проанализировать, почему клиенты с таким количеством продуктов склонны уходить. Клиенты 1 и 2 второго сегмента (имеющие 1 продукт) больше всего склонны оставаться, таким клиентам стоит больше предлагать другие продукты банка. Более того, таких клиентов очень много. Также большое количество клиентов с 2 продуктами (3,4 сегмент). У 3 сегмента отток ниже среднего, а у 4 немного выше. Этим пользователям также стоит предлагать другие продукты банка. Пользователи с 2 продуктам, которые моложе (4 сегмент, средний возраст 32 года) более склонны к оттоку, на них также стоит обратить внимание и проанализировать, с чем связан отток."
   ]
  },
  {
   "cell_type": "markdown",
   "metadata": {},
   "source": [
    "## Проверка гипотез"
   ]
  },
  {
   "cell_type": "markdown",
   "metadata": {},
   "source": [
    "*Пороговое значение alpha определим 0.05.*"
   ]
  },
  {
   "cell_type": "code",
   "execution_count": 110,
   "metadata": {},
   "outputs": [],
   "source": [
    "alpha = 0.05"
   ]
  },
  {
   "cell_type": "markdown",
   "metadata": {},
   "source": [
    "### Гипотеза различия возраста между теми клиентами, которые пользуются двумя продуктами банка, и теми, которые пользуются одним"
   ]
  },
  {
   "cell_type": "markdown",
   "metadata": {},
   "source": [
    "Сформируем гипотезу.\n",
    "\n",
    "H0: Возраст клиентов с 1 продактами и 2 одинаковы.\n",
    "\n",
    "H1: Возраст клиентов с 1 продактами и 2 различны.\n",
    "\n",
    "*Мы сформировали гипотизу H0. Исходя из H0 формулируется альтернативная гипотеза H1. Это утверждение, которое принимается верным, если отбрасывается H0. Такая альтернативная гипотеза называется двусторонней, потому что есть возможное отклонение и в большую, и в меньшую стороны.*"
   ]
  },
  {
   "cell_type": "code",
   "execution_count": 111,
   "metadata": {},
   "outputs": [
    {
     "name": "stdout",
     "output_type": "stream",
     "text": [
      "p-значение: 0.04372508723637701\n",
      "Отвергаем нулевую гипотезу\n"
     ]
    }
   ],
   "source": [
    "first = df.query('products == 1')['age']\n",
    "second = df.query('products == 2')['age']\n",
    "\n",
    "results = stats.ttest_ind(first, second)# проведите тест и посчитайте p-значение\n",
    "\n",
    "# выведите на экран полученное p-значение\n",
    "print('p-значение:', results.pvalue)\n",
    "\n",
    "if results.pvalue < alpha:# сравните p-значение с заданным уровнем значимости alpha\n",
    "    print('Отвергаем нулевую гипотезу')\n",
    "else:\n",
    "    print('Не получилось отвергнуть нулевую гипотезу')"
   ]
  },
  {
   "cell_type": "markdown",
   "metadata": {},
   "source": [
    "Проведем также проверку при помощи u-критерия Манна-Уитни."
   ]
  },
  {
   "cell_type": "code",
   "execution_count": 112,
   "metadata": {},
   "outputs": [
    {
     "name": "stdout",
     "output_type": "stream",
     "text": [
      "p-значение: 0.07581001163630846\n",
      "Не получилось отвергнуть нулевую гипотезу\n"
     ]
    }
   ],
   "source": [
    "res = stats.mannwhitneyu (first, second, alternative='two-sided')\n",
    "print('p-значение:', res.pvalue)\n",
    "\n",
    "if res.pvalue < alpha:# сравните p-значение с заданным уровнем значимости alpha\n",
    "    print('Отвергаем нулевую гипотезу')\n",
    "else:\n",
    "    print('Не получилось отвергнуть нулевую гипотезу')"
   ]
  },
  {
   "cell_type": "markdown",
   "metadata": {},
   "source": [
    "По результатам обеих проверок мы отвергаем нулевую гипотезу. Можем сделать вывод, что возраст клиентов с 1 продактами и 2 различны."
   ]
  },
  {
   "cell_type": "markdown",
   "metadata": {},
   "source": [
    "### Гипотеза различия баллов кредитного скоринга между теми клиентами, которые пользуются двумя продуктами банка, и теми, которые пользуются тремя."
   ]
  },
  {
   "cell_type": "markdown",
   "metadata": {},
   "source": [
    "Сформируем гипотезу.\n",
    "\n",
    "H0: Баллы кредитного скролинга клиентов с 2 продактами и 3 одинаковы.\n",
    "\n",
    "H1: Баллы кредитного скролинга клиентов с 2 продактами и 3 различны.\n",
    "\n",
    "*Мы сформировали гипотизу H0. Исходя из H0 формулируется альтернативная гипотеза H1. Это утверждение, которое принимается верным, если отбрасывается H0. Такая альтернативная гипотеза называется двусторонней, потому что есть возможное отклонение и в большую, и в меньшую стороны.*"
   ]
  },
  {
   "cell_type": "code",
   "execution_count": 113,
   "metadata": {},
   "outputs": [
    {
     "name": "stdout",
     "output_type": "stream",
     "text": [
      "p-значение: 0.00018254052043073244\n",
      "Отвергаем нулевую гипотезу\n"
     ]
    }
   ],
   "source": [
    "first = df.query('products == 2')['score']\n",
    "second = df.query('products == 3')['score']\n",
    "\n",
    "results = stats.ttest_ind(first, second)# проведите тест и посчитайте p-значение\n",
    "\n",
    "# выведите на экран полученное p-значение\n",
    "print('p-значение:', results.pvalue)\n",
    "\n",
    "if results.pvalue < alpha:# сравните p-значение с заданным уровнем значимости alpha\n",
    "    print('Отвергаем нулевую гипотезу')\n",
    "else:\n",
    "    print('Не получилось отвергнуть нулевую гипотезу')"
   ]
  },
  {
   "cell_type": "markdown",
   "metadata": {},
   "source": [
    "Можем сделать вывод, что баллы кредитного скролинга клиентов с 1 продактами и 2 различны."
   ]
  },
  {
   "cell_type": "markdown",
   "metadata": {},
   "source": [
    "### Вывод по пункту"
   ]
  },
  {
   "cell_type": "markdown",
   "metadata": {},
   "source": [
    "Можем сделать вывод, что возраст клиентов с 1 продактами и 2 различны и баллы кредитного скролинга клиентов с 1 продактами и 2 различны."
   ]
  },
  {
   "cell_type": "markdown",
   "metadata": {},
   "source": [
    "## Общий вывод"
   ]
  },
  {
   "cell_type": "markdown",
   "metadata": {},
   "source": [
    "Мы изменили имя колонки USERID на user_id и EST_SALARY на est_salary. Проверили соответствие пипов данных. Пропуски были обнаружены в столбцах age и balance. В age мы удалили пропуски, так как их было немного. Наибольших процент пропусков в balance по количеству продуктов по 1 продукту у клиента. Заполним пропуски медианным значением по группам. Явные дубликаты не были выявлены. Дубликаты были найлены в столбце user_id и удалены. Также была выполнена кодировка столбцов gender и city. В столбце продуктов выявили и удалили аномалию.\n",
    "\n",
    "Большее отклонение по продуктам во всех столбцах присутствует в группе с 1 продуктом. Также в столбце баланса большое отклонение в группе с 5 продуктами.\n",
    "\n",
    "В случае с отточными клиентами стандартное отклонение больше в столбце баланса, а в столбце с заработной платой больше у неотточных клиентов.\n",
    "\n",
    "Слабая, но наибольшая связь с целевой характеристикой churn наблюдается со столбцами equity и products. Также слабая связь наблюдается с last_activity, gender, score и balance. Мы выяснили, что на отток больше всего влияют такие показатели, как количество объектов в собственности, количество продуктов и баланс.\n",
    "\n",
    "Группы с 1 и 2 продуктами слишком большие. Маркетинг не сможет у нас обработать сегменты более 2 тысяч человек.Поэтому необходимо разбить их на более мелкие, сделаем это на основании возраста. В свою очередь группы с 3, 4 и 5 продуктами достаточно малы и их можно объединить в один сегмент (сегменты менее 300 человек нам неинтересны). Более того, группы с этими продуктами имеют больший отток в отличае от клиентов с 1 и 2 продуктами. Мы разбили клиентов на 5 сегментов по продуктам и возрасту. Изучив сегменты, мы выяснили, что наибольший отток имеет 5 сегмент.\n",
    "\n",
    "Стоит обратить большее внимание на 5 сегмент, в который входят клиенnы с 3,4,5 продуктами. Тут наблюдается больший отток, стоит проанализировать, почему клиенты с таким количеством продуктов склонны уходить. Клиенты 1 и 2 второго сегмента (имеющие 1 продукт) больше всего склонны оставаться, таким клиентам стоит больше предлагать другие продукты банка. Более того, таких клиентов очень много. Также большое количество клиентов с 2 продуктами (3,4 сегмент). У 3 сегмента отток ниже среднего, а у 4 немного выше. Этим пользователям также стоит предлагать другие продукты банка. Пользователи с 2 продуктам, которые моложе (4 сегмент, средний возраст 32 года) более склонны к оттоку, на них также стоит обратить внимание и проанализировать, с чем связан отток.\n",
    "\n",
    "Проведя гипотизы, можем сделать вывод, что возраст клиентов с 1 продактами и 2 различны и баллы кредитного скролинга клиентов с 1 продактами и 2 различны."
   ]
  }
 ],
 "metadata": {
  "ExecuteTimeLog": [
   {
    "duration": 4,
    "start_time": "2023-07-05T13:16:05.511Z"
   },
   {
    "duration": 46,
    "start_time": "2023-07-10T18:45:09.344Z"
   },
   {
    "duration": 1478,
    "start_time": "2023-07-10T18:45:34.638Z"
   },
   {
    "duration": 78,
    "start_time": "2023-07-10T18:45:36.118Z"
   },
   {
    "duration": 18,
    "start_time": "2023-07-10T18:45:36.198Z"
   },
   {
    "duration": 10,
    "start_time": "2023-07-10T18:45:36.218Z"
   },
   {
    "duration": 57,
    "start_time": "2023-07-10T18:45:36.231Z"
   },
   {
    "duration": 4,
    "start_time": "2023-07-10T18:45:36.291Z"
   },
   {
    "duration": 8,
    "start_time": "2023-07-10T18:45:36.296Z"
   },
   {
    "duration": 6,
    "start_time": "2023-07-10T18:45:36.305Z"
   },
   {
    "duration": 20,
    "start_time": "2023-07-10T18:45:36.312Z"
   },
   {
    "duration": 16,
    "start_time": "2023-07-10T18:45:36.333Z"
   },
   {
    "duration": 25,
    "start_time": "2023-07-10T18:45:36.351Z"
   },
   {
    "duration": 9,
    "start_time": "2023-07-10T18:45:36.378Z"
   },
   {
    "duration": 13,
    "start_time": "2023-07-10T18:45:36.388Z"
   },
   {
    "duration": 13,
    "start_time": "2023-07-10T18:45:36.404Z"
   },
   {
    "duration": 11,
    "start_time": "2023-07-10T18:45:36.419Z"
   },
   {
    "duration": 224,
    "start_time": "2023-07-10T18:45:36.432Z"
   },
   {
    "duration": 48,
    "start_time": "2023-07-10T18:45:36.658Z"
   },
   {
    "duration": 6,
    "start_time": "2023-07-10T18:45:36.708Z"
   },
   {
    "duration": 8,
    "start_time": "2023-07-10T18:45:36.716Z"
   },
   {
    "duration": 223,
    "start_time": "2023-07-10T18:45:36.725Z"
   },
   {
    "duration": 19,
    "start_time": "2023-07-10T18:45:36.949Z"
   },
   {
    "duration": 5,
    "start_time": "2023-07-10T18:45:36.970Z"
   },
   {
    "duration": 32,
    "start_time": "2023-07-10T18:45:36.976Z"
   },
   {
    "duration": 7,
    "start_time": "2023-07-10T18:45:37.010Z"
   },
   {
    "duration": 9,
    "start_time": "2023-07-10T18:45:37.018Z"
   },
   {
    "duration": 79,
    "start_time": "2023-07-10T18:45:37.028Z"
   },
   {
    "duration": 17,
    "start_time": "2023-07-10T18:45:37.109Z"
   },
   {
    "duration": 16,
    "start_time": "2023-07-10T18:45:37.127Z"
   },
   {
    "duration": 37,
    "start_time": "2023-07-10T18:45:37.145Z"
   },
   {
    "duration": 14,
    "start_time": "2023-07-10T18:45:37.184Z"
   },
   {
    "duration": 1314,
    "start_time": "2023-07-10T18:45:37.199Z"
   },
   {
    "duration": 4,
    "start_time": "2023-07-10T18:45:38.515Z"
   },
   {
    "duration": 587,
    "start_time": "2023-07-10T18:45:38.520Z"
   },
   {
    "duration": 0,
    "start_time": "2023-07-10T18:45:39.110Z"
   },
   {
    "duration": 0,
    "start_time": "2023-07-10T18:45:39.111Z"
   },
   {
    "duration": 0,
    "start_time": "2023-07-10T18:45:39.112Z"
   },
   {
    "duration": 0,
    "start_time": "2023-07-10T18:45:39.112Z"
   },
   {
    "duration": 0,
    "start_time": "2023-07-10T18:45:39.113Z"
   },
   {
    "duration": 0,
    "start_time": "2023-07-10T18:45:39.114Z"
   },
   {
    "duration": 0,
    "start_time": "2023-07-10T18:45:39.115Z"
   },
   {
    "duration": 0,
    "start_time": "2023-07-10T18:45:39.116Z"
   },
   {
    "duration": 0,
    "start_time": "2023-07-10T18:45:39.117Z"
   },
   {
    "duration": 0,
    "start_time": "2023-07-10T18:45:39.118Z"
   },
   {
    "duration": 0,
    "start_time": "2023-07-10T18:45:39.119Z"
   },
   {
    "duration": 0,
    "start_time": "2023-07-10T18:45:39.119Z"
   },
   {
    "duration": 0,
    "start_time": "2023-07-10T18:45:39.120Z"
   },
   {
    "duration": 0,
    "start_time": "2023-07-10T18:45:39.121Z"
   },
   {
    "duration": 0,
    "start_time": "2023-07-10T18:45:39.122Z"
   },
   {
    "duration": 0,
    "start_time": "2023-07-10T18:45:39.123Z"
   },
   {
    "duration": 0,
    "start_time": "2023-07-10T18:45:39.124Z"
   },
   {
    "duration": 0,
    "start_time": "2023-07-10T18:45:39.125Z"
   },
   {
    "duration": 0,
    "start_time": "2023-07-10T18:45:39.125Z"
   },
   {
    "duration": 0,
    "start_time": "2023-07-10T18:45:39.126Z"
   },
   {
    "duration": 0,
    "start_time": "2023-07-10T18:45:39.127Z"
   },
   {
    "duration": 0,
    "start_time": "2023-07-10T18:45:39.168Z"
   },
   {
    "duration": 0,
    "start_time": "2023-07-10T18:45:39.170Z"
   },
   {
    "duration": 0,
    "start_time": "2023-07-10T18:45:39.171Z"
   },
   {
    "duration": 0,
    "start_time": "2023-07-10T18:45:39.173Z"
   },
   {
    "duration": 0,
    "start_time": "2023-07-10T18:45:39.174Z"
   },
   {
    "duration": 0,
    "start_time": "2023-07-10T18:45:39.175Z"
   },
   {
    "duration": 0,
    "start_time": "2023-07-10T18:45:39.176Z"
   },
   {
    "duration": 0,
    "start_time": "2023-07-10T18:45:39.177Z"
   },
   {
    "duration": 0,
    "start_time": "2023-07-10T18:45:39.178Z"
   },
   {
    "duration": 0,
    "start_time": "2023-07-10T18:45:39.179Z"
   },
   {
    "duration": 0,
    "start_time": "2023-07-10T18:45:39.180Z"
   },
   {
    "duration": 0,
    "start_time": "2023-07-10T18:45:39.181Z"
   },
   {
    "duration": 0,
    "start_time": "2023-07-10T18:45:39.182Z"
   },
   {
    "duration": 0,
    "start_time": "2023-07-10T18:45:39.183Z"
   },
   {
    "duration": 0,
    "start_time": "2023-07-10T18:45:39.184Z"
   },
   {
    "duration": 0,
    "start_time": "2023-07-10T18:45:39.185Z"
   },
   {
    "duration": 0,
    "start_time": "2023-07-10T18:45:39.186Z"
   },
   {
    "duration": 0,
    "start_time": "2023-07-10T18:45:39.187Z"
   },
   {
    "duration": 0,
    "start_time": "2023-07-10T18:45:39.188Z"
   },
   {
    "duration": 0,
    "start_time": "2023-07-10T18:45:39.189Z"
   },
   {
    "duration": 0,
    "start_time": "2023-07-10T18:45:39.190Z"
   },
   {
    "duration": 0,
    "start_time": "2023-07-10T18:45:39.191Z"
   },
   {
    "duration": 0,
    "start_time": "2023-07-10T18:45:39.193Z"
   },
   {
    "duration": 0,
    "start_time": "2023-07-10T18:45:39.193Z"
   },
   {
    "duration": 0,
    "start_time": "2023-07-10T18:45:39.195Z"
   },
   {
    "duration": 0,
    "start_time": "2023-07-10T18:45:39.196Z"
   },
   {
    "duration": 0,
    "start_time": "2023-07-10T18:45:39.197Z"
   },
   {
    "duration": 0,
    "start_time": "2023-07-10T18:45:39.198Z"
   },
   {
    "duration": 0,
    "start_time": "2023-07-10T18:45:39.199Z"
   },
   {
    "duration": 0,
    "start_time": "2023-07-10T18:45:39.200Z"
   },
   {
    "duration": 0,
    "start_time": "2023-07-10T18:45:39.201Z"
   },
   {
    "duration": 0,
    "start_time": "2023-07-10T18:45:39.203Z"
   },
   {
    "duration": 0,
    "start_time": "2023-07-10T18:45:39.204Z"
   },
   {
    "duration": 0,
    "start_time": "2023-07-10T18:45:39.205Z"
   },
   {
    "duration": 0,
    "start_time": "2023-07-10T18:45:39.206Z"
   },
   {
    "duration": 0,
    "start_time": "2023-07-10T18:45:39.207Z"
   },
   {
    "duration": 0,
    "start_time": "2023-07-10T18:45:39.271Z"
   },
   {
    "duration": 0,
    "start_time": "2023-07-10T18:45:39.273Z"
   },
   {
    "duration": 0,
    "start_time": "2023-07-10T18:45:39.275Z"
   },
   {
    "duration": 2302,
    "start_time": "2023-07-10T18:47:01.983Z"
   },
   {
    "duration": 7159,
    "start_time": "2023-07-10T18:47:13.785Z"
   },
   {
    "duration": 4,
    "start_time": "2023-07-10T18:47:32.252Z"
   },
   {
    "duration": 1494,
    "start_time": "2023-07-10T18:47:32.260Z"
   },
   {
    "duration": 171,
    "start_time": "2023-07-10T18:47:33.756Z"
   },
   {
    "duration": 23,
    "start_time": "2023-07-10T18:47:33.929Z"
   },
   {
    "duration": 14,
    "start_time": "2023-07-10T18:47:33.956Z"
   },
   {
    "duration": 53,
    "start_time": "2023-07-10T18:47:33.971Z"
   },
   {
    "duration": 4,
    "start_time": "2023-07-10T18:47:34.026Z"
   },
   {
    "duration": 7,
    "start_time": "2023-07-10T18:47:34.032Z"
   },
   {
    "duration": 8,
    "start_time": "2023-07-10T18:47:34.068Z"
   },
   {
    "duration": 19,
    "start_time": "2023-07-10T18:47:34.078Z"
   },
   {
    "duration": 10,
    "start_time": "2023-07-10T18:47:34.101Z"
   },
   {
    "duration": 25,
    "start_time": "2023-07-10T18:47:34.113Z"
   },
   {
    "duration": 34,
    "start_time": "2023-07-10T18:47:34.140Z"
   },
   {
    "duration": 13,
    "start_time": "2023-07-10T18:47:34.177Z"
   },
   {
    "duration": 13,
    "start_time": "2023-07-10T18:47:34.192Z"
   },
   {
    "duration": 12,
    "start_time": "2023-07-10T18:47:34.208Z"
   },
   {
    "duration": 228,
    "start_time": "2023-07-10T18:47:34.223Z"
   },
   {
    "duration": 47,
    "start_time": "2023-07-10T18:47:34.453Z"
   },
   {
    "duration": 6,
    "start_time": "2023-07-10T18:47:34.502Z"
   },
   {
    "duration": 7,
    "start_time": "2023-07-10T18:47:34.510Z"
   },
   {
    "duration": 210,
    "start_time": "2023-07-10T18:47:34.518Z"
   },
   {
    "duration": 9,
    "start_time": "2023-07-10T18:47:34.729Z"
   },
   {
    "duration": 4,
    "start_time": "2023-07-10T18:47:34.740Z"
   },
   {
    "duration": 47,
    "start_time": "2023-07-10T18:47:34.745Z"
   },
   {
    "duration": 7,
    "start_time": "2023-07-10T18:47:34.794Z"
   },
   {
    "duration": 13,
    "start_time": "2023-07-10T18:47:34.802Z"
   },
   {
    "duration": 84,
    "start_time": "2023-07-10T18:47:34.817Z"
   },
   {
    "duration": 18,
    "start_time": "2023-07-10T18:47:34.904Z"
   },
   {
    "duration": 44,
    "start_time": "2023-07-10T18:47:34.927Z"
   },
   {
    "duration": 13,
    "start_time": "2023-07-10T18:47:34.973Z"
   },
   {
    "duration": 12,
    "start_time": "2023-07-10T18:47:34.988Z"
   },
   {
    "duration": 1287,
    "start_time": "2023-07-10T18:47:35.001Z"
   },
   {
    "duration": 5,
    "start_time": "2023-07-10T18:47:36.289Z"
   },
   {
    "duration": 483,
    "start_time": "2023-07-10T18:47:36.296Z"
   },
   {
    "duration": 3,
    "start_time": "2023-07-10T18:47:36.781Z"
   },
   {
    "duration": 6,
    "start_time": "2023-07-10T18:47:36.786Z"
   },
   {
    "duration": 9,
    "start_time": "2023-07-10T18:47:36.793Z"
   },
   {
    "duration": 372,
    "start_time": "2023-07-10T18:47:36.803Z"
   },
   {
    "duration": 4,
    "start_time": "2023-07-10T18:47:37.177Z"
   },
   {
    "duration": 7,
    "start_time": "2023-07-10T18:47:37.182Z"
   },
   {
    "duration": 4,
    "start_time": "2023-07-10T18:47:37.191Z"
   },
   {
    "duration": 371,
    "start_time": "2023-07-10T18:47:37.197Z"
   },
   {
    "duration": 5,
    "start_time": "2023-07-10T18:47:37.570Z"
   },
   {
    "duration": 7,
    "start_time": "2023-07-10T18:47:37.577Z"
   },
   {
    "duration": 5,
    "start_time": "2023-07-10T18:47:37.586Z"
   },
   {
    "duration": 470,
    "start_time": "2023-07-10T18:47:37.592Z"
   },
   {
    "duration": 6,
    "start_time": "2023-07-10T18:47:38.063Z"
   },
   {
    "duration": 29,
    "start_time": "2023-07-10T18:47:38.071Z"
   },
   {
    "duration": 8,
    "start_time": "2023-07-10T18:47:38.103Z"
   },
   {
    "duration": 582,
    "start_time": "2023-07-10T18:47:38.113Z"
   },
   {
    "duration": 3,
    "start_time": "2023-07-10T18:47:38.697Z"
   },
   {
    "duration": 7,
    "start_time": "2023-07-10T18:47:38.702Z"
   },
   {
    "duration": 7,
    "start_time": "2023-07-10T18:47:38.711Z"
   },
   {
    "duration": 478,
    "start_time": "2023-07-10T18:47:38.720Z"
   },
   {
    "duration": 4,
    "start_time": "2023-07-10T18:47:39.200Z"
   },
   {
    "duration": 12,
    "start_time": "2023-07-10T18:47:39.205Z"
   },
   {
    "duration": 12,
    "start_time": "2023-07-10T18:47:39.219Z"
   },
   {
    "duration": 537,
    "start_time": "2023-07-10T18:47:39.233Z"
   },
   {
    "duration": 5,
    "start_time": "2023-07-10T18:47:39.772Z"
   },
   {
    "duration": 15,
    "start_time": "2023-07-10T18:47:39.779Z"
   },
   {
    "duration": 6,
    "start_time": "2023-07-10T18:47:39.796Z"
   },
   {
    "duration": 8,
    "start_time": "2023-07-10T18:47:39.804Z"
   },
   {
    "duration": 7,
    "start_time": "2023-07-10T18:47:39.814Z"
   },
   {
    "duration": 580,
    "start_time": "2023-07-10T18:47:39.824Z"
   },
   {
    "duration": 312,
    "start_time": "2023-07-10T18:47:40.405Z"
   },
   {
    "duration": 4,
    "start_time": "2023-07-10T18:47:40.719Z"
   },
   {
    "duration": 9,
    "start_time": "2023-07-10T18:47:40.724Z"
   },
   {
    "duration": 6,
    "start_time": "2023-07-10T18:47:40.735Z"
   },
   {
    "duration": 443,
    "start_time": "2023-07-10T18:47:40.743Z"
   },
   {
    "duration": 5,
    "start_time": "2023-07-10T18:47:41.188Z"
   },
   {
    "duration": 14,
    "start_time": "2023-07-10T18:47:41.195Z"
   },
   {
    "duration": 6,
    "start_time": "2023-07-10T18:47:41.211Z"
   },
   {
    "duration": 12,
    "start_time": "2023-07-10T18:47:41.219Z"
   },
   {
    "duration": 20,
    "start_time": "2023-07-10T18:47:41.233Z"
   },
   {
    "duration": 25,
    "start_time": "2023-07-10T18:47:41.271Z"
   },
   {
    "duration": 15,
    "start_time": "2023-07-10T18:47:41.297Z"
   },
   {
    "duration": 5,
    "start_time": "2023-07-10T18:47:41.314Z"
   },
   {
    "duration": 7,
    "start_time": "2023-07-10T18:47:41.320Z"
   },
   {
    "duration": 60,
    "start_time": "2023-07-10T18:47:41.329Z"
   },
   {
    "duration": 7,
    "start_time": "2023-07-10T18:47:41.391Z"
   },
   {
    "duration": 10,
    "start_time": "2023-07-10T18:47:41.400Z"
   },
   {
    "duration": 68,
    "start_time": "2023-07-10T18:47:41.412Z"
   },
   {
    "duration": 5,
    "start_time": "2023-07-10T18:47:41.487Z"
   },
   {
    "duration": 36,
    "start_time": "2023-07-10T18:47:41.494Z"
   },
   {
    "duration": 50,
    "start_time": "2023-07-10T18:47:41.531Z"
   },
   {
    "duration": 6,
    "start_time": "2023-07-10T18:47:41.582Z"
   },
   {
    "duration": 8,
    "start_time": "2023-07-10T18:47:41.590Z"
   },
   {
    "duration": 8,
    "start_time": "2023-07-10T18:47:41.599Z"
   },
   {
    "duration": 12,
    "start_time": "2023-07-10T18:47:41.609Z"
   },
   {
    "duration": 10,
    "start_time": "2023-07-10T18:47:41.622Z"
   },
   {
    "duration": 9,
    "start_time": "2023-07-10T18:47:41.667Z"
   },
   {
    "duration": 8,
    "start_time": "2023-07-10T18:47:41.678Z"
   },
   {
    "duration": 10,
    "start_time": "2023-07-10T18:47:41.688Z"
   },
   {
    "duration": 9,
    "start_time": "2023-07-10T18:47:41.699Z"
   },
   {
    "duration": 16,
    "start_time": "2023-07-10T18:49:58.967Z"
   },
   {
    "duration": 15,
    "start_time": "2023-07-10T18:50:12.988Z"
   },
   {
    "duration": 380,
    "start_time": "2023-07-10T18:50:39.839Z"
   },
   {
    "duration": 394,
    "start_time": "2023-07-10T18:50:58.640Z"
   },
   {
    "duration": 335,
    "start_time": "2023-07-10T18:51:14.815Z"
   },
   {
    "duration": 452,
    "start_time": "2023-07-10T18:51:27.458Z"
   },
   {
    "duration": 322,
    "start_time": "2023-07-10T18:51:37.488Z"
   },
   {
    "duration": 305,
    "start_time": "2023-07-10T18:51:44.185Z"
   },
   {
    "duration": 69,
    "start_time": "2023-07-10T19:06:59.363Z"
   },
   {
    "duration": 3,
    "start_time": "2023-07-10T19:15:40.754Z"
   },
   {
    "duration": 1407,
    "start_time": "2023-07-10T19:15:40.761Z"
   },
   {
    "duration": 88,
    "start_time": "2023-07-10T19:15:42.170Z"
   },
   {
    "duration": 22,
    "start_time": "2023-07-10T19:15:42.259Z"
   },
   {
    "duration": 11,
    "start_time": "2023-07-10T19:15:42.283Z"
   },
   {
    "duration": 44,
    "start_time": "2023-07-10T19:15:42.296Z"
   },
   {
    "duration": 20,
    "start_time": "2023-07-10T19:15:42.342Z"
   },
   {
    "duration": 7,
    "start_time": "2023-07-10T19:15:42.364Z"
   },
   {
    "duration": 9,
    "start_time": "2023-07-10T19:15:42.373Z"
   },
   {
    "duration": 12,
    "start_time": "2023-07-10T19:15:42.383Z"
   },
   {
    "duration": 6,
    "start_time": "2023-07-10T19:15:42.398Z"
   },
   {
    "duration": 9,
    "start_time": "2023-07-10T19:15:42.405Z"
   },
   {
    "duration": 7,
    "start_time": "2023-07-10T19:15:42.415Z"
   },
   {
    "duration": 7,
    "start_time": "2023-07-10T19:15:42.423Z"
   },
   {
    "duration": 32,
    "start_time": "2023-07-10T19:15:42.431Z"
   },
   {
    "duration": 5,
    "start_time": "2023-07-10T19:15:42.464Z"
   },
   {
    "duration": 220,
    "start_time": "2023-07-10T19:15:42.470Z"
   },
   {
    "duration": 43,
    "start_time": "2023-07-10T19:15:42.692Z"
   },
   {
    "duration": 23,
    "start_time": "2023-07-10T19:15:42.737Z"
   },
   {
    "duration": 69,
    "start_time": "2023-07-10T19:15:42.761Z"
   },
   {
    "duration": 225,
    "start_time": "2023-07-10T19:15:42.832Z"
   },
   {
    "duration": 10,
    "start_time": "2023-07-10T19:15:43.059Z"
   },
   {
    "duration": 4,
    "start_time": "2023-07-10T19:15:43.071Z"
   },
   {
    "duration": 45,
    "start_time": "2023-07-10T19:15:43.076Z"
   },
   {
    "duration": 8,
    "start_time": "2023-07-10T19:15:43.122Z"
   },
   {
    "duration": 47,
    "start_time": "2023-07-10T19:15:43.131Z"
   },
   {
    "duration": 56,
    "start_time": "2023-07-10T19:15:43.180Z"
   },
   {
    "duration": 26,
    "start_time": "2023-07-10T19:15:43.238Z"
   },
   {
    "duration": 18,
    "start_time": "2023-07-10T19:15:43.268Z"
   },
   {
    "duration": 12,
    "start_time": "2023-07-10T19:15:43.288Z"
   },
   {
    "duration": 13,
    "start_time": "2023-07-10T19:15:43.302Z"
   },
   {
    "duration": 1421,
    "start_time": "2023-07-10T19:15:43.316Z"
   },
   {
    "duration": 5,
    "start_time": "2023-07-10T19:15:44.738Z"
   },
   {
    "duration": 530,
    "start_time": "2023-07-10T19:15:44.744Z"
   },
   {
    "duration": 6,
    "start_time": "2023-07-10T19:15:45.276Z"
   },
   {
    "duration": 7,
    "start_time": "2023-07-10T19:15:45.284Z"
   },
   {
    "duration": 12,
    "start_time": "2023-07-10T19:15:45.292Z"
   },
   {
    "duration": 424,
    "start_time": "2023-07-10T19:15:45.306Z"
   },
   {
    "duration": 5,
    "start_time": "2023-07-10T19:15:45.732Z"
   },
   {
    "duration": 22,
    "start_time": "2023-07-10T19:15:45.739Z"
   },
   {
    "duration": 6,
    "start_time": "2023-07-10T19:15:45.763Z"
   },
   {
    "duration": 353,
    "start_time": "2023-07-10T19:15:45.770Z"
   },
   {
    "duration": 4,
    "start_time": "2023-07-10T19:15:46.125Z"
   },
   {
    "duration": 6,
    "start_time": "2023-07-10T19:15:46.130Z"
   },
   {
    "duration": 21,
    "start_time": "2023-07-10T19:15:46.138Z"
   },
   {
    "duration": 462,
    "start_time": "2023-07-10T19:15:46.161Z"
   },
   {
    "duration": 4,
    "start_time": "2023-07-10T19:15:46.624Z"
   },
   {
    "duration": 17,
    "start_time": "2023-07-10T19:15:46.630Z"
   },
   {
    "duration": 11,
    "start_time": "2023-07-10T19:15:46.649Z"
   },
   {
    "duration": 547,
    "start_time": "2023-07-10T19:15:46.662Z"
   },
   {
    "duration": 4,
    "start_time": "2023-07-10T19:15:47.211Z"
   },
   {
    "duration": 13,
    "start_time": "2023-07-10T19:15:47.217Z"
   },
   {
    "duration": 22,
    "start_time": "2023-07-10T19:15:47.232Z"
   },
   {
    "duration": 379,
    "start_time": "2023-07-10T19:15:47.256Z"
   },
   {
    "duration": 22,
    "start_time": "2023-07-10T19:15:47.637Z"
   },
   {
    "duration": 4,
    "start_time": "2023-07-10T19:15:47.661Z"
   },
   {
    "duration": 5,
    "start_time": "2023-07-10T19:15:47.667Z"
   },
   {
    "duration": 566,
    "start_time": "2023-07-10T19:15:47.673Z"
   },
   {
    "duration": 4,
    "start_time": "2023-07-10T19:15:48.241Z"
   },
   {
    "duration": 338,
    "start_time": "2023-07-10T19:15:48.246Z"
   },
   {
    "duration": 5,
    "start_time": "2023-07-10T19:15:48.585Z"
   },
   {
    "duration": 5,
    "start_time": "2023-07-10T19:15:48.592Z"
   },
   {
    "duration": 3,
    "start_time": "2023-07-10T19:15:48.599Z"
   },
   {
    "duration": 582,
    "start_time": "2023-07-10T19:15:48.604Z"
   },
   {
    "duration": 353,
    "start_time": "2023-07-10T19:15:49.188Z"
   },
   {
    "duration": 4,
    "start_time": "2023-07-10T19:15:49.543Z"
   },
   {
    "duration": 5,
    "start_time": "2023-07-10T19:15:49.558Z"
   },
   {
    "duration": 5,
    "start_time": "2023-07-10T19:15:49.564Z"
   },
   {
    "duration": 491,
    "start_time": "2023-07-10T19:15:49.570Z"
   },
   {
    "duration": 4,
    "start_time": "2023-07-10T19:15:50.063Z"
   },
   {
    "duration": 20,
    "start_time": "2023-07-10T19:15:50.069Z"
   },
   {
    "duration": 10,
    "start_time": "2023-07-10T19:15:50.090Z"
   },
   {
    "duration": 8,
    "start_time": "2023-07-10T19:15:50.102Z"
   },
   {
    "duration": 19,
    "start_time": "2023-07-10T19:15:50.112Z"
   },
   {
    "duration": 6,
    "start_time": "2023-07-10T19:15:50.133Z"
   },
   {
    "duration": 9,
    "start_time": "2023-07-10T19:15:50.141Z"
   },
   {
    "duration": 9,
    "start_time": "2023-07-10T19:15:50.152Z"
   },
   {
    "duration": 9,
    "start_time": "2023-07-10T19:15:50.163Z"
   },
   {
    "duration": 55,
    "start_time": "2023-07-10T19:15:50.173Z"
   },
   {
    "duration": 6,
    "start_time": "2023-07-10T19:15:50.230Z"
   },
   {
    "duration": 31,
    "start_time": "2023-07-10T19:15:50.238Z"
   },
   {
    "duration": 60,
    "start_time": "2023-07-10T19:15:50.271Z"
   },
   {
    "duration": 6,
    "start_time": "2023-07-10T19:15:50.336Z"
   },
   {
    "duration": 29,
    "start_time": "2023-07-10T19:15:50.343Z"
   },
   {
    "duration": 65,
    "start_time": "2023-07-10T19:15:50.374Z"
   },
   {
    "duration": 10,
    "start_time": "2023-07-10T19:15:50.441Z"
   },
   {
    "duration": 16,
    "start_time": "2023-07-10T19:15:50.453Z"
   },
   {
    "duration": 29,
    "start_time": "2023-07-10T19:15:50.471Z"
   },
   {
    "duration": 23,
    "start_time": "2023-07-10T19:15:50.502Z"
   },
   {
    "duration": 24,
    "start_time": "2023-07-10T19:15:50.527Z"
   },
   {
    "duration": 27,
    "start_time": "2023-07-10T19:15:50.553Z"
   },
   {
    "duration": 26,
    "start_time": "2023-07-10T19:15:50.582Z"
   },
   {
    "duration": 23,
    "start_time": "2023-07-10T19:15:50.610Z"
   },
   {
    "duration": 47,
    "start_time": "2023-07-10T19:15:50.636Z"
   },
   {
    "duration": 10,
    "start_time": "2023-07-10T19:16:21.362Z"
   },
   {
    "duration": 11,
    "start_time": "2023-07-10T19:16:31.442Z"
   },
   {
    "duration": 54,
    "start_time": "2023-07-11T02:53:17.288Z"
   },
   {
    "duration": 4,
    "start_time": "2023-07-11T03:02:17.040Z"
   },
   {
    "duration": 1328,
    "start_time": "2023-07-11T03:02:17.052Z"
   },
   {
    "duration": 120,
    "start_time": "2023-07-11T03:02:18.382Z"
   },
   {
    "duration": 19,
    "start_time": "2023-07-11T03:02:18.503Z"
   },
   {
    "duration": 28,
    "start_time": "2023-07-11T03:02:18.524Z"
   },
   {
    "duration": 59,
    "start_time": "2023-07-11T03:02:18.554Z"
   },
   {
    "duration": 4,
    "start_time": "2023-07-11T03:02:18.615Z"
   },
   {
    "duration": 22,
    "start_time": "2023-07-11T03:02:18.620Z"
   },
   {
    "duration": 28,
    "start_time": "2023-07-11T03:02:18.643Z"
   },
   {
    "duration": 52,
    "start_time": "2023-07-11T03:02:18.672Z"
   },
   {
    "duration": 24,
    "start_time": "2023-07-11T03:02:18.725Z"
   },
   {
    "duration": 31,
    "start_time": "2023-07-11T03:02:18.751Z"
   },
   {
    "duration": 26,
    "start_time": "2023-07-11T03:02:18.783Z"
   },
   {
    "duration": 22,
    "start_time": "2023-07-11T03:02:18.811Z"
   },
   {
    "duration": 30,
    "start_time": "2023-07-11T03:02:18.837Z"
   },
   {
    "duration": 45,
    "start_time": "2023-07-11T03:02:18.869Z"
   },
   {
    "duration": 240,
    "start_time": "2023-07-11T03:02:18.915Z"
   },
   {
    "duration": 48,
    "start_time": "2023-07-11T03:02:19.157Z"
   },
   {
    "duration": 8,
    "start_time": "2023-07-11T03:02:19.206Z"
   },
   {
    "duration": 31,
    "start_time": "2023-07-11T03:02:19.216Z"
   },
   {
    "duration": 263,
    "start_time": "2023-07-11T03:02:19.250Z"
   },
   {
    "duration": 10,
    "start_time": "2023-07-11T03:02:19.520Z"
   },
   {
    "duration": 13,
    "start_time": "2023-07-11T03:02:19.531Z"
   },
   {
    "duration": 37,
    "start_time": "2023-07-11T03:02:19.545Z"
   },
   {
    "duration": 31,
    "start_time": "2023-07-11T03:02:19.583Z"
   },
   {
    "duration": 31,
    "start_time": "2023-07-11T03:02:19.616Z"
   },
   {
    "duration": 73,
    "start_time": "2023-07-11T03:02:19.648Z"
   },
   {
    "duration": 17,
    "start_time": "2023-07-11T03:02:19.723Z"
   },
   {
    "duration": 43,
    "start_time": "2023-07-11T03:02:19.742Z"
   },
   {
    "duration": 14,
    "start_time": "2023-07-11T03:02:19.786Z"
   },
   {
    "duration": 27,
    "start_time": "2023-07-11T03:02:19.801Z"
   },
   {
    "duration": 1249,
    "start_time": "2023-07-11T03:02:19.829Z"
   },
   {
    "duration": 4,
    "start_time": "2023-07-11T03:02:21.080Z"
   },
   {
    "duration": 482,
    "start_time": "2023-07-11T03:02:21.086Z"
   },
   {
    "duration": 4,
    "start_time": "2023-07-11T03:02:21.570Z"
   },
   {
    "duration": 20,
    "start_time": "2023-07-11T03:02:21.575Z"
   },
   {
    "duration": 36,
    "start_time": "2023-07-11T03:02:21.596Z"
   },
   {
    "duration": 336,
    "start_time": "2023-07-11T03:02:21.633Z"
   },
   {
    "duration": 4,
    "start_time": "2023-07-11T03:02:21.970Z"
   },
   {
    "duration": 44,
    "start_time": "2023-07-11T03:02:21.976Z"
   },
   {
    "duration": 19,
    "start_time": "2023-07-11T03:02:22.022Z"
   },
   {
    "duration": 323,
    "start_time": "2023-07-11T03:02:22.048Z"
   },
   {
    "duration": 4,
    "start_time": "2023-07-11T03:02:22.372Z"
   },
   {
    "duration": 34,
    "start_time": "2023-07-11T03:02:22.377Z"
   },
   {
    "duration": 20,
    "start_time": "2023-07-11T03:02:22.413Z"
   },
   {
    "duration": 415,
    "start_time": "2023-07-11T03:02:22.434Z"
   },
   {
    "duration": 4,
    "start_time": "2023-07-11T03:02:22.851Z"
   },
   {
    "duration": 60,
    "start_time": "2023-07-11T03:02:22.857Z"
   },
   {
    "duration": 19,
    "start_time": "2023-07-11T03:02:22.919Z"
   },
   {
    "duration": 546,
    "start_time": "2023-07-11T03:02:22.939Z"
   },
   {
    "duration": 4,
    "start_time": "2023-07-11T03:02:23.486Z"
   },
   {
    "duration": 26,
    "start_time": "2023-07-11T03:02:23.501Z"
   },
   {
    "duration": 7,
    "start_time": "2023-07-11T03:02:23.529Z"
   },
   {
    "duration": 421,
    "start_time": "2023-07-11T03:02:23.537Z"
   },
   {
    "duration": 3,
    "start_time": "2023-07-11T03:02:23.960Z"
   },
   {
    "duration": 6,
    "start_time": "2023-07-11T03:02:23.964Z"
   },
   {
    "duration": 4,
    "start_time": "2023-07-11T03:02:23.972Z"
   },
   {
    "duration": 384,
    "start_time": "2023-07-11T03:02:24.001Z"
   },
   {
    "duration": 4,
    "start_time": "2023-07-11T03:02:24.386Z"
   },
   {
    "duration": 437,
    "start_time": "2023-07-11T03:02:24.391Z"
   },
   {
    "duration": 6,
    "start_time": "2023-07-11T03:02:24.830Z"
   },
   {
    "duration": 8,
    "start_time": "2023-07-11T03:02:24.838Z"
   },
   {
    "duration": 9,
    "start_time": "2023-07-11T03:02:24.847Z"
   },
   {
    "duration": 562,
    "start_time": "2023-07-11T03:02:24.858Z"
   },
   {
    "duration": 321,
    "start_time": "2023-07-11T03:02:25.423Z"
   },
   {
    "duration": 3,
    "start_time": "2023-07-11T03:02:25.745Z"
   },
   {
    "duration": 6,
    "start_time": "2023-07-11T03:02:25.750Z"
   },
   {
    "duration": 8,
    "start_time": "2023-07-11T03:02:25.757Z"
   },
   {
    "duration": 439,
    "start_time": "2023-07-11T03:02:25.766Z"
   },
   {
    "duration": 5,
    "start_time": "2023-07-11T03:02:26.210Z"
   },
   {
    "duration": 18,
    "start_time": "2023-07-11T03:02:26.217Z"
   },
   {
    "duration": 8,
    "start_time": "2023-07-11T03:02:26.237Z"
   },
   {
    "duration": 57,
    "start_time": "2023-07-11T03:02:26.246Z"
   },
   {
    "duration": 23,
    "start_time": "2023-07-11T03:02:26.305Z"
   },
   {
    "duration": 7,
    "start_time": "2023-07-11T03:02:26.330Z"
   },
   {
    "duration": 9,
    "start_time": "2023-07-11T03:02:26.339Z"
   },
   {
    "duration": 14,
    "start_time": "2023-07-11T03:02:26.350Z"
   },
   {
    "duration": 17,
    "start_time": "2023-07-11T03:02:26.366Z"
   },
   {
    "duration": 48,
    "start_time": "2023-07-11T03:02:26.384Z"
   },
   {
    "duration": 6,
    "start_time": "2023-07-11T03:02:26.433Z"
   },
   {
    "duration": 15,
    "start_time": "2023-07-11T03:02:26.440Z"
   },
   {
    "duration": 60,
    "start_time": "2023-07-11T03:02:26.456Z"
   },
   {
    "duration": 7,
    "start_time": "2023-07-11T03:02:26.517Z"
   },
   {
    "duration": 7,
    "start_time": "2023-07-11T03:02:26.526Z"
   },
   {
    "duration": 44,
    "start_time": "2023-07-11T03:02:26.534Z"
   },
   {
    "duration": 9,
    "start_time": "2023-07-11T03:02:26.610Z"
   },
   {
    "duration": 8,
    "start_time": "2023-07-11T03:02:26.620Z"
   },
   {
    "duration": 7,
    "start_time": "2023-07-11T03:02:26.630Z"
   },
   {
    "duration": 7,
    "start_time": "2023-07-11T03:02:26.638Z"
   },
   {
    "duration": 15,
    "start_time": "2023-07-11T03:02:26.647Z"
   },
   {
    "duration": 9,
    "start_time": "2023-07-11T03:02:26.664Z"
   },
   {
    "duration": 3,
    "start_time": "2023-07-11T03:02:26.674Z"
   },
   {
    "duration": 43,
    "start_time": "2023-07-11T03:02:26.680Z"
   },
   {
    "duration": 15,
    "start_time": "2023-07-11T03:02:26.725Z"
   },
   {
    "duration": 365,
    "start_time": "2023-07-11T03:02:58.948Z"
   },
   {
    "duration": 508,
    "start_time": "2023-07-11T03:03:21.673Z"
   },
   {
    "duration": 2420,
    "start_time": "2023-07-11T03:15:01.897Z"
   },
   {
    "duration": 71,
    "start_time": "2023-07-11T03:15:18.180Z"
   },
   {
    "duration": 15,
    "start_time": "2023-07-11T03:15:18.630Z"
   },
   {
    "duration": 10,
    "start_time": "2023-07-11T03:15:19.065Z"
   },
   {
    "duration": 116,
    "start_time": "2023-07-11T03:15:20.150Z"
   },
   {
    "duration": 3,
    "start_time": "2023-07-11T03:15:22.967Z"
   },
   {
    "duration": 4,
    "start_time": "2023-07-11T03:15:23.769Z"
   },
   {
    "duration": 4,
    "start_time": "2023-07-11T03:15:25.191Z"
   },
   {
    "duration": 17,
    "start_time": "2023-07-11T03:15:27.293Z"
   },
   {
    "duration": 7,
    "start_time": "2023-07-11T03:15:29.457Z"
   },
   {
    "duration": 7,
    "start_time": "2023-07-11T03:15:30.322Z"
   },
   {
    "duration": 6,
    "start_time": "2023-07-11T03:15:32.464Z"
   },
   {
    "duration": 2,
    "start_time": "2023-07-11T03:15:33.967Z"
   },
   {
    "duration": 790,
    "start_time": "2023-07-11T03:15:42.041Z"
   },
   {
    "duration": 18,
    "start_time": "2023-07-11T03:15:53.852Z"
   },
   {
    "duration": 973,
    "start_time": "2023-07-11T03:16:11.354Z"
   },
   {
    "duration": 5,
    "start_time": "2023-07-11T03:16:26.516Z"
   },
   {
    "duration": 14,
    "start_time": "2023-07-11T03:18:43.643Z"
   },
   {
    "duration": 22,
    "start_time": "2023-07-11T03:19:00.597Z"
   },
   {
    "duration": 8,
    "start_time": "2023-07-11T03:19:15.570Z"
   },
   {
    "duration": 7,
    "start_time": "2023-07-11T03:19:30.363Z"
   },
   {
    "duration": 5,
    "start_time": "2023-07-11T03:19:50.894Z"
   },
   {
    "duration": 5,
    "start_time": "2023-07-11T03:21:10.311Z"
   },
   {
    "duration": 6,
    "start_time": "2023-07-11T03:21:25.472Z"
   },
   {
    "duration": 5,
    "start_time": "2023-07-11T03:21:35.635Z"
   },
   {
    "duration": 4,
    "start_time": "2023-07-11T03:21:50.411Z"
   },
   {
    "duration": 8,
    "start_time": "2023-07-11T03:21:59.535Z"
   },
   {
    "duration": 2997,
    "start_time": "2023-07-11T05:22:17.332Z"
   },
   {
    "duration": 2621,
    "start_time": "2023-07-11T05:22:29.834Z"
   },
   {
    "duration": 4943,
    "start_time": "2023-07-11T05:22:50.124Z"
   },
   {
    "duration": 3172,
    "start_time": "2023-07-11T05:23:04.565Z"
   },
   {
    "duration": 8,
    "start_time": "2023-07-11T05:23:22.069Z"
   },
   {
    "duration": 3,
    "start_time": "2023-07-11T05:25:04.433Z"
   },
   {
    "duration": 7,
    "start_time": "2023-07-11T05:25:05.468Z"
   },
   {
    "duration": 29,
    "start_time": "2023-07-11T05:27:39.496Z"
   },
   {
    "duration": 4,
    "start_time": "2023-07-11T05:27:57.145Z"
   },
   {
    "duration": 4,
    "start_time": "2023-07-11T05:28:36.168Z"
   },
   {
    "duration": 16,
    "start_time": "2023-07-11T05:29:25.956Z"
   },
   {
    "duration": 6,
    "start_time": "2023-07-11T05:29:35.864Z"
   },
   {
    "duration": 307,
    "start_time": "2023-07-11T05:32:04.235Z"
   },
   {
    "duration": 4,
    "start_time": "2023-07-11T05:32:12.949Z"
   },
   {
    "duration": 199,
    "start_time": "2023-07-11T05:33:41.465Z"
   },
   {
    "duration": 193,
    "start_time": "2023-07-11T05:34:55.163Z"
   },
   {
    "duration": 7,
    "start_time": "2023-07-11T05:37:06.485Z"
   },
   {
    "duration": 31,
    "start_time": "2023-07-11T05:37:14.006Z"
   },
   {
    "duration": 40,
    "start_time": "2023-07-11T05:37:23.593Z"
   },
   {
    "duration": 6,
    "start_time": "2023-07-11T05:37:35.516Z"
   },
   {
    "duration": 5,
    "start_time": "2023-07-11T05:37:46.985Z"
   },
   {
    "duration": 257,
    "start_time": "2023-07-11T05:38:24.693Z"
   },
   {
    "duration": 4,
    "start_time": "2023-07-11T05:41:40.480Z"
   },
   {
    "duration": 6,
    "start_time": "2023-07-11T05:41:46.392Z"
   },
   {
    "duration": 18,
    "start_time": "2023-07-11T06:19:00.377Z"
   },
   {
    "duration": 35,
    "start_time": "2023-07-11T06:19:12.429Z"
   },
   {
    "duration": 2,
    "start_time": "2023-07-11T06:26:05.079Z"
   },
   {
    "duration": 1408,
    "start_time": "2023-07-11T06:26:05.085Z"
   },
   {
    "duration": 189,
    "start_time": "2023-07-11T06:26:06.495Z"
   },
   {
    "duration": 63,
    "start_time": "2023-07-11T06:26:06.686Z"
   },
   {
    "duration": 29,
    "start_time": "2023-07-11T06:26:06.758Z"
   },
   {
    "duration": 93,
    "start_time": "2023-07-11T06:26:06.789Z"
   },
   {
    "duration": 5,
    "start_time": "2023-07-11T06:26:06.883Z"
   },
   {
    "duration": 59,
    "start_time": "2023-07-11T06:26:06.889Z"
   },
   {
    "duration": 24,
    "start_time": "2023-07-11T06:26:06.957Z"
   },
   {
    "duration": 30,
    "start_time": "2023-07-11T06:26:06.983Z"
   },
   {
    "duration": 61,
    "start_time": "2023-07-11T06:26:07.015Z"
   },
   {
    "duration": 12,
    "start_time": "2023-07-11T06:26:07.078Z"
   },
   {
    "duration": 42,
    "start_time": "2023-07-11T06:26:07.091Z"
   },
   {
    "duration": 42,
    "start_time": "2023-07-11T06:26:07.134Z"
   },
   {
    "duration": 5,
    "start_time": "2023-07-11T06:26:07.177Z"
   },
   {
    "duration": 10,
    "start_time": "2023-07-11T06:26:07.183Z"
   },
   {
    "duration": 33,
    "start_time": "2023-07-11T06:26:07.194Z"
   },
   {
    "duration": 50,
    "start_time": "2023-07-11T06:26:07.228Z"
   },
   {
    "duration": 10,
    "start_time": "2023-07-11T06:26:07.279Z"
   },
   {
    "duration": 12,
    "start_time": "2023-07-11T06:26:07.291Z"
   },
   {
    "duration": 30,
    "start_time": "2023-07-11T06:26:07.304Z"
   },
   {
    "duration": 292,
    "start_time": "2023-07-11T06:26:07.336Z"
   },
   {
    "duration": 57,
    "start_time": "2023-07-11T06:26:07.632Z"
   },
   {
    "duration": 6,
    "start_time": "2023-07-11T06:26:07.690Z"
   },
   {
    "duration": 71,
    "start_time": "2023-07-11T06:26:07.697Z"
   },
   {
    "duration": 15,
    "start_time": "2023-07-11T06:26:07.769Z"
   },
   {
    "duration": 261,
    "start_time": "2023-07-11T06:26:07.785Z"
   },
   {
    "duration": 14,
    "start_time": "2023-07-11T06:26:08.047Z"
   },
   {
    "duration": 13,
    "start_time": "2023-07-11T06:26:08.065Z"
   },
   {
    "duration": 8,
    "start_time": "2023-07-11T06:26:08.079Z"
   },
   {
    "duration": 24,
    "start_time": "2023-07-11T06:26:08.089Z"
   },
   {
    "duration": 50,
    "start_time": "2023-07-11T06:26:08.123Z"
   },
   {
    "duration": 17,
    "start_time": "2023-07-11T06:26:08.174Z"
   },
   {
    "duration": 16,
    "start_time": "2023-07-11T06:26:08.192Z"
   },
   {
    "duration": 71,
    "start_time": "2023-07-11T06:26:08.209Z"
   },
   {
    "duration": 47,
    "start_time": "2023-07-11T06:26:08.282Z"
   },
   {
    "duration": 127,
    "start_time": "2023-07-11T06:26:08.334Z"
   },
   {
    "duration": 18,
    "start_time": "2023-07-11T06:26:08.466Z"
   },
   {
    "duration": 60,
    "start_time": "2023-07-11T06:26:08.485Z"
   },
   {
    "duration": 17,
    "start_time": "2023-07-11T06:26:08.554Z"
   },
   {
    "duration": 12,
    "start_time": "2023-07-11T06:26:08.573Z"
   },
   {
    "duration": 185,
    "start_time": "2023-07-11T06:26:08.586Z"
   },
   {
    "duration": 0,
    "start_time": "2023-07-11T06:26:08.773Z"
   },
   {
    "duration": 1,
    "start_time": "2023-07-11T06:26:08.774Z"
   },
   {
    "duration": 0,
    "start_time": "2023-07-11T06:26:08.775Z"
   },
   {
    "duration": 0,
    "start_time": "2023-07-11T06:26:08.776Z"
   },
   {
    "duration": 0,
    "start_time": "2023-07-11T06:26:08.778Z"
   },
   {
    "duration": 0,
    "start_time": "2023-07-11T06:26:08.778Z"
   },
   {
    "duration": 0,
    "start_time": "2023-07-11T06:26:08.780Z"
   },
   {
    "duration": 0,
    "start_time": "2023-07-11T06:26:08.780Z"
   },
   {
    "duration": 0,
    "start_time": "2023-07-11T06:26:08.781Z"
   },
   {
    "duration": 0,
    "start_time": "2023-07-11T06:26:08.782Z"
   },
   {
    "duration": 0,
    "start_time": "2023-07-11T06:26:08.783Z"
   },
   {
    "duration": 0,
    "start_time": "2023-07-11T06:26:08.784Z"
   },
   {
    "duration": 0,
    "start_time": "2023-07-11T06:26:08.785Z"
   },
   {
    "duration": 0,
    "start_time": "2023-07-11T06:26:08.786Z"
   },
   {
    "duration": 0,
    "start_time": "2023-07-11T06:26:08.787Z"
   },
   {
    "duration": 0,
    "start_time": "2023-07-11T06:26:08.788Z"
   },
   {
    "duration": 0,
    "start_time": "2023-07-11T06:26:08.789Z"
   },
   {
    "duration": 0,
    "start_time": "2023-07-11T06:26:08.790Z"
   },
   {
    "duration": 0,
    "start_time": "2023-07-11T06:26:08.791Z"
   },
   {
    "duration": 0,
    "start_time": "2023-07-11T06:26:08.792Z"
   },
   {
    "duration": 0,
    "start_time": "2023-07-11T06:26:08.792Z"
   },
   {
    "duration": 0,
    "start_time": "2023-07-11T06:26:08.805Z"
   },
   {
    "duration": 0,
    "start_time": "2023-07-11T06:26:08.806Z"
   },
   {
    "duration": 0,
    "start_time": "2023-07-11T06:26:08.806Z"
   },
   {
    "duration": 0,
    "start_time": "2023-07-11T06:26:08.806Z"
   },
   {
    "duration": 0,
    "start_time": "2023-07-11T06:26:08.807Z"
   },
   {
    "duration": 0,
    "start_time": "2023-07-11T06:26:08.807Z"
   },
   {
    "duration": 0,
    "start_time": "2023-07-11T06:26:08.808Z"
   },
   {
    "duration": 0,
    "start_time": "2023-07-11T06:26:08.808Z"
   },
   {
    "duration": 0,
    "start_time": "2023-07-11T06:26:08.809Z"
   },
   {
    "duration": 0,
    "start_time": "2023-07-11T06:26:08.813Z"
   },
   {
    "duration": 0,
    "start_time": "2023-07-11T06:26:08.813Z"
   },
   {
    "duration": 0,
    "start_time": "2023-07-11T06:26:08.814Z"
   },
   {
    "duration": 0,
    "start_time": "2023-07-11T06:26:08.814Z"
   },
   {
    "duration": 0,
    "start_time": "2023-07-11T06:26:08.817Z"
   },
   {
    "duration": 0,
    "start_time": "2023-07-11T06:26:08.818Z"
   },
   {
    "duration": 0,
    "start_time": "2023-07-11T06:26:08.818Z"
   },
   {
    "duration": 0,
    "start_time": "2023-07-11T06:26:08.819Z"
   },
   {
    "duration": 0,
    "start_time": "2023-07-11T06:26:08.819Z"
   },
   {
    "duration": 0,
    "start_time": "2023-07-11T06:26:08.820Z"
   },
   {
    "duration": 0,
    "start_time": "2023-07-11T06:26:08.820Z"
   },
   {
    "duration": 0,
    "start_time": "2023-07-11T06:26:08.825Z"
   },
   {
    "duration": 0,
    "start_time": "2023-07-11T06:26:08.825Z"
   },
   {
    "duration": 0,
    "start_time": "2023-07-11T06:26:08.826Z"
   },
   {
    "duration": 0,
    "start_time": "2023-07-11T06:26:08.826Z"
   },
   {
    "duration": 0,
    "start_time": "2023-07-11T06:26:08.827Z"
   },
   {
    "duration": 0,
    "start_time": "2023-07-11T06:26:08.827Z"
   },
   {
    "duration": 0,
    "start_time": "2023-07-11T06:26:08.828Z"
   },
   {
    "duration": 0,
    "start_time": "2023-07-11T06:26:08.837Z"
   },
   {
    "duration": 0,
    "start_time": "2023-07-11T06:26:08.838Z"
   },
   {
    "duration": 0,
    "start_time": "2023-07-11T06:26:08.838Z"
   },
   {
    "duration": 0,
    "start_time": "2023-07-11T06:26:08.839Z"
   },
   {
    "duration": 0,
    "start_time": "2023-07-11T06:26:08.839Z"
   },
   {
    "duration": 0,
    "start_time": "2023-07-11T06:26:08.839Z"
   },
   {
    "duration": 0,
    "start_time": "2023-07-11T06:26:08.840Z"
   },
   {
    "duration": 0,
    "start_time": "2023-07-11T06:26:08.845Z"
   },
   {
    "duration": 0,
    "start_time": "2023-07-11T06:26:08.845Z"
   },
   {
    "duration": 0,
    "start_time": "2023-07-11T06:26:08.846Z"
   },
   {
    "duration": 0,
    "start_time": "2023-07-11T06:26:08.846Z"
   },
   {
    "duration": 0,
    "start_time": "2023-07-11T06:26:08.847Z"
   },
   {
    "duration": 0,
    "start_time": "2023-07-11T06:26:08.847Z"
   },
   {
    "duration": 0,
    "start_time": "2023-07-11T06:26:08.848Z"
   },
   {
    "duration": 1417,
    "start_time": "2023-07-11T06:26:57.154Z"
   },
   {
    "duration": 1412,
    "start_time": "2023-07-11T06:27:14.067Z"
   },
   {
    "duration": 16,
    "start_time": "2023-07-11T06:28:44.197Z"
   },
   {
    "duration": 122,
    "start_time": "2023-07-11T06:28:45.158Z"
   },
   {
    "duration": 19,
    "start_time": "2023-07-11T06:28:45.658Z"
   },
   {
    "duration": 13,
    "start_time": "2023-07-11T06:28:46.358Z"
   },
   {
    "duration": 61,
    "start_time": "2023-07-11T06:28:46.768Z"
   },
   {
    "duration": 7,
    "start_time": "2023-07-11T06:28:48.839Z"
   },
   {
    "duration": 4,
    "start_time": "2023-07-11T06:28:50.493Z"
   },
   {
    "duration": 5,
    "start_time": "2023-07-11T06:28:52.264Z"
   },
   {
    "duration": 21,
    "start_time": "2023-07-11T06:28:55.148Z"
   },
   {
    "duration": 18,
    "start_time": "2023-07-11T06:28:57.754Z"
   },
   {
    "duration": 25,
    "start_time": "2023-07-11T06:28:59.454Z"
   },
   {
    "duration": 7,
    "start_time": "2023-07-11T06:29:00.185Z"
   },
   {
    "duration": 6,
    "start_time": "2023-07-11T06:29:02.072Z"
   },
   {
    "duration": 7,
    "start_time": "2023-07-11T06:29:02.942Z"
   },
   {
    "duration": 24,
    "start_time": "2023-07-11T06:29:04.225Z"
   },
   {
    "duration": 13,
    "start_time": "2023-07-11T06:29:04.450Z"
   },
   {
    "duration": 13,
    "start_time": "2023-07-11T06:29:05.654Z"
   },
   {
    "duration": 7,
    "start_time": "2023-07-11T06:29:06.180Z"
   },
   {
    "duration": 4,
    "start_time": "2023-07-11T06:29:06.602Z"
   },
   {
    "duration": 55,
    "start_time": "2023-07-11T06:29:08.990Z"
   },
   {
    "duration": 252,
    "start_time": "2023-07-11T06:29:10.457Z"
   },
   {
    "duration": 79,
    "start_time": "2023-07-11T06:29:11.238Z"
   },
   {
    "duration": 12,
    "start_time": "2023-07-11T06:29:12.057Z"
   },
   {
    "duration": 2,
    "start_time": "2023-07-11T06:29:14.579Z"
   },
   {
    "duration": 24,
    "start_time": "2023-07-11T06:29:15.617Z"
   },
   {
    "duration": 219,
    "start_time": "2023-07-11T06:29:20.573Z"
   },
   {
    "duration": 7,
    "start_time": "2023-07-11T06:29:22.054Z"
   },
   {
    "duration": 14,
    "start_time": "2023-07-11T06:29:22.895Z"
   },
   {
    "duration": 4,
    "start_time": "2023-07-11T06:29:23.355Z"
   },
   {
    "duration": 10,
    "start_time": "2023-07-11T06:29:24.778Z"
   },
   {
    "duration": 17,
    "start_time": "2023-07-11T06:29:25.134Z"
   },
   {
    "duration": 3,
    "start_time": "2023-07-11T06:29:25.293Z"
   },
   {
    "duration": 14,
    "start_time": "2023-07-11T06:29:26.218Z"
   },
   {
    "duration": 9,
    "start_time": "2023-07-11T06:29:28.847Z"
   },
   {
    "duration": 19,
    "start_time": "2023-07-11T06:29:36.490Z"
   },
   {
    "duration": 20,
    "start_time": "2023-07-11T06:29:41.844Z"
   },
   {
    "duration": 9,
    "start_time": "2023-07-11T06:36:02.157Z"
   },
   {
    "duration": 494,
    "start_time": "2023-07-11T06:36:04.082Z"
   },
   {
    "duration": 4,
    "start_time": "2023-07-11T06:36:05.662Z"
   },
   {
    "duration": 8,
    "start_time": "2023-07-11T06:36:07.054Z"
   },
   {
    "duration": 16,
    "start_time": "2023-07-11T06:36:07.694Z"
   },
   {
    "duration": 1880,
    "start_time": "2023-07-11T06:39:44.554Z"
   },
   {
    "duration": 57,
    "start_time": "2023-07-11T06:39:48.456Z"
   },
   {
    "duration": 366,
    "start_time": "2023-07-11T06:40:11.424Z"
   },
   {
    "duration": 138,
    "start_time": "2023-07-11T06:40:38.758Z"
   },
   {
    "duration": 308,
    "start_time": "2023-07-11T06:40:41.767Z"
   },
   {
    "duration": 370,
    "start_time": "2023-07-11T06:40:59.819Z"
   },
   {
    "duration": 5,
    "start_time": "2023-07-11T07:13:32.979Z"
   },
   {
    "duration": 6,
    "start_time": "2023-07-11T07:24:24.420Z"
   },
   {
    "duration": 12,
    "start_time": "2023-07-11T07:24:49.354Z"
   },
   {
    "duration": 21,
    "start_time": "2023-07-11T07:25:32.196Z"
   },
   {
    "duration": 2146,
    "start_time": "2023-07-11T07:25:32.233Z"
   },
   {
    "duration": 444,
    "start_time": "2023-07-11T07:25:34.381Z"
   },
   {
    "duration": 30,
    "start_time": "2023-07-11T07:25:34.827Z"
   },
   {
    "duration": 121,
    "start_time": "2023-07-11T07:25:34.859Z"
   },
   {
    "duration": 113,
    "start_time": "2023-07-11T07:25:34.982Z"
   },
   {
    "duration": 94,
    "start_time": "2023-07-11T07:25:35.097Z"
   },
   {
    "duration": 96,
    "start_time": "2023-07-11T07:25:35.192Z"
   },
   {
    "duration": 8,
    "start_time": "2023-07-11T07:25:35.290Z"
   },
   {
    "duration": 98,
    "start_time": "2023-07-11T07:25:35.300Z"
   },
   {
    "duration": 138,
    "start_time": "2023-07-11T07:25:35.399Z"
   },
   {
    "duration": 139,
    "start_time": "2023-07-11T07:25:35.542Z"
   },
   {
    "duration": 103,
    "start_time": "2023-07-11T07:25:35.683Z"
   },
   {
    "duration": 57,
    "start_time": "2023-07-11T07:25:35.787Z"
   },
   {
    "duration": 49,
    "start_time": "2023-07-11T07:25:35.846Z"
   },
   {
    "duration": 167,
    "start_time": "2023-07-11T07:25:35.897Z"
   },
   {
    "duration": 118,
    "start_time": "2023-07-11T07:25:36.065Z"
   },
   {
    "duration": 121,
    "start_time": "2023-07-11T07:25:36.185Z"
   },
   {
    "duration": 89,
    "start_time": "2023-07-11T07:25:36.307Z"
   },
   {
    "duration": 96,
    "start_time": "2023-07-11T07:25:36.398Z"
   },
   {
    "duration": 153,
    "start_time": "2023-07-11T07:25:36.496Z"
   },
   {
    "duration": 473,
    "start_time": "2023-07-11T07:25:36.651Z"
   },
   {
    "duration": 77,
    "start_time": "2023-07-11T07:25:37.128Z"
   },
   {
    "duration": 62,
    "start_time": "2023-07-11T07:25:37.207Z"
   },
   {
    "duration": 82,
    "start_time": "2023-07-11T07:25:37.271Z"
   },
   {
    "duration": 51,
    "start_time": "2023-07-11T07:25:37.355Z"
   },
   {
    "duration": 437,
    "start_time": "2023-07-11T07:25:37.411Z"
   },
   {
    "duration": 7,
    "start_time": "2023-07-11T07:25:37.855Z"
   },
   {
    "duration": 36,
    "start_time": "2023-07-11T07:25:37.867Z"
   },
   {
    "duration": 90,
    "start_time": "2023-07-11T07:25:37.909Z"
   },
   {
    "duration": 170,
    "start_time": "2023-07-11T07:25:38.006Z"
   },
   {
    "duration": 198,
    "start_time": "2023-07-11T07:25:38.177Z"
   },
   {
    "duration": 113,
    "start_time": "2023-07-11T07:25:38.377Z"
   },
   {
    "duration": 97,
    "start_time": "2023-07-11T07:25:38.492Z"
   },
   {
    "duration": 92,
    "start_time": "2023-07-11T07:25:38.591Z"
   },
   {
    "duration": 194,
    "start_time": "2023-07-11T07:25:38.685Z"
   },
   {
    "duration": 200,
    "start_time": "2023-07-11T07:25:38.882Z"
   },
   {
    "duration": 30,
    "start_time": "2023-07-11T07:25:39.084Z"
   },
   {
    "duration": 73,
    "start_time": "2023-07-11T07:25:39.116Z"
   },
   {
    "duration": 55,
    "start_time": "2023-07-11T07:25:39.190Z"
   },
   {
    "duration": 179,
    "start_time": "2023-07-11T07:25:39.247Z"
   },
   {
    "duration": 386,
    "start_time": "2023-07-11T07:25:39.427Z"
   },
   {
    "duration": 0,
    "start_time": "2023-07-11T07:25:39.817Z"
   },
   {
    "duration": 0,
    "start_time": "2023-07-11T07:25:39.818Z"
   },
   {
    "duration": 0,
    "start_time": "2023-07-11T07:25:39.819Z"
   },
   {
    "duration": 0,
    "start_time": "2023-07-11T07:25:39.820Z"
   },
   {
    "duration": 0,
    "start_time": "2023-07-11T07:25:39.821Z"
   },
   {
    "duration": 0,
    "start_time": "2023-07-11T07:25:39.822Z"
   },
   {
    "duration": 0,
    "start_time": "2023-07-11T07:25:39.822Z"
   },
   {
    "duration": 0,
    "start_time": "2023-07-11T07:25:39.823Z"
   },
   {
    "duration": 0,
    "start_time": "2023-07-11T07:25:39.824Z"
   },
   {
    "duration": 0,
    "start_time": "2023-07-11T07:25:39.825Z"
   },
   {
    "duration": 0,
    "start_time": "2023-07-11T07:25:39.826Z"
   },
   {
    "duration": 0,
    "start_time": "2023-07-11T07:25:39.827Z"
   },
   {
    "duration": 0,
    "start_time": "2023-07-11T07:25:39.828Z"
   },
   {
    "duration": 0,
    "start_time": "2023-07-11T07:25:39.828Z"
   },
   {
    "duration": 0,
    "start_time": "2023-07-11T07:25:39.834Z"
   },
   {
    "duration": 0,
    "start_time": "2023-07-11T07:25:39.835Z"
   },
   {
    "duration": 0,
    "start_time": "2023-07-11T07:25:39.836Z"
   },
   {
    "duration": 0,
    "start_time": "2023-07-11T07:25:39.838Z"
   },
   {
    "duration": 0,
    "start_time": "2023-07-11T07:25:39.838Z"
   },
   {
    "duration": 0,
    "start_time": "2023-07-11T07:25:39.839Z"
   },
   {
    "duration": 0,
    "start_time": "2023-07-11T07:25:39.840Z"
   },
   {
    "duration": 0,
    "start_time": "2023-07-11T07:25:39.841Z"
   },
   {
    "duration": 0,
    "start_time": "2023-07-11T07:25:39.842Z"
   },
   {
    "duration": 0,
    "start_time": "2023-07-11T07:25:39.845Z"
   },
   {
    "duration": 0,
    "start_time": "2023-07-11T07:25:39.846Z"
   },
   {
    "duration": 0,
    "start_time": "2023-07-11T07:25:39.847Z"
   },
   {
    "duration": 0,
    "start_time": "2023-07-11T07:25:39.849Z"
   },
   {
    "duration": 0,
    "start_time": "2023-07-11T07:25:39.850Z"
   },
   {
    "duration": 0,
    "start_time": "2023-07-11T07:25:39.851Z"
   },
   {
    "duration": 0,
    "start_time": "2023-07-11T07:25:39.852Z"
   },
   {
    "duration": 0,
    "start_time": "2023-07-11T07:25:39.857Z"
   },
   {
    "duration": 0,
    "start_time": "2023-07-11T07:25:39.858Z"
   },
   {
    "duration": 0,
    "start_time": "2023-07-11T07:25:39.859Z"
   },
   {
    "duration": 0,
    "start_time": "2023-07-11T07:25:39.861Z"
   },
   {
    "duration": 0,
    "start_time": "2023-07-11T07:25:39.862Z"
   },
   {
    "duration": 0,
    "start_time": "2023-07-11T07:25:39.863Z"
   },
   {
    "duration": 0,
    "start_time": "2023-07-11T07:25:39.864Z"
   },
   {
    "duration": 0,
    "start_time": "2023-07-11T07:25:39.865Z"
   },
   {
    "duration": 0,
    "start_time": "2023-07-11T07:25:39.866Z"
   },
   {
    "duration": 0,
    "start_time": "2023-07-11T07:25:39.867Z"
   },
   {
    "duration": 0,
    "start_time": "2023-07-11T07:25:39.868Z"
   },
   {
    "duration": 0,
    "start_time": "2023-07-11T07:25:39.869Z"
   },
   {
    "duration": 0,
    "start_time": "2023-07-11T07:25:39.870Z"
   },
   {
    "duration": 0,
    "start_time": "2023-07-11T07:25:39.871Z"
   },
   {
    "duration": 0,
    "start_time": "2023-07-11T07:25:39.872Z"
   },
   {
    "duration": 0,
    "start_time": "2023-07-11T07:25:39.873Z"
   },
   {
    "duration": 0,
    "start_time": "2023-07-11T07:25:39.874Z"
   },
   {
    "duration": 0,
    "start_time": "2023-07-11T07:25:39.875Z"
   },
   {
    "duration": 0,
    "start_time": "2023-07-11T07:25:39.876Z"
   },
   {
    "duration": 0,
    "start_time": "2023-07-11T07:25:39.877Z"
   },
   {
    "duration": 0,
    "start_time": "2023-07-11T07:25:39.878Z"
   },
   {
    "duration": 0,
    "start_time": "2023-07-11T07:25:39.879Z"
   },
   {
    "duration": 0,
    "start_time": "2023-07-11T07:25:39.881Z"
   },
   {
    "duration": 0,
    "start_time": "2023-07-11T07:25:39.882Z"
   },
   {
    "duration": 0,
    "start_time": "2023-07-11T07:25:39.883Z"
   },
   {
    "duration": 0,
    "start_time": "2023-07-11T07:25:39.884Z"
   },
   {
    "duration": 0,
    "start_time": "2023-07-11T07:25:39.885Z"
   },
   {
    "duration": 0,
    "start_time": "2023-07-11T07:25:39.886Z"
   },
   {
    "duration": 0,
    "start_time": "2023-07-11T07:25:39.887Z"
   },
   {
    "duration": 0,
    "start_time": "2023-07-11T07:25:39.888Z"
   },
   {
    "duration": 0,
    "start_time": "2023-07-11T07:25:39.890Z"
   },
   {
    "duration": 0,
    "start_time": "2023-07-11T07:25:39.901Z"
   },
   {
    "duration": 0,
    "start_time": "2023-07-11T07:25:39.902Z"
   },
   {
    "duration": 0,
    "start_time": "2023-07-11T07:25:39.910Z"
   },
   {
    "duration": 1579,
    "start_time": "2023-07-11T07:30:20.170Z"
   },
   {
    "duration": 1811,
    "start_time": "2023-07-11T07:30:32.658Z"
   },
   {
    "duration": 5,
    "start_time": "2023-07-11T07:30:52.323Z"
   },
   {
    "duration": 1859,
    "start_time": "2023-07-11T07:30:52.342Z"
   },
   {
    "duration": 195,
    "start_time": "2023-07-11T07:30:54.203Z"
   },
   {
    "duration": 47,
    "start_time": "2023-07-11T07:30:54.418Z"
   },
   {
    "duration": 120,
    "start_time": "2023-07-11T07:30:54.470Z"
   },
   {
    "duration": 126,
    "start_time": "2023-07-11T07:30:54.595Z"
   },
   {
    "duration": 63,
    "start_time": "2023-07-11T07:30:54.725Z"
   },
   {
    "duration": 3,
    "start_time": "2023-07-11T07:30:54.790Z"
   },
   {
    "duration": 111,
    "start_time": "2023-07-11T07:30:54.798Z"
   },
   {
    "duration": 114,
    "start_time": "2023-07-11T07:30:54.914Z"
   },
   {
    "duration": 109,
    "start_time": "2023-07-11T07:30:55.047Z"
   },
   {
    "duration": 123,
    "start_time": "2023-07-11T07:30:55.158Z"
   },
   {
    "duration": 37,
    "start_time": "2023-07-11T07:30:55.282Z"
   },
   {
    "duration": 73,
    "start_time": "2023-07-11T07:30:55.321Z"
   },
   {
    "duration": 110,
    "start_time": "2023-07-11T07:30:55.396Z"
   },
   {
    "duration": 196,
    "start_time": "2023-07-11T07:30:55.510Z"
   },
   {
    "duration": 81,
    "start_time": "2023-07-11T07:30:55.708Z"
   },
   {
    "duration": 11,
    "start_time": "2023-07-11T07:30:55.794Z"
   },
   {
    "duration": 141,
    "start_time": "2023-07-11T07:30:55.806Z"
   },
   {
    "duration": 146,
    "start_time": "2023-07-11T07:30:55.966Z"
   },
   {
    "duration": 172,
    "start_time": "2023-07-11T07:30:56.123Z"
   },
   {
    "duration": 416,
    "start_time": "2023-07-11T07:30:56.304Z"
   },
   {
    "duration": 55,
    "start_time": "2023-07-11T07:30:56.725Z"
   },
   {
    "duration": 93,
    "start_time": "2023-07-11T07:30:56.785Z"
   },
   {
    "duration": 61,
    "start_time": "2023-07-11T07:30:56.880Z"
   },
   {
    "duration": 122,
    "start_time": "2023-07-11T07:30:56.950Z"
   },
   {
    "duration": 410,
    "start_time": "2023-07-11T07:30:57.074Z"
   },
   {
    "duration": 22,
    "start_time": "2023-07-11T07:30:57.492Z"
   },
   {
    "duration": 121,
    "start_time": "2023-07-11T07:30:57.521Z"
   },
   {
    "duration": 141,
    "start_time": "2023-07-11T07:30:57.648Z"
   },
   {
    "duration": 114,
    "start_time": "2023-07-11T07:30:57.791Z"
   },
   {
    "duration": 90,
    "start_time": "2023-07-11T07:30:57.906Z"
   },
   {
    "duration": 97,
    "start_time": "2023-07-11T07:30:57.998Z"
   },
   {
    "duration": 97,
    "start_time": "2023-07-11T07:30:58.096Z"
   },
   {
    "duration": 66,
    "start_time": "2023-07-11T07:30:58.195Z"
   },
   {
    "duration": 91,
    "start_time": "2023-07-11T07:30:58.262Z"
   },
   {
    "duration": 123,
    "start_time": "2023-07-11T07:30:58.357Z"
   },
   {
    "duration": 35,
    "start_time": "2023-07-11T07:30:58.482Z"
   },
   {
    "duration": 79,
    "start_time": "2023-07-11T07:30:58.522Z"
   },
   {
    "duration": 25,
    "start_time": "2023-07-11T07:30:58.603Z"
   },
   {
    "duration": 68,
    "start_time": "2023-07-11T07:30:58.629Z"
   },
   {
    "duration": 1574,
    "start_time": "2023-07-11T07:30:58.699Z"
   },
   {
    "duration": 4,
    "start_time": "2023-07-11T07:31:00.275Z"
   },
   {
    "duration": 638,
    "start_time": "2023-07-11T07:31:00.281Z"
   },
   {
    "duration": 14,
    "start_time": "2023-07-11T07:31:00.922Z"
   },
   {
    "duration": 214,
    "start_time": "2023-07-11T07:31:00.939Z"
   },
   {
    "duration": 168,
    "start_time": "2023-07-11T07:31:01.157Z"
   },
   {
    "duration": 734,
    "start_time": "2023-07-11T07:31:01.327Z"
   },
   {
    "duration": 21,
    "start_time": "2023-07-11T07:31:02.066Z"
   },
   {
    "duration": 626,
    "start_time": "2023-07-11T07:31:02.091Z"
   },
   {
    "duration": 7,
    "start_time": "2023-07-11T07:31:02.718Z"
   },
   {
    "duration": 596,
    "start_time": "2023-07-11T07:31:02.726Z"
   },
   {
    "duration": 11,
    "start_time": "2023-07-11T07:31:03.328Z"
   },
   {
    "duration": 599,
    "start_time": "2023-07-11T07:31:03.346Z"
   },
   {
    "duration": 14,
    "start_time": "2023-07-11T07:31:03.950Z"
   },
   {
    "duration": 60,
    "start_time": "2023-07-11T07:31:03.969Z"
   },
   {
    "duration": 90,
    "start_time": "2023-07-11T07:31:04.037Z"
   },
   {
    "duration": 600,
    "start_time": "2023-07-11T07:31:04.129Z"
   },
   {
    "duration": 11,
    "start_time": "2023-07-11T07:31:04.734Z"
   },
   {
    "duration": 115,
    "start_time": "2023-07-11T07:31:04.753Z"
   },
   {
    "duration": 16,
    "start_time": "2023-07-11T07:31:04.878Z"
   },
   {
    "duration": 760,
    "start_time": "2023-07-11T07:31:04.896Z"
   },
   {
    "duration": 6,
    "start_time": "2023-07-11T07:31:05.658Z"
   },
   {
    "duration": 190,
    "start_time": "2023-07-11T07:31:05.665Z"
   },
   {
    "duration": 118,
    "start_time": "2023-07-11T07:31:05.857Z"
   },
   {
    "duration": 728,
    "start_time": "2023-07-11T07:31:05.979Z"
   },
   {
    "duration": 10,
    "start_time": "2023-07-11T07:31:06.713Z"
   },
   {
    "duration": 204,
    "start_time": "2023-07-11T07:31:06.729Z"
   },
   {
    "duration": 81,
    "start_time": "2023-07-11T07:31:06.938Z"
   },
   {
    "duration": 756,
    "start_time": "2023-07-11T07:31:07.028Z"
   },
   {
    "duration": 5,
    "start_time": "2023-07-11T07:31:07.789Z"
   },
   {
    "duration": 451,
    "start_time": "2023-07-11T07:31:07.798Z"
   },
   {
    "duration": 17,
    "start_time": "2023-07-11T07:31:08.267Z"
   },
   {
    "duration": 36,
    "start_time": "2023-07-11T07:31:08.289Z"
   },
   {
    "duration": 163,
    "start_time": "2023-07-11T07:31:08.329Z"
   },
   {
    "duration": 776,
    "start_time": "2023-07-11T07:31:08.493Z"
   },
   {
    "duration": 452,
    "start_time": "2023-07-11T07:31:09.276Z"
   },
   {
    "duration": 3,
    "start_time": "2023-07-11T07:31:09.733Z"
   },
   {
    "duration": 119,
    "start_time": "2023-07-11T07:31:09.741Z"
   },
   {
    "duration": 110,
    "start_time": "2023-07-11T07:31:09.865Z"
   },
   {
    "duration": 678,
    "start_time": "2023-07-11T07:31:09.981Z"
   },
   {
    "duration": 5,
    "start_time": "2023-07-11T07:31:10.670Z"
   },
   {
    "duration": 104,
    "start_time": "2023-07-11T07:31:10.686Z"
   },
   {
    "duration": 98,
    "start_time": "2023-07-11T07:31:10.792Z"
   },
   {
    "duration": 96,
    "start_time": "2023-07-11T07:31:10.891Z"
   },
   {
    "duration": 129,
    "start_time": "2023-07-11T07:31:10.988Z"
   },
   {
    "duration": 65,
    "start_time": "2023-07-11T07:31:11.125Z"
   },
   {
    "duration": 15,
    "start_time": "2023-07-11T07:31:11.192Z"
   },
   {
    "duration": 79,
    "start_time": "2023-07-11T07:31:11.211Z"
   },
   {
    "duration": 97,
    "start_time": "2023-07-11T07:31:11.291Z"
   },
   {
    "duration": 109,
    "start_time": "2023-07-11T07:31:11.389Z"
   },
   {
    "duration": 19,
    "start_time": "2023-07-11T07:31:11.509Z"
   },
   {
    "duration": 154,
    "start_time": "2023-07-11T07:31:11.529Z"
   },
   {
    "duration": 173,
    "start_time": "2023-07-11T07:31:11.685Z"
   },
   {
    "duration": 8,
    "start_time": "2023-07-11T07:31:11.862Z"
   },
   {
    "duration": 26,
    "start_time": "2023-07-11T07:31:11.871Z"
   },
   {
    "duration": 123,
    "start_time": "2023-07-11T07:31:11.898Z"
   },
   {
    "duration": 22,
    "start_time": "2023-07-11T07:31:12.022Z"
   },
   {
    "duration": 105,
    "start_time": "2023-07-11T07:31:12.048Z"
   },
   {
    "duration": 31,
    "start_time": "2023-07-11T07:31:12.158Z"
   },
   {
    "duration": 92,
    "start_time": "2023-07-11T07:31:12.191Z"
   },
   {
    "duration": 9,
    "start_time": "2023-07-11T07:31:12.286Z"
   },
   {
    "duration": 94,
    "start_time": "2023-07-11T07:31:12.297Z"
   },
   {
    "duration": 100,
    "start_time": "2023-07-11T07:31:12.393Z"
   },
   {
    "duration": 115,
    "start_time": "2023-07-11T07:31:12.494Z"
   },
   {
    "duration": 112,
    "start_time": "2023-07-11T07:31:12.612Z"
   },
   {
    "duration": 54,
    "start_time": "2023-07-11T11:01:59.151Z"
   },
   {
    "duration": 5,
    "start_time": "2023-07-11T11:02:11.632Z"
   },
   {
    "duration": 1607,
    "start_time": "2023-07-11T11:02:11.642Z"
   },
   {
    "duration": 78,
    "start_time": "2023-07-11T11:02:13.251Z"
   },
   {
    "duration": 22,
    "start_time": "2023-07-11T11:02:13.331Z"
   },
   {
    "duration": 42,
    "start_time": "2023-07-11T11:02:13.356Z"
   },
   {
    "duration": 51,
    "start_time": "2023-07-11T11:02:13.400Z"
   },
   {
    "duration": 4,
    "start_time": "2023-07-11T11:02:13.453Z"
   },
   {
    "duration": 27,
    "start_time": "2023-07-11T11:02:13.459Z"
   },
   {
    "duration": 43,
    "start_time": "2023-07-11T11:02:13.488Z"
   },
   {
    "duration": 65,
    "start_time": "2023-07-11T11:02:13.533Z"
   },
   {
    "duration": 20,
    "start_time": "2023-07-11T11:02:13.601Z"
   },
   {
    "duration": 32,
    "start_time": "2023-07-11T11:02:13.623Z"
   },
   {
    "duration": 22,
    "start_time": "2023-07-11T11:02:13.657Z"
   },
   {
    "duration": 27,
    "start_time": "2023-07-11T11:02:13.680Z"
   },
   {
    "duration": 29,
    "start_time": "2023-07-11T11:02:13.708Z"
   },
   {
    "duration": 18,
    "start_time": "2023-07-11T11:02:13.739Z"
   },
   {
    "duration": 27,
    "start_time": "2023-07-11T11:02:13.759Z"
   },
   {
    "duration": 36,
    "start_time": "2023-07-11T11:02:13.788Z"
   },
   {
    "duration": 16,
    "start_time": "2023-07-11T11:02:13.827Z"
   },
   {
    "duration": 24,
    "start_time": "2023-07-11T11:02:13.845Z"
   },
   {
    "duration": 63,
    "start_time": "2023-07-11T11:02:13.871Z"
   },
   {
    "duration": 335,
    "start_time": "2023-07-11T11:02:13.937Z"
   },
   {
    "duration": 66,
    "start_time": "2023-07-11T11:02:14.274Z"
   },
   {
    "duration": 9,
    "start_time": "2023-07-11T11:02:14.342Z"
   },
   {
    "duration": 60,
    "start_time": "2023-07-11T11:02:14.353Z"
   },
   {
    "duration": 15,
    "start_time": "2023-07-11T11:02:14.415Z"
   },
   {
    "duration": 218,
    "start_time": "2023-07-11T11:02:14.433Z"
   },
   {
    "duration": 6,
    "start_time": "2023-07-11T11:02:14.654Z"
   },
   {
    "duration": 7,
    "start_time": "2023-07-11T11:02:14.667Z"
   },
   {
    "duration": 34,
    "start_time": "2023-07-11T11:02:14.676Z"
   },
   {
    "duration": 18,
    "start_time": "2023-07-11T11:02:14.712Z"
   },
   {
    "duration": 6,
    "start_time": "2023-07-11T11:02:14.733Z"
   },
   {
    "duration": 13,
    "start_time": "2023-07-11T11:02:14.741Z"
   },
   {
    "duration": 9,
    "start_time": "2023-07-11T11:02:14.755Z"
   },
   {
    "duration": 17,
    "start_time": "2023-07-11T11:02:14.765Z"
   },
   {
    "duration": 16,
    "start_time": "2023-07-11T11:02:14.809Z"
   },
   {
    "duration": 85,
    "start_time": "2023-07-11T11:02:14.826Z"
   },
   {
    "duration": 26,
    "start_time": "2023-07-11T11:02:14.913Z"
   },
   {
    "duration": 22,
    "start_time": "2023-07-11T11:02:14.941Z"
   },
   {
    "duration": 46,
    "start_time": "2023-07-11T11:02:14.964Z"
   },
   {
    "duration": 18,
    "start_time": "2023-07-11T11:02:15.013Z"
   },
   {
    "duration": 1615,
    "start_time": "2023-07-11T11:02:15.032Z"
   },
   {
    "duration": 5,
    "start_time": "2023-07-11T11:02:16.649Z"
   },
   {
    "duration": 619,
    "start_time": "2023-07-11T11:02:16.657Z"
   },
   {
    "duration": 5,
    "start_time": "2023-07-11T11:02:17.278Z"
   },
   {
    "duration": 25,
    "start_time": "2023-07-11T11:02:17.285Z"
   },
   {
    "duration": 6,
    "start_time": "2023-07-11T11:02:17.312Z"
   },
   {
    "duration": 371,
    "start_time": "2023-07-11T11:02:17.319Z"
   },
   {
    "duration": 18,
    "start_time": "2023-07-11T11:02:17.692Z"
   },
   {
    "duration": 367,
    "start_time": "2023-07-11T11:02:17.712Z"
   },
   {
    "duration": 7,
    "start_time": "2023-07-11T11:02:18.081Z"
   },
   {
    "duration": 392,
    "start_time": "2023-07-11T11:02:18.090Z"
   },
   {
    "duration": 8,
    "start_time": "2023-07-11T11:02:18.484Z"
   },
   {
    "duration": 371,
    "start_time": "2023-07-11T11:02:18.509Z"
   },
   {
    "duration": 4,
    "start_time": "2023-07-11T11:02:18.882Z"
   },
   {
    "duration": 22,
    "start_time": "2023-07-11T11:02:18.888Z"
   },
   {
    "duration": 9,
    "start_time": "2023-07-11T11:02:18.912Z"
   },
   {
    "duration": 520,
    "start_time": "2023-07-11T11:02:18.922Z"
   },
   {
    "duration": 7,
    "start_time": "2023-07-11T11:02:19.445Z"
   },
   {
    "duration": 27,
    "start_time": "2023-07-11T11:02:19.455Z"
   },
   {
    "duration": 34,
    "start_time": "2023-07-11T11:02:19.484Z"
   },
   {
    "duration": 15,
    "start_time": "2023-07-11T11:02:19.521Z"
   },
   {
    "duration": 615,
    "start_time": "2023-07-11T11:02:19.538Z"
   },
   {
    "duration": 5,
    "start_time": "2023-07-11T11:02:20.157Z"
   },
   {
    "duration": 23,
    "start_time": "2023-07-11T11:02:20.164Z"
   },
   {
    "duration": 24,
    "start_time": "2023-07-11T11:02:20.189Z"
   },
   {
    "duration": 488,
    "start_time": "2023-07-11T11:02:20.215Z"
   },
   {
    "duration": 4,
    "start_time": "2023-07-11T11:02:20.710Z"
   },
   {
    "duration": 36,
    "start_time": "2023-07-11T11:02:20.716Z"
   },
   {
    "duration": 44,
    "start_time": "2023-07-11T11:02:20.754Z"
   },
   {
    "duration": 649,
    "start_time": "2023-07-11T11:02:20.800Z"
   },
   {
    "duration": 5,
    "start_time": "2023-07-11T11:02:21.451Z"
   },
   {
    "duration": 393,
    "start_time": "2023-07-11T11:02:21.458Z"
   },
   {
    "duration": 6,
    "start_time": "2023-07-11T11:02:21.853Z"
   },
   {
    "duration": 23,
    "start_time": "2023-07-11T11:02:21.860Z"
   },
   {
    "duration": 23,
    "start_time": "2023-07-11T11:02:21.885Z"
   },
   {
    "duration": 632,
    "start_time": "2023-07-11T11:02:21.910Z"
   },
   {
    "duration": 348,
    "start_time": "2023-07-11T11:02:22.544Z"
   },
   {
    "duration": 16,
    "start_time": "2023-07-11T11:02:22.895Z"
   },
   {
    "duration": 33,
    "start_time": "2023-07-11T11:02:22.913Z"
   },
   {
    "duration": 23,
    "start_time": "2023-07-11T11:02:22.948Z"
   },
   {
    "duration": 525,
    "start_time": "2023-07-11T11:02:22.973Z"
   },
   {
    "duration": 6,
    "start_time": "2023-07-11T11:02:23.504Z"
   },
   {
    "duration": 27,
    "start_time": "2023-07-11T11:02:23.511Z"
   },
   {
    "duration": 37,
    "start_time": "2023-07-11T11:02:23.540Z"
   },
   {
    "duration": 22,
    "start_time": "2023-07-11T11:02:23.579Z"
   },
   {
    "duration": 16,
    "start_time": "2023-07-11T11:02:23.604Z"
   },
   {
    "duration": 45,
    "start_time": "2023-07-11T11:02:23.622Z"
   },
   {
    "duration": 28,
    "start_time": "2023-07-11T11:02:23.669Z"
   },
   {
    "duration": 49,
    "start_time": "2023-07-11T11:02:23.699Z"
   },
   {
    "duration": 40,
    "start_time": "2023-07-11T11:02:23.750Z"
   },
   {
    "duration": 105,
    "start_time": "2023-07-11T11:02:23.793Z"
   },
   {
    "duration": 8,
    "start_time": "2023-07-11T11:02:23.901Z"
   },
   {
    "duration": 33,
    "start_time": "2023-07-11T11:02:23.911Z"
   },
   {
    "duration": 79,
    "start_time": "2023-07-11T11:02:23.946Z"
   },
   {
    "duration": 8,
    "start_time": "2023-07-11T11:02:24.027Z"
   },
   {
    "duration": 42,
    "start_time": "2023-07-11T11:02:24.036Z"
   },
   {
    "duration": 87,
    "start_time": "2023-07-11T11:02:24.080Z"
   },
   {
    "duration": 11,
    "start_time": "2023-07-11T11:02:24.169Z"
   },
   {
    "duration": 16,
    "start_time": "2023-07-11T11:02:24.182Z"
   },
   {
    "duration": 10,
    "start_time": "2023-07-11T11:02:24.209Z"
   },
   {
    "duration": 25,
    "start_time": "2023-07-11T11:02:24.220Z"
   },
   {
    "duration": 22,
    "start_time": "2023-07-11T11:02:24.247Z"
   },
   {
    "duration": 50,
    "start_time": "2023-07-11T11:02:24.271Z"
   },
   {
    "duration": 19,
    "start_time": "2023-07-11T11:02:24.324Z"
   },
   {
    "duration": 32,
    "start_time": "2023-07-11T11:02:24.345Z"
   },
   {
    "duration": 45,
    "start_time": "2023-07-11T11:02:24.379Z"
   },
   {
    "duration": 8,
    "start_time": "2023-07-11T11:03:55.999Z"
   },
   {
    "duration": 7,
    "start_time": "2023-07-11T11:03:56.864Z"
   },
   {
    "duration": 6,
    "start_time": "2023-07-11T11:04:03.900Z"
   },
   {
    "duration": 6,
    "start_time": "2023-07-11T11:04:04.696Z"
   },
   {
    "duration": 9,
    "start_time": "2023-07-11T11:06:15.751Z"
   },
   {
    "duration": 7,
    "start_time": "2023-07-11T11:06:27.669Z"
   },
   {
    "duration": 6,
    "start_time": "2023-07-11T11:06:28.497Z"
   },
   {
    "duration": 8,
    "start_time": "2023-07-11T11:06:29.471Z"
   },
   {
    "duration": 130,
    "start_time": "2023-07-11T11:10:25.098Z"
   },
   {
    "duration": 6,
    "start_time": "2023-07-11T11:10:31.015Z"
   },
   {
    "duration": 7,
    "start_time": "2023-07-11T11:10:33.937Z"
   },
   {
    "duration": 6,
    "start_time": "2023-07-11T11:10:35.215Z"
   },
   {
    "duration": 5,
    "start_time": "2023-07-11T11:11:22.459Z"
   },
   {
    "duration": 8,
    "start_time": "2023-07-11T11:11:24.840Z"
   },
   {
    "duration": 6,
    "start_time": "2023-07-11T11:11:25.562Z"
   },
   {
    "duration": 6,
    "start_time": "2023-07-11T11:12:34.051Z"
   },
   {
    "duration": 6,
    "start_time": "2023-07-11T11:12:36.519Z"
   },
   {
    "duration": 5,
    "start_time": "2023-07-11T11:12:41.770Z"
   },
   {
    "duration": 6,
    "start_time": "2023-07-11T11:12:43.960Z"
   },
   {
    "duration": 640,
    "start_time": "2023-07-11T11:13:13.644Z"
   },
   {
    "duration": 263,
    "start_time": "2023-07-11T11:16:56.347Z"
   },
   {
    "duration": 8213,
    "start_time": "2023-07-11T11:17:15.116Z"
   },
   {
    "duration": 277,
    "start_time": "2023-07-11T11:18:04.519Z"
   },
   {
    "duration": 227,
    "start_time": "2023-07-11T11:19:52.353Z"
   },
   {
    "duration": 558,
    "start_time": "2023-07-11T11:20:24.428Z"
   },
   {
    "duration": 255,
    "start_time": "2023-07-11T11:20:42.064Z"
   },
   {
    "duration": 261,
    "start_time": "2023-07-11T11:21:07.100Z"
   },
   {
    "duration": 111,
    "start_time": "2023-07-11T11:30:29.797Z"
   },
   {
    "duration": 5,
    "start_time": "2023-07-11T11:31:00.970Z"
   },
   {
    "duration": 4,
    "start_time": "2023-07-11T11:31:05.496Z"
   },
   {
    "duration": 11,
    "start_time": "2023-07-11T11:31:14.266Z"
   },
   {
    "duration": 12,
    "start_time": "2023-07-11T11:33:24.887Z"
   },
   {
    "duration": 16,
    "start_time": "2023-07-11T11:33:31.069Z"
   },
   {
    "duration": 200,
    "start_time": "2023-07-11T11:33:49.358Z"
   },
   {
    "duration": 16,
    "start_time": "2023-07-11T11:33:53.255Z"
   },
   {
    "duration": 12,
    "start_time": "2023-07-11T11:34:12.699Z"
   },
   {
    "duration": 11,
    "start_time": "2023-07-11T11:34:49.978Z"
   },
   {
    "duration": 11,
    "start_time": "2023-07-11T11:35:01.212Z"
   },
   {
    "duration": 12,
    "start_time": "2023-07-11T11:35:20.521Z"
   },
   {
    "duration": 11,
    "start_time": "2023-07-11T11:35:24.007Z"
   },
   {
    "duration": 10,
    "start_time": "2023-07-11T11:35:26.759Z"
   },
   {
    "duration": 11,
    "start_time": "2023-07-11T11:35:29.707Z"
   },
   {
    "duration": 11,
    "start_time": "2023-07-11T11:35:32.700Z"
   },
   {
    "duration": 11,
    "start_time": "2023-07-11T11:35:47.896Z"
   },
   {
    "duration": 19,
    "start_time": "2023-07-11T12:42:40.500Z"
   },
   {
    "duration": 27,
    "start_time": "2023-07-11T12:42:51.101Z"
   },
   {
    "duration": 10,
    "start_time": "2023-07-11T12:43:01.964Z"
   },
   {
    "duration": 13,
    "start_time": "2023-07-11T12:43:09.666Z"
   },
   {
    "duration": 5,
    "start_time": "2023-07-11T12:45:00.195Z"
   },
   {
    "duration": 9,
    "start_time": "2023-07-11T12:47:35.519Z"
   },
   {
    "duration": 8,
    "start_time": "2023-07-11T12:48:45.463Z"
   },
   {
    "duration": 7,
    "start_time": "2023-07-11T12:48:58.823Z"
   },
   {
    "duration": 193,
    "start_time": "2023-07-11T12:49:57.083Z"
   },
   {
    "duration": 68,
    "start_time": "2023-07-11T12:50:13.324Z"
   },
   {
    "duration": 10,
    "start_time": "2023-07-11T12:50:28.155Z"
   },
   {
    "duration": 26,
    "start_time": "2023-07-11T12:50:40.389Z"
   },
   {
    "duration": 9,
    "start_time": "2023-07-11T12:51:00.954Z"
   },
   {
    "duration": 1491,
    "start_time": "2023-07-11T12:51:44.124Z"
   },
   {
    "duration": 122,
    "start_time": "2023-07-11T12:51:45.617Z"
   },
   {
    "duration": 35,
    "start_time": "2023-07-11T12:51:45.742Z"
   },
   {
    "duration": 50,
    "start_time": "2023-07-11T12:51:45.780Z"
   },
   {
    "duration": 99,
    "start_time": "2023-07-11T12:51:45.832Z"
   },
   {
    "duration": 6,
    "start_time": "2023-07-11T12:51:46.926Z"
   },
   {
    "duration": 6,
    "start_time": "2023-07-11T12:51:47.548Z"
   },
   {
    "duration": 5,
    "start_time": "2023-07-11T12:51:48.230Z"
   },
   {
    "duration": 17,
    "start_time": "2023-07-11T12:51:49.434Z"
   },
   {
    "duration": 10,
    "start_time": "2023-07-11T12:51:50.765Z"
   },
   {
    "duration": 10,
    "start_time": "2023-07-11T12:51:51.706Z"
   },
   {
    "duration": 11,
    "start_time": "2023-07-11T12:51:52.365Z"
   },
   {
    "duration": 7,
    "start_time": "2023-07-11T12:51:53.605Z"
   },
   {
    "duration": 3,
    "start_time": "2023-07-11T12:51:54.190Z"
   },
   {
    "duration": 9,
    "start_time": "2023-07-11T12:51:57.209Z"
   },
   {
    "duration": 9,
    "start_time": "2023-07-11T12:51:57.930Z"
   },
   {
    "duration": 29,
    "start_time": "2023-07-11T12:51:59.284Z"
   },
   {
    "duration": 11,
    "start_time": "2023-07-11T12:51:59.828Z"
   },
   {
    "duration": 10,
    "start_time": "2023-07-11T12:52:28.987Z"
   },
   {
    "duration": 8,
    "start_time": "2023-07-11T12:52:36.810Z"
   },
   {
    "duration": 8,
    "start_time": "2023-07-11T12:52:51.733Z"
   },
   {
    "duration": 8,
    "start_time": "2023-07-11T12:53:07.235Z"
   },
   {
    "duration": 11,
    "start_time": "2023-07-11T12:53:33.595Z"
   },
   {
    "duration": 25,
    "start_time": "2023-07-11T12:53:48.227Z"
   },
   {
    "duration": 21,
    "start_time": "2023-07-11T12:54:03.843Z"
   },
   {
    "duration": 117,
    "start_time": "2023-07-11T12:55:09.808Z"
   },
   {
    "duration": 254,
    "start_time": "2023-07-11T12:58:06.602Z"
   },
   {
    "duration": 8,
    "start_time": "2023-07-11T12:59:36.993Z"
   },
   {
    "duration": 6,
    "start_time": "2023-07-11T12:59:37.437Z"
   },
   {
    "duration": 8,
    "start_time": "2023-07-11T12:59:37.850Z"
   },
   {
    "duration": 10,
    "start_time": "2023-07-11T12:59:47.261Z"
   },
   {
    "duration": 8,
    "start_time": "2023-07-11T12:59:47.956Z"
   },
   {
    "duration": 22,
    "start_time": "2023-07-11T12:59:50.269Z"
   },
   {
    "duration": 9,
    "start_time": "2023-07-11T13:04:37.770Z"
   },
   {
    "duration": 39,
    "start_time": "2023-07-11T13:06:01.941Z"
   },
   {
    "duration": 8,
    "start_time": "2023-07-11T13:18:57.922Z"
   },
   {
    "duration": 11,
    "start_time": "2023-07-11T13:20:46.061Z"
   },
   {
    "duration": 11,
    "start_time": "2023-07-11T13:22:38.369Z"
   },
   {
    "duration": 5,
    "start_time": "2023-07-11T13:22:53.102Z"
   },
   {
    "duration": 116,
    "start_time": "2023-07-11T13:23:00.659Z"
   },
   {
    "duration": 6,
    "start_time": "2023-07-11T13:23:22.931Z"
   },
   {
    "duration": 115,
    "start_time": "2023-07-11T13:24:58.021Z"
   },
   {
    "duration": 11,
    "start_time": "2023-07-11T13:25:02.081Z"
   },
   {
    "duration": 28,
    "start_time": "2023-07-11T13:25:07.033Z"
   },
   {
    "duration": 9,
    "start_time": "2023-07-11T13:25:37.792Z"
   },
   {
    "duration": 27,
    "start_time": "2023-07-11T13:26:03.852Z"
   },
   {
    "duration": 7,
    "start_time": "2023-07-11T13:26:15.079Z"
   },
   {
    "duration": 34,
    "start_time": "2023-07-11T13:26:23.875Z"
   },
   {
    "duration": 9,
    "start_time": "2023-07-11T13:26:28.453Z"
   },
   {
    "duration": 4,
    "start_time": "2023-07-11T13:27:24.060Z"
   },
   {
    "duration": 7,
    "start_time": "2023-07-11T13:27:25.645Z"
   },
   {
    "duration": 1406,
    "start_time": "2023-07-11T13:27:58.568Z"
   },
   {
    "duration": 117,
    "start_time": "2023-07-11T13:27:59.976Z"
   },
   {
    "duration": 24,
    "start_time": "2023-07-11T13:28:00.095Z"
   },
   {
    "duration": 82,
    "start_time": "2023-07-11T13:28:00.122Z"
   },
   {
    "duration": 83,
    "start_time": "2023-07-11T13:28:00.207Z"
   },
   {
    "duration": 4,
    "start_time": "2023-07-11T13:28:06.396Z"
   },
   {
    "duration": 11,
    "start_time": "2023-07-11T13:28:06.402Z"
   },
   {
    "duration": 11,
    "start_time": "2023-07-11T13:28:06.415Z"
   },
   {
    "duration": 232,
    "start_time": "2023-07-11T13:28:10.089Z"
   },
   {
    "duration": 8,
    "start_time": "2023-07-11T13:28:10.324Z"
   },
   {
    "duration": 95,
    "start_time": "2023-07-11T13:28:10.335Z"
   },
   {
    "duration": 39,
    "start_time": "2023-07-11T13:28:10.432Z"
   },
   {
    "duration": 51,
    "start_time": "2023-07-11T13:28:10.473Z"
   },
   {
    "duration": 35,
    "start_time": "2023-07-11T13:28:10.526Z"
   },
   {
    "duration": 19,
    "start_time": "2023-07-11T13:28:10.563Z"
   },
   {
    "duration": 23,
    "start_time": "2023-07-11T13:28:10.584Z"
   },
   {
    "duration": 18,
    "start_time": "2023-07-11T13:28:10.609Z"
   },
   {
    "duration": 32,
    "start_time": "2023-07-11T13:28:10.629Z"
   },
   {
    "duration": 26,
    "start_time": "2023-07-11T13:28:10.663Z"
   },
   {
    "duration": 23,
    "start_time": "2023-07-11T13:28:10.692Z"
   },
   {
    "duration": 48,
    "start_time": "2023-07-11T13:28:10.717Z"
   },
   {
    "duration": 9,
    "start_time": "2023-07-11T13:28:20.494Z"
   },
   {
    "duration": 8,
    "start_time": "2023-07-11T13:28:36.455Z"
   },
   {
    "duration": 4,
    "start_time": "2023-07-11T13:30:14.300Z"
   },
   {
    "duration": 8,
    "start_time": "2023-07-11T13:30:16.435Z"
   },
   {
    "duration": 5,
    "start_time": "2023-07-11T13:32:26.041Z"
   },
   {
    "duration": 1498,
    "start_time": "2023-07-11T13:32:26.049Z"
   },
   {
    "duration": 88,
    "start_time": "2023-07-11T13:32:27.549Z"
   },
   {
    "duration": 22,
    "start_time": "2023-07-11T13:32:27.639Z"
   },
   {
    "duration": 18,
    "start_time": "2023-07-11T13:32:27.663Z"
   },
   {
    "duration": 54,
    "start_time": "2023-07-11T13:32:27.683Z"
   },
   {
    "duration": 4,
    "start_time": "2023-07-11T13:32:27.739Z"
   },
   {
    "duration": 14,
    "start_time": "2023-07-11T13:32:27.745Z"
   },
   {
    "duration": 20,
    "start_time": "2023-07-11T13:32:27.761Z"
   },
   {
    "duration": 252,
    "start_time": "2023-07-11T13:32:27.783Z"
   },
   {
    "duration": 9,
    "start_time": "2023-07-11T13:32:28.038Z"
   },
   {
    "duration": 16,
    "start_time": "2023-07-11T13:32:28.048Z"
   },
   {
    "duration": 9,
    "start_time": "2023-07-11T13:32:28.066Z"
   },
   {
    "duration": 31,
    "start_time": "2023-07-11T13:32:28.077Z"
   },
   {
    "duration": 34,
    "start_time": "2023-07-11T13:32:28.110Z"
   },
   {
    "duration": 20,
    "start_time": "2023-07-11T13:32:28.145Z"
   },
   {
    "duration": 26,
    "start_time": "2023-07-11T13:32:28.167Z"
   },
   {
    "duration": 29,
    "start_time": "2023-07-11T13:32:28.195Z"
   },
   {
    "duration": 24,
    "start_time": "2023-07-11T13:32:28.226Z"
   },
   {
    "duration": 35,
    "start_time": "2023-07-11T13:32:28.252Z"
   },
   {
    "duration": 104,
    "start_time": "2023-07-11T13:32:28.290Z"
   },
   {
    "duration": 71,
    "start_time": "2023-07-11T13:32:28.397Z"
   },
   {
    "duration": 19,
    "start_time": "2023-07-11T13:32:28.470Z"
   },
   {
    "duration": 21,
    "start_time": "2023-07-11T13:32:28.491Z"
   },
   {
    "duration": 38,
    "start_time": "2023-07-11T13:32:28.514Z"
   },
   {
    "duration": 230,
    "start_time": "2023-07-11T13:32:28.554Z"
   },
   {
    "duration": 59,
    "start_time": "2023-07-11T13:32:28.787Z"
   },
   {
    "duration": 8,
    "start_time": "2023-07-11T13:32:28.848Z"
   },
   {
    "duration": 63,
    "start_time": "2023-07-11T13:32:28.860Z"
   },
   {
    "duration": 31,
    "start_time": "2023-07-11T13:32:28.925Z"
   },
   {
    "duration": 45,
    "start_time": "2023-07-11T13:32:28.959Z"
   },
   {
    "duration": 60,
    "start_time": "2023-07-11T13:32:29.006Z"
   },
   {
    "duration": 118,
    "start_time": "2023-07-11T13:32:29.068Z"
   },
   {
    "duration": 27,
    "start_time": "2023-07-11T13:32:29.188Z"
   },
   {
    "duration": 32,
    "start_time": "2023-07-11T13:32:29.217Z"
   },
   {
    "duration": 41,
    "start_time": "2023-07-11T13:32:29.251Z"
   },
   {
    "duration": 75,
    "start_time": "2023-07-11T13:32:29.294Z"
   },
   {
    "duration": 39,
    "start_time": "2023-07-11T13:32:29.371Z"
   },
   {
    "duration": 31,
    "start_time": "2023-07-11T13:32:29.413Z"
   },
   {
    "duration": 29,
    "start_time": "2023-07-11T13:32:29.446Z"
   },
   {
    "duration": 37,
    "start_time": "2023-07-11T13:32:29.477Z"
   },
   {
    "duration": 1447,
    "start_time": "2023-07-11T13:32:29.516Z"
   },
   {
    "duration": 6,
    "start_time": "2023-07-11T13:32:30.965Z"
   },
   {
    "duration": 717,
    "start_time": "2023-07-11T13:32:30.973Z"
   },
   {
    "duration": 5,
    "start_time": "2023-07-11T13:32:31.692Z"
   },
   {
    "duration": 13,
    "start_time": "2023-07-11T13:32:31.709Z"
   },
   {
    "duration": 15,
    "start_time": "2023-07-11T13:32:31.724Z"
   },
   {
    "duration": 260,
    "start_time": "2023-07-11T13:32:31.741Z"
   },
   {
    "duration": 412,
    "start_time": "2023-07-11T13:32:32.010Z"
   },
   {
    "duration": 8,
    "start_time": "2023-07-11T13:32:32.424Z"
   },
   {
    "duration": 479,
    "start_time": "2023-07-11T13:32:32.435Z"
   },
   {
    "duration": 6,
    "start_time": "2023-07-11T13:32:32.916Z"
   },
   {
    "duration": 487,
    "start_time": "2023-07-11T13:32:32.924Z"
   },
   {
    "duration": 8,
    "start_time": "2023-07-11T13:32:33.413Z"
   },
   {
    "duration": 369,
    "start_time": "2023-07-11T13:32:33.423Z"
   },
   {
    "duration": 4,
    "start_time": "2023-07-11T13:32:33.794Z"
   },
   {
    "duration": 9,
    "start_time": "2023-07-11T13:32:33.808Z"
   },
   {
    "duration": 15,
    "start_time": "2023-07-11T13:32:33.819Z"
   },
   {
    "duration": 516,
    "start_time": "2023-07-11T13:32:33.836Z"
   },
   {
    "duration": 266,
    "start_time": "2023-07-11T13:32:34.354Z"
   },
   {
    "duration": 7,
    "start_time": "2023-07-11T13:32:34.622Z"
   },
   {
    "duration": 128,
    "start_time": "2023-07-11T13:32:34.631Z"
   },
   {
    "duration": 148,
    "start_time": "2023-07-11T13:32:34.761Z"
   },
   {
    "duration": 55,
    "start_time": "2023-07-11T13:32:34.911Z"
   },
   {
    "duration": 678,
    "start_time": "2023-07-11T13:32:34.968Z"
   },
   {
    "duration": 5,
    "start_time": "2023-07-11T13:32:35.648Z"
   },
   {
    "duration": 129,
    "start_time": "2023-07-11T13:32:35.655Z"
   },
   {
    "duration": 49,
    "start_time": "2023-07-11T13:32:35.787Z"
   },
   {
    "duration": 19,
    "start_time": "2023-07-11T13:32:35.838Z"
   },
   {
    "duration": 628,
    "start_time": "2023-07-11T13:32:35.859Z"
   },
   {
    "duration": 5,
    "start_time": "2023-07-11T13:32:36.488Z"
   },
   {
    "duration": 22,
    "start_time": "2023-07-11T13:32:36.509Z"
   },
   {
    "duration": 36,
    "start_time": "2023-07-11T13:32:36.532Z"
   },
   {
    "duration": 501,
    "start_time": "2023-07-11T13:32:36.570Z"
   },
   {
    "duration": 5,
    "start_time": "2023-07-11T13:32:37.073Z"
   },
   {
    "duration": 391,
    "start_time": "2023-07-11T13:32:37.080Z"
   },
   {
    "duration": 7,
    "start_time": "2023-07-11T13:32:37.473Z"
   },
   {
    "duration": 19,
    "start_time": "2023-07-11T13:32:37.482Z"
   },
   {
    "duration": 34,
    "start_time": "2023-07-11T13:32:37.503Z"
   },
   {
    "duration": 621,
    "start_time": "2023-07-11T13:32:37.539Z"
   },
   {
    "duration": 269,
    "start_time": "2023-07-11T13:32:38.162Z"
   },
   {
    "duration": 379,
    "start_time": "2023-07-11T13:32:38.433Z"
   },
   {
    "duration": 6,
    "start_time": "2023-07-11T13:32:38.821Z"
   },
   {
    "duration": 15,
    "start_time": "2023-07-11T13:32:38.830Z"
   },
   {
    "duration": 10,
    "start_time": "2023-07-11T13:32:38.847Z"
   },
   {
    "duration": 627,
    "start_time": "2023-07-11T13:32:38.860Z"
   },
   {
    "duration": 8,
    "start_time": "2023-07-11T13:32:39.489Z"
   },
   {
    "duration": 19,
    "start_time": "2023-07-11T13:32:39.510Z"
   },
   {
    "duration": 23,
    "start_time": "2023-07-11T13:32:39.531Z"
   },
   {
    "duration": 388,
    "start_time": "2023-07-11T13:32:39.557Z"
   },
   {
    "duration": 9,
    "start_time": "2023-07-11T13:32:39.947Z"
   },
   {
    "duration": 35,
    "start_time": "2023-07-11T13:32:39.958Z"
   },
   {
    "duration": 46,
    "start_time": "2023-07-11T13:32:39.995Z"
   },
   {
    "duration": 17,
    "start_time": "2023-07-11T13:32:40.042Z"
   },
   {
    "duration": 17,
    "start_time": "2023-07-11T13:32:40.061Z"
   },
   {
    "duration": 19,
    "start_time": "2023-07-11T13:32:40.080Z"
   },
   {
    "duration": 76,
    "start_time": "2023-07-11T13:32:40.101Z"
   },
   {
    "duration": 7,
    "start_time": "2023-07-11T13:32:40.179Z"
   },
   {
    "duration": 21,
    "start_time": "2023-07-11T13:32:40.187Z"
   },
   {
    "duration": 58,
    "start_time": "2023-07-11T13:32:40.210Z"
   },
   {
    "duration": 6,
    "start_time": "2023-07-11T13:32:40.269Z"
   },
   {
    "duration": 42,
    "start_time": "2023-07-11T13:32:40.277Z"
   },
   {
    "duration": 79,
    "start_time": "2023-07-11T13:32:40.322Z"
   },
   {
    "duration": 15,
    "start_time": "2023-07-11T13:32:40.403Z"
   },
   {
    "duration": 22,
    "start_time": "2023-07-11T13:32:40.420Z"
   },
   {
    "duration": 20,
    "start_time": "2023-07-11T13:32:40.444Z"
   },
   {
    "duration": 21,
    "start_time": "2023-07-11T13:32:40.466Z"
   },
   {
    "duration": 35,
    "start_time": "2023-07-11T13:32:40.489Z"
   },
   {
    "duration": 21,
    "start_time": "2023-07-11T13:32:40.527Z"
   },
   {
    "duration": 11,
    "start_time": "2023-07-11T13:32:40.550Z"
   },
   {
    "duration": 161,
    "start_time": "2023-07-11T13:32:40.563Z"
   },
   {
    "duration": 0,
    "start_time": "2023-07-11T13:32:40.726Z"
   },
   {
    "duration": 0,
    "start_time": "2023-07-11T13:32:40.727Z"
   },
   {
    "duration": 123,
    "start_time": "2023-07-11T13:44:23.539Z"
   },
   {
    "duration": 15,
    "start_time": "2023-07-11T13:55:30.767Z"
   },
   {
    "duration": 71,
    "start_time": "2023-07-11T13:56:17.007Z"
   },
   {
    "duration": 4,
    "start_time": "2023-07-11T13:56:24.116Z"
   },
   {
    "duration": 7,
    "start_time": "2023-07-11T13:56:24.592Z"
   },
   {
    "duration": 4,
    "start_time": "2023-07-11T13:56:56.863Z"
   },
   {
    "duration": 9,
    "start_time": "2023-07-11T13:56:57.267Z"
   },
   {
    "duration": 4,
    "start_time": "2023-07-11T13:57:11.683Z"
   },
   {
    "duration": 9,
    "start_time": "2023-07-11T13:57:12.210Z"
   },
   {
    "duration": 5,
    "start_time": "2023-07-11T13:57:16.177Z"
   },
   {
    "duration": 12,
    "start_time": "2023-07-11T13:57:16.629Z"
   },
   {
    "duration": 4,
    "start_time": "2023-07-11T13:57:24.080Z"
   },
   {
    "duration": 8,
    "start_time": "2023-07-11T13:57:24.784Z"
   },
   {
    "duration": 4,
    "start_time": "2023-07-11T13:58:23.027Z"
   },
   {
    "duration": 12,
    "start_time": "2023-07-11T13:58:23.387Z"
   },
   {
    "duration": 5,
    "start_time": "2023-07-11T13:59:00.930Z"
   },
   {
    "duration": 11,
    "start_time": "2023-07-11T13:59:01.668Z"
   },
   {
    "duration": 5,
    "start_time": "2023-07-11T14:01:18.455Z"
   },
   {
    "duration": 19,
    "start_time": "2023-07-11T14:01:19.093Z"
   },
   {
    "duration": 20,
    "start_time": "2023-07-11T14:02:06.814Z"
   },
   {
    "duration": 14,
    "start_time": "2023-07-11T14:02:14.192Z"
   },
   {
    "duration": 27,
    "start_time": "2023-07-11T14:02:24.003Z"
   },
   {
    "duration": 29,
    "start_time": "2023-07-11T14:02:29.496Z"
   },
   {
    "duration": 6,
    "start_time": "2023-07-11T14:14:30.997Z"
   },
   {
    "duration": 5,
    "start_time": "2023-07-11T14:14:58.656Z"
   },
   {
    "duration": 10,
    "start_time": "2023-07-11T14:15:22.767Z"
   },
   {
    "duration": 24,
    "start_time": "2023-07-11T14:15:36.199Z"
   },
   {
    "duration": 20,
    "start_time": "2023-07-11T14:15:39.032Z"
   },
   {
    "duration": 4,
    "start_time": "2023-07-11T14:16:23.594Z"
   },
   {
    "duration": 36,
    "start_time": "2023-07-11T14:16:26.903Z"
   },
   {
    "duration": 5,
    "start_time": "2023-07-11T14:16:46.761Z"
   },
   {
    "duration": 15,
    "start_time": "2023-07-11T14:16:49.935Z"
   },
   {
    "duration": 15,
    "start_time": "2023-07-11T14:21:55.652Z"
   },
   {
    "duration": 111,
    "start_time": "2023-07-11T14:23:26.388Z"
   },
   {
    "duration": 99,
    "start_time": "2023-07-11T14:23:28.991Z"
   },
   {
    "duration": 15,
    "start_time": "2023-07-11T14:23:32.652Z"
   },
   {
    "duration": 4,
    "start_time": "2023-07-11T14:23:48.306Z"
   },
   {
    "duration": 6,
    "start_time": "2023-07-11T14:38:34.498Z"
   },
   {
    "duration": 7,
    "start_time": "2023-07-11T14:39:23.884Z"
   },
   {
    "duration": 416,
    "start_time": "2023-07-11T14:45:55.797Z"
   },
   {
    "duration": 12,
    "start_time": "2023-07-11T14:56:42.017Z"
   },
   {
    "duration": 11,
    "start_time": "2023-07-11T14:56:42.916Z"
   },
   {
    "duration": 13,
    "start_time": "2023-07-11T14:56:43.528Z"
   },
   {
    "duration": 13,
    "start_time": "2023-07-11T14:56:44.547Z"
   },
   {
    "duration": 4,
    "start_time": "2023-07-11T15:02:30.481Z"
   },
   {
    "duration": 1459,
    "start_time": "2023-07-11T15:02:30.487Z"
   },
   {
    "duration": 83,
    "start_time": "2023-07-11T15:02:31.949Z"
   },
   {
    "duration": 23,
    "start_time": "2023-07-11T15:02:32.033Z"
   },
   {
    "duration": 56,
    "start_time": "2023-07-11T15:02:32.059Z"
   },
   {
    "duration": 61,
    "start_time": "2023-07-11T15:02:32.117Z"
   },
   {
    "duration": 6,
    "start_time": "2023-07-11T15:02:32.180Z"
   },
   {
    "duration": 29,
    "start_time": "2023-07-11T15:02:32.188Z"
   },
   {
    "duration": 53,
    "start_time": "2023-07-11T15:02:32.219Z"
   },
   {
    "duration": 306,
    "start_time": "2023-07-11T15:02:32.275Z"
   },
   {
    "duration": 9,
    "start_time": "2023-07-11T15:02:32.585Z"
   },
   {
    "duration": 75,
    "start_time": "2023-07-11T15:02:32.609Z"
   },
   {
    "duration": 40,
    "start_time": "2023-07-11T15:02:32.686Z"
   },
   {
    "duration": 81,
    "start_time": "2023-07-11T15:02:32.729Z"
   },
   {
    "duration": 44,
    "start_time": "2023-07-11T15:02:32.811Z"
   },
   {
    "duration": 62,
    "start_time": "2023-07-11T15:02:32.857Z"
   },
   {
    "duration": 122,
    "start_time": "2023-07-11T15:02:32.921Z"
   },
   {
    "duration": 104,
    "start_time": "2023-07-11T15:02:33.045Z"
   },
   {
    "duration": 52,
    "start_time": "2023-07-11T15:02:33.151Z"
   },
   {
    "duration": 20,
    "start_time": "2023-07-11T15:02:33.204Z"
   },
   {
    "duration": 13,
    "start_time": "2023-07-11T15:02:33.226Z"
   },
   {
    "duration": 29,
    "start_time": "2023-07-11T15:02:33.241Z"
   },
   {
    "duration": 4,
    "start_time": "2023-07-11T15:02:33.272Z"
   },
   {
    "duration": 9,
    "start_time": "2023-07-11T15:02:33.278Z"
   },
   {
    "duration": 236,
    "start_time": "2023-07-11T15:02:33.289Z"
   },
   {
    "duration": 47,
    "start_time": "2023-07-11T15:02:33.527Z"
   },
   {
    "duration": 7,
    "start_time": "2023-07-11T15:02:33.576Z"
   },
   {
    "duration": 24,
    "start_time": "2023-07-11T15:02:33.585Z"
   },
   {
    "duration": 15,
    "start_time": "2023-07-11T15:02:33.613Z"
   },
   {
    "duration": 19,
    "start_time": "2023-07-11T15:02:33.630Z"
   },
   {
    "duration": 4,
    "start_time": "2023-07-11T15:02:33.651Z"
   },
   {
    "duration": 21,
    "start_time": "2023-07-11T15:02:33.657Z"
   },
   {
    "duration": 14,
    "start_time": "2023-07-11T15:02:33.679Z"
   },
   {
    "duration": 16,
    "start_time": "2023-07-11T15:02:33.695Z"
   },
   {
    "duration": 19,
    "start_time": "2023-07-11T15:02:33.713Z"
   },
   {
    "duration": 75,
    "start_time": "2023-07-11T15:02:33.734Z"
   },
   {
    "duration": 22,
    "start_time": "2023-07-11T15:02:33.811Z"
   },
   {
    "duration": 23,
    "start_time": "2023-07-11T15:02:33.836Z"
   },
   {
    "duration": 49,
    "start_time": "2023-07-11T15:02:33.861Z"
   },
   {
    "duration": 22,
    "start_time": "2023-07-11T15:02:33.912Z"
   },
   {
    "duration": 1399,
    "start_time": "2023-07-11T15:02:33.936Z"
   },
   {
    "duration": 4,
    "start_time": "2023-07-11T15:02:35.337Z"
   },
   {
    "duration": 782,
    "start_time": "2023-07-11T15:02:35.343Z"
   },
   {
    "duration": 5,
    "start_time": "2023-07-11T15:02:36.126Z"
   },
   {
    "duration": 20,
    "start_time": "2023-07-11T15:02:36.133Z"
   },
   {
    "duration": 13,
    "start_time": "2023-07-11T15:02:36.155Z"
   },
   {
    "duration": 264,
    "start_time": "2023-07-11T15:02:36.170Z"
   },
   {
    "duration": 400,
    "start_time": "2023-07-11T15:02:36.436Z"
   },
   {
    "duration": 6,
    "start_time": "2023-07-11T15:02:36.838Z"
   },
   {
    "duration": 427,
    "start_time": "2023-07-11T15:02:36.846Z"
   },
   {
    "duration": 6,
    "start_time": "2023-07-11T15:02:37.275Z"
   },
   {
    "duration": 395,
    "start_time": "2023-07-11T15:02:37.283Z"
   },
   {
    "duration": 7,
    "start_time": "2023-07-11T15:02:37.680Z"
   },
   {
    "duration": 402,
    "start_time": "2023-07-11T15:02:37.689Z"
   },
   {
    "duration": 4,
    "start_time": "2023-07-11T15:02:38.093Z"
   },
   {
    "duration": 16,
    "start_time": "2023-07-11T15:02:38.108Z"
   },
   {
    "duration": 19,
    "start_time": "2023-07-11T15:02:38.125Z"
   },
   {
    "duration": 483,
    "start_time": "2023-07-11T15:02:38.146Z"
   },
   {
    "duration": 5,
    "start_time": "2023-07-11T15:02:38.631Z"
   },
   {
    "duration": 16,
    "start_time": "2023-07-11T15:02:38.638Z"
   },
   {
    "duration": 10,
    "start_time": "2023-07-11T15:02:38.656Z"
   },
   {
    "duration": 32,
    "start_time": "2023-07-11T15:02:38.668Z"
   },
   {
    "duration": 252,
    "start_time": "2023-07-11T15:02:38.703Z"
   },
   {
    "duration": 609,
    "start_time": "2023-07-11T15:02:38.957Z"
   },
   {
    "duration": 5,
    "start_time": "2023-07-11T15:02:39.568Z"
   },
   {
    "duration": 25,
    "start_time": "2023-07-11T15:02:39.575Z"
   },
   {
    "duration": 15,
    "start_time": "2023-07-11T15:02:39.602Z"
   },
   {
    "duration": 23,
    "start_time": "2023-07-11T15:02:39.618Z"
   },
   {
    "duration": 581,
    "start_time": "2023-07-11T15:02:39.643Z"
   },
   {
    "duration": 4,
    "start_time": "2023-07-11T15:02:40.226Z"
   },
   {
    "duration": 11,
    "start_time": "2023-07-11T15:02:40.232Z"
   },
   {
    "duration": 46,
    "start_time": "2023-07-11T15:02:40.245Z"
   },
   {
    "duration": 530,
    "start_time": "2023-07-11T15:02:40.293Z"
   },
   {
    "duration": 5,
    "start_time": "2023-07-11T15:02:40.825Z"
   },
   {
    "duration": 541,
    "start_time": "2023-07-11T15:02:40.832Z"
   },
   {
    "duration": 7,
    "start_time": "2023-07-11T15:02:41.375Z"
   },
   {
    "duration": 35,
    "start_time": "2023-07-11T15:02:41.384Z"
   },
   {
    "duration": 27,
    "start_time": "2023-07-11T15:02:41.421Z"
   },
   {
    "duration": 593,
    "start_time": "2023-07-11T15:02:41.450Z"
   },
   {
    "duration": 239,
    "start_time": "2023-07-11T15:02:42.045Z"
   },
   {
    "duration": 393,
    "start_time": "2023-07-11T15:02:42.285Z"
   },
   {
    "duration": 4,
    "start_time": "2023-07-11T15:02:42.680Z"
   },
   {
    "duration": 21,
    "start_time": "2023-07-11T15:02:42.691Z"
   },
   {
    "duration": 22,
    "start_time": "2023-07-11T15:02:42.714Z"
   },
   {
    "duration": 513,
    "start_time": "2023-07-11T15:02:42.738Z"
   },
   {
    "duration": 5,
    "start_time": "2023-07-11T15:02:43.253Z"
   },
   {
    "duration": 22,
    "start_time": "2023-07-11T15:02:43.260Z"
   },
   {
    "duration": 8,
    "start_time": "2023-07-11T15:02:43.284Z"
   },
   {
    "duration": 385,
    "start_time": "2023-07-11T15:02:43.293Z"
   },
   {
    "duration": 7,
    "start_time": "2023-07-11T15:02:43.680Z"
   },
   {
    "duration": 26,
    "start_time": "2023-07-11T15:02:43.688Z"
   },
   {
    "duration": 13,
    "start_time": "2023-07-11T15:02:43.716Z"
   },
   {
    "duration": 20,
    "start_time": "2023-07-11T15:02:43.731Z"
   },
   {
    "duration": 20,
    "start_time": "2023-07-11T15:02:43.753Z"
   },
   {
    "duration": 46,
    "start_time": "2023-07-11T15:02:43.775Z"
   },
   {
    "duration": 64,
    "start_time": "2023-07-11T15:02:43.823Z"
   },
   {
    "duration": 8,
    "start_time": "2023-07-11T15:02:43.890Z"
   },
   {
    "duration": 14,
    "start_time": "2023-07-11T15:02:43.900Z"
   },
   {
    "duration": 74,
    "start_time": "2023-07-11T15:02:43.916Z"
   },
   {
    "duration": 9,
    "start_time": "2023-07-11T15:02:43.993Z"
   },
   {
    "duration": 55,
    "start_time": "2023-07-11T15:02:44.009Z"
   },
   {
    "duration": 72,
    "start_time": "2023-07-11T15:02:44.067Z"
   },
   {
    "duration": 12,
    "start_time": "2023-07-11T15:02:44.142Z"
   },
   {
    "duration": 13,
    "start_time": "2023-07-11T15:02:44.155Z"
   },
   {
    "duration": 19,
    "start_time": "2023-07-11T15:02:44.170Z"
   },
   {
    "duration": 27,
    "start_time": "2023-07-11T15:02:44.192Z"
   },
   {
    "duration": 30,
    "start_time": "2023-07-11T15:02:44.221Z"
   },
   {
    "duration": 52,
    "start_time": "2023-07-11T15:02:44.253Z"
   },
   {
    "duration": 22,
    "start_time": "2023-07-11T15:02:44.307Z"
   },
   {
    "duration": 23,
    "start_time": "2023-07-11T15:02:44.331Z"
   },
   {
    "duration": 22,
    "start_time": "2023-07-11T15:02:44.356Z"
   },
   {
    "duration": 15,
    "start_time": "2023-07-11T15:02:44.381Z"
   },
   {
    "duration": 114,
    "start_time": "2023-07-11T15:02:44.398Z"
   },
   {
    "duration": 14,
    "start_time": "2023-07-11T15:03:03.894Z"
   },
   {
    "duration": 4,
    "start_time": "2023-07-11T15:03:12.187Z"
   },
   {
    "duration": 1640,
    "start_time": "2023-07-11T15:03:12.194Z"
   },
   {
    "duration": 118,
    "start_time": "2023-07-11T15:03:13.836Z"
   },
   {
    "duration": 30,
    "start_time": "2023-07-11T15:03:13.956Z"
   },
   {
    "duration": 23,
    "start_time": "2023-07-11T15:03:13.989Z"
   },
   {
    "duration": 67,
    "start_time": "2023-07-11T15:03:14.014Z"
   },
   {
    "duration": 5,
    "start_time": "2023-07-11T15:03:14.083Z"
   },
   {
    "duration": 18,
    "start_time": "2023-07-11T15:03:14.090Z"
   },
   {
    "duration": 59,
    "start_time": "2023-07-11T15:03:14.111Z"
   },
   {
    "duration": 272,
    "start_time": "2023-07-11T15:03:14.172Z"
   },
   {
    "duration": 8,
    "start_time": "2023-07-11T15:03:14.447Z"
   },
   {
    "duration": 28,
    "start_time": "2023-07-11T15:03:14.457Z"
   },
   {
    "duration": 39,
    "start_time": "2023-07-11T15:03:14.487Z"
   },
   {
    "duration": 58,
    "start_time": "2023-07-11T15:03:14.528Z"
   },
   {
    "duration": 33,
    "start_time": "2023-07-11T15:03:14.588Z"
   },
   {
    "duration": 12,
    "start_time": "2023-07-11T15:03:14.623Z"
   },
   {
    "duration": 12,
    "start_time": "2023-07-11T15:03:14.637Z"
   },
   {
    "duration": 11,
    "start_time": "2023-07-11T15:03:14.651Z"
   },
   {
    "duration": 6,
    "start_time": "2023-07-11T15:03:14.664Z"
   },
   {
    "duration": 22,
    "start_time": "2023-07-11T15:03:14.671Z"
   },
   {
    "duration": 14,
    "start_time": "2023-07-11T15:03:14.695Z"
   },
   {
    "duration": 22,
    "start_time": "2023-07-11T15:03:14.711Z"
   },
   {
    "duration": 5,
    "start_time": "2023-07-11T15:03:14.735Z"
   },
   {
    "duration": 29,
    "start_time": "2023-07-11T15:03:14.742Z"
   },
   {
    "duration": 255,
    "start_time": "2023-07-11T15:03:14.773Z"
   },
   {
    "duration": 47,
    "start_time": "2023-07-11T15:03:15.030Z"
   },
   {
    "duration": 53,
    "start_time": "2023-07-11T15:03:15.079Z"
   },
   {
    "duration": 11,
    "start_time": "2023-07-11T15:03:15.134Z"
   },
   {
    "duration": 33,
    "start_time": "2023-07-11T15:03:15.150Z"
   },
   {
    "duration": 24,
    "start_time": "2023-07-11T15:03:15.185Z"
   },
   {
    "duration": 65,
    "start_time": "2023-07-11T15:03:15.211Z"
   },
   {
    "duration": 37,
    "start_time": "2023-07-11T15:03:15.277Z"
   },
   {
    "duration": 27,
    "start_time": "2023-07-11T15:03:15.316Z"
   },
   {
    "duration": 15,
    "start_time": "2023-07-11T15:03:15.345Z"
   },
   {
    "duration": 50,
    "start_time": "2023-07-11T15:03:15.362Z"
   },
   {
    "duration": 84,
    "start_time": "2023-07-11T15:03:15.414Z"
   },
   {
    "duration": 23,
    "start_time": "2023-07-11T15:03:15.500Z"
   },
   {
    "duration": 22,
    "start_time": "2023-07-11T15:03:15.524Z"
   },
   {
    "duration": 17,
    "start_time": "2023-07-11T15:03:15.548Z"
   },
   {
    "duration": 45,
    "start_time": "2023-07-11T15:03:15.568Z"
   },
   {
    "duration": 1492,
    "start_time": "2023-07-11T15:03:15.615Z"
   },
   {
    "duration": 6,
    "start_time": "2023-07-11T15:03:17.110Z"
   },
   {
    "duration": 640,
    "start_time": "2023-07-11T15:03:17.118Z"
   },
   {
    "duration": 5,
    "start_time": "2023-07-11T15:03:17.759Z"
   },
   {
    "duration": 358,
    "start_time": "2023-07-11T15:03:17.766Z"
   },
   {
    "duration": 35,
    "start_time": "2023-07-11T15:03:18.126Z"
   },
   {
    "duration": 267,
    "start_time": "2023-07-11T15:03:18.163Z"
   },
   {
    "duration": 364,
    "start_time": "2023-07-11T15:03:18.432Z"
   },
   {
    "duration": 7,
    "start_time": "2023-07-11T15:03:18.810Z"
   },
   {
    "duration": 369,
    "start_time": "2023-07-11T15:03:18.819Z"
   },
   {
    "duration": 20,
    "start_time": "2023-07-11T15:03:19.190Z"
   },
   {
    "duration": 481,
    "start_time": "2023-07-11T15:03:19.212Z"
   },
   {
    "duration": 16,
    "start_time": "2023-07-11T15:03:19.695Z"
   },
   {
    "duration": 383,
    "start_time": "2023-07-11T15:03:19.714Z"
   },
   {
    "duration": 11,
    "start_time": "2023-07-11T15:03:20.099Z"
   },
   {
    "duration": 45,
    "start_time": "2023-07-11T15:03:20.112Z"
   },
   {
    "duration": 28,
    "start_time": "2023-07-11T15:03:20.159Z"
   },
   {
    "duration": 537,
    "start_time": "2023-07-11T15:03:20.189Z"
   },
   {
    "duration": 5,
    "start_time": "2023-07-11T15:03:20.728Z"
   },
   {
    "duration": 30,
    "start_time": "2023-07-11T15:03:20.734Z"
   },
   {
    "duration": 40,
    "start_time": "2023-07-11T15:03:20.766Z"
   },
   {
    "duration": 40,
    "start_time": "2023-07-11T15:03:20.808Z"
   },
   {
    "duration": 290,
    "start_time": "2023-07-11T15:03:20.850Z"
   },
   {
    "duration": 609,
    "start_time": "2023-07-11T15:03:21.142Z"
   },
   {
    "duration": 7,
    "start_time": "2023-07-11T15:03:21.753Z"
   },
   {
    "duration": 83,
    "start_time": "2023-07-11T15:03:21.763Z"
   },
   {
    "duration": 54,
    "start_time": "2023-07-11T15:03:21.849Z"
   },
   {
    "duration": 52,
    "start_time": "2023-07-11T15:03:21.906Z"
   },
   {
    "duration": 664,
    "start_time": "2023-07-11T15:03:21.961Z"
   },
   {
    "duration": 4,
    "start_time": "2023-07-11T15:03:22.627Z"
   },
   {
    "duration": 57,
    "start_time": "2023-07-11T15:03:22.634Z"
   },
   {
    "duration": 68,
    "start_time": "2023-07-11T15:03:22.693Z"
   },
   {
    "duration": 562,
    "start_time": "2023-07-11T15:03:22.762Z"
   },
   {
    "duration": 5,
    "start_time": "2023-07-11T15:03:23.326Z"
   },
   {
    "duration": 439,
    "start_time": "2023-07-11T15:03:23.333Z"
   },
   {
    "duration": 6,
    "start_time": "2023-07-11T15:03:23.775Z"
   },
   {
    "duration": 79,
    "start_time": "2023-07-11T15:03:23.783Z"
   },
   {
    "duration": 34,
    "start_time": "2023-07-11T15:03:23.863Z"
   },
   {
    "duration": 627,
    "start_time": "2023-07-11T15:03:23.899Z"
   },
   {
    "duration": 247,
    "start_time": "2023-07-11T15:03:24.528Z"
   },
   {
    "duration": 386,
    "start_time": "2023-07-11T15:03:24.777Z"
   },
   {
    "duration": 4,
    "start_time": "2023-07-11T15:03:25.165Z"
   },
   {
    "duration": 40,
    "start_time": "2023-07-11T15:03:25.175Z"
   },
   {
    "duration": 66,
    "start_time": "2023-07-11T15:03:25.217Z"
   },
   {
    "duration": 615,
    "start_time": "2023-07-11T15:03:25.285Z"
   },
   {
    "duration": 9,
    "start_time": "2023-07-11T15:03:25.902Z"
   },
   {
    "duration": 35,
    "start_time": "2023-07-11T15:03:25.914Z"
   },
   {
    "duration": 22,
    "start_time": "2023-07-11T15:03:25.951Z"
   },
   {
    "duration": 413,
    "start_time": "2023-07-11T15:03:25.975Z"
   },
   {
    "duration": 19,
    "start_time": "2023-07-11T15:03:26.391Z"
   },
   {
    "duration": 9,
    "start_time": "2023-07-11T15:03:26.411Z"
   },
   {
    "duration": 29,
    "start_time": "2023-07-11T15:03:26.422Z"
   },
   {
    "duration": 54,
    "start_time": "2023-07-11T15:03:26.453Z"
   },
   {
    "duration": 49,
    "start_time": "2023-07-11T15:03:26.509Z"
   },
   {
    "duration": 47,
    "start_time": "2023-07-11T15:03:26.560Z"
   },
   {
    "duration": 126,
    "start_time": "2023-07-11T15:03:26.609Z"
   },
   {
    "duration": 9,
    "start_time": "2023-07-11T15:03:26.737Z"
   },
   {
    "duration": 42,
    "start_time": "2023-07-11T15:03:26.747Z"
   },
   {
    "duration": 78,
    "start_time": "2023-07-11T15:03:26.791Z"
   },
   {
    "duration": 7,
    "start_time": "2023-07-11T15:03:26.870Z"
   },
   {
    "duration": 55,
    "start_time": "2023-07-11T15:03:26.879Z"
   },
   {
    "duration": 106,
    "start_time": "2023-07-11T15:03:26.936Z"
   },
   {
    "duration": 38,
    "start_time": "2023-07-11T15:03:27.044Z"
   },
   {
    "duration": 42,
    "start_time": "2023-07-11T15:03:27.083Z"
   },
   {
    "duration": 67,
    "start_time": "2023-07-11T15:03:27.127Z"
   },
   {
    "duration": 107,
    "start_time": "2023-07-11T15:03:27.197Z"
   },
   {
    "duration": 59,
    "start_time": "2023-07-11T15:03:27.307Z"
   },
   {
    "duration": 29,
    "start_time": "2023-07-11T15:03:27.368Z"
   },
   {
    "duration": 33,
    "start_time": "2023-07-11T15:03:27.399Z"
   },
   {
    "duration": 16,
    "start_time": "2023-07-11T15:03:27.434Z"
   },
   {
    "duration": 25,
    "start_time": "2023-07-11T15:03:27.452Z"
   },
   {
    "duration": 17,
    "start_time": "2023-07-11T15:03:27.479Z"
   },
   {
    "duration": 27,
    "start_time": "2023-07-11T15:03:27.498Z"
   },
   {
    "duration": 160,
    "start_time": "2023-07-12T12:04:17.129Z"
   }
  ],
  "kernelspec": {
   "display_name": "Python 3 (ipykernel)",
   "language": "python",
   "name": "python3"
  },
  "language_info": {
   "codemirror_mode": {
    "name": "ipython",
    "version": 3
   },
   "file_extension": ".py",
   "mimetype": "text/x-python",
   "name": "python",
   "nbconvert_exporter": "python",
   "pygments_lexer": "ipython3",
   "version": "3.9.13"
  },
  "toc": {
   "base_numbering": 1,
   "nav_menu": {},
   "number_sections": true,
   "sideBar": true,
   "skip_h1_title": true,
   "title_cell": "Table of Contents",
   "title_sidebar": "Contents",
   "toc_cell": false,
   "toc_position": {
    "height": "calc(100% - 180px)",
    "left": "10px",
    "top": "150px",
    "width": "275px"
   },
   "toc_section_display": true,
   "toc_window_display": false
  }
 },
 "nbformat": 4,
 "nbformat_minor": 2
}
